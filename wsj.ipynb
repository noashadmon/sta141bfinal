{
 "cells": [
  {
   "cell_type": "code",
   "execution_count": 1,
   "metadata": {
    "collapsed": true
   },
   "outputs": [],
   "source": [
    "import requests\n",
    "#import requests_ftp\n",
    "import requests_cache\n",
    "import lxml\n",
    "import urllib2\n",
    "from bs4 import BeautifulSoup\n",
    "from collections import Counter\n",
    "from matplotlib import pyplot as plt\n",
    "import pandas as pd\n",
    "plt.style.use('ggplot')\n",
    "#requests_cache.install_cache('coll_cache')\n",
    "%matplotlib inline"
   ]
  },
  {
   "cell_type": "code",
   "execution_count": 2,
   "metadata": {
    "collapsed": true
   },
   "outputs": [],
   "source": [
    "climreq = requests.get(\"https://www.wsj.com/news/politics\")\n",
    "climhtml = climreq.text\n",
    "clim = BeautifulSoup(climhtml, \"lxml\")\n",
    "links = clim.find_all('h3', {'class': ['wsj-headline']}) #, {'class': ['story-heading']})"
   ]
  },
  {
   "cell_type": "code",
   "execution_count": 3,
   "metadata": {
    "collapsed": false
   },
   "outputs": [
    {
     "data": {
      "text/plain": [
       "[<h3 class=\"wsj-headline dj-sg LEAD heading-9 locked\" data-reactid=\".1q7c8a0qtj4.1.1.6.1.0.2.0.0.0.1\" itemprop=\"name\"><a class=\"wsj-headline-link\" data-reactid=\".1q7c8a0qtj4.1.1.6.1.0.2.0.0.0.1.0\" href=\"https://www.wsj.com/articles/cbo-estimates-14-million-more-uninsured-next-year-under-gop-plan-1489436927\">CBO Sees 24 Million More Uninsured, $337 Billion Deficit Cut With GOP Plan</a></h3>,\n",
       " <h3 class=\"wsj-headline dj-sg heading-14 unlocked\" data-reactid=\".1q7c8a0qtj4.1.1.6.1.0.2.0.0.0.2.0.1.1.$0.0\" itemprop=\"name\"><a class=\"wsj-headline-link\" data-reactid=\".1q7c8a0qtj4.1.1.6.1.0.2.0.0.0.2.0.1.1.$0.0.0\" href=\"http://blogs.wsj.com/washwire/2017/03/13/cbo-report-highlights-health-coverage-insurance-premiums-and-federal-deficits/\">CBO Report Highlights: Health Coverage, Insurance Premiums and Federal Deficits</a></h3>,\n",
       " <h3 class=\"wsj-headline dj-sg heading-14 locked\" data-reactid=\".1q7c8a0qtj4.1.1.6.1.0.2.0.0.0.2.0.1.1.$1.0\" itemprop=\"name\"><a class=\"wsj-headline-link\" data-reactid=\".1q7c8a0qtj4.1.1.6.1.0.2.0.0.0.2.0.1.1.$1.0.0\" href=\"https://www.wsj.com/articles/trump-administration-officials-defend-gop-health-bill-amid-party-disagreement-1489338178\">Trump Administration Officials Defend GOP Health Bill</a></h3>,\n",
       " <h3 class=\"wsj-headline dj-sg heading-14 locked\" data-reactid=\".1q7c8a0qtj4.1.1.6.1.0.2.0.0.0.2.0.1.1.$2.0\" itemprop=\"name\"><a class=\"wsj-headline-link\" data-reactid=\".1q7c8a0qtj4.1.1.6.1.0.2.0.0.0.2.0.1.1.$2.0.0\" href=\"https://www.wsj.com/articles/gop-health-plan-would-hit-rural-areas-hard-1489364405\">GOP Health Plan Would Hit Rural Areas Hard</a></h3>,\n",
       " <h3 class=\"wsj-headline dj-sg wsj-card-feature heading-3 locked\" data-reactid=\".1q7c8a0qtj4.1.1.6.1.0.2.0.0.0.3.0.$1.1\" itemprop=\"name\"><a class=\"wsj-headline-link\" data-reactid=\".1q7c8a0qtj4.1.1.6.1.0.2.0.0.0.3.0.$1.1.0\" href=\"https://www.wsj.com/articles/the-economic-anxieties-that-motivate-donald-trump-loyalists-1489420637\">The Economic Anxieties That Motivate Trump Loyalists</a></h3>,\n",
       " <h3 class=\"wsj-headline dj-sg wsj-card-feature heading-3 locked\" data-reactid=\".1q7c8a0qtj4.1.1.6.1.0.2.0.0.0.3.1.$2.1\" itemprop=\"name\"><a class=\"wsj-headline-link\" data-reactid=\".1q7c8a0qtj4.1.1.6.1.0.2.0.0.0.3.1.$2.1.0\" href=\"https://www.wsj.com/articles/white-house-back-pedals-on-claim-obama-wiretapped-trumps-phones-1489439784\">White House Back-Pedals on Claim Obama Wiretapped Trump\\u2019s Phones</a></h3>,\n",
       " <h3 class=\"wsj-headline dj-sg wsj-card-feature heading-3 unlocked\" data-reactid=\".1q7c8a0qtj4.1.1.6.1.0.2.0.0.0.4.0.$3.2.1\" itemprop=\"name\"><a class=\"wsj-headline-link\" data-reactid=\".1q7c8a0qtj4.1.1.6.1.0.2.0.0.0.4.0.$3.2.1.0\" href=\"http://blogs.wsj.com/washwire/2017/03/13/rep-steve-king-draws-rebukes-for-immigrant-babies-putdown/\">Rep. Steve King Draws Rebukes for Immigrant \\u2018Babies\\u2019 Putdown</a></h3>,\n",
       " <h3 class=\"wsj-headline dj-sg wsj-card-feature heading-3 locked\" data-reactid=\".1q7c8a0qtj4.1.1.6.1.0.2.0.0.0.4.0.$4.2.1\" itemprop=\"name\"><a class=\"wsj-headline-link\" data-reactid=\".1q7c8a0qtj4.1.1.6.1.0.2.0.0.0.4.0.$4.2.1.0\" href=\"https://www.wsj.com/articles/republicans-pose-growing-challenge-to-trumps-trade-agenda-1489337570\">Republicans Pose Growing Challenge to Trump\\u2019s Trade Agenda</a></h3>,\n",
       " <h3 class=\"wsj-headline dj-sg wsj-card-feature heading-3 locked\" data-reactid=\".1q7c8a0qtj4.1.1.6.1.0.2.0.0.0.4.1.$5.1\" itemprop=\"name\"><a class=\"wsj-headline-link\" data-reactid=\".1q7c8a0qtj4.1.1.6.1.0.2.0.0.0.4.1.$5.1.0\" href=\"https://www.wsj.com/articles/raphael-bostic-to-lead-atlanta-fed-1489412583\">Former Obama Housing Official Raphael Bostic to Lead Atlanta Fed</a></h3>,\n",
       " <h3 class=\"wsj-headline dj-sg wsj-card-feature heading-3 locked\" data-reactid=\".1q7c8a0qtj4.1.1.6.1.0.2.0.0.0.4.1.$6.1\" itemprop=\"name\"><a class=\"wsj-headline-link\" data-reactid=\".1q7c8a0qtj4.1.1.6.1.0.2.0.0.0.4.1.$6.1.0\" href=\"https://www.wsj.com/articles/preet-bhararas-probes-likely-to-continue-after-his-exit-1489353179\">Prosecutor\\u2019s Probes Likely to Continue After His Exit</a></h3>,\n",
       " <h3 class=\"wsj-headline dj-sg wsj-card-feature heading-4 unlocked\" data-reactid=\".1q7c8a0qtj4.1.1.6.1.0.2.0.0.1.$0.2.1\" itemprop=\"name\"><a class=\"wsj-headline-link\" data-reactid=\".1q7c8a0qtj4.1.1.6.1.0.2.0.0.1.$0.2.1.0\" href=\"http://blogs.wsj.com/washwire/2017/03/13/real-or-joking-white-house-under-fire-over-trumps-statements/\">Real or Joking? White House Under Fire Over Trump\\u2019s Statements</a></h3>,\n",
       " <h3 class=\"wsj-headline dj-sg wsj-card-feature heading-4 locked\" data-reactid=\".1q7c8a0qtj4.1.1.6.1.0.2.0.0.1.$1.2.1\" itemprop=\"name\"><a class=\"wsj-headline-link\" data-reactid=\".1q7c8a0qtj4.1.1.6.1.0.2.0.0.1.$1.2.1.0\" href=\"https://www.wsj.com/articles/cbo-draws-republicans-pre-emptive-ire-over-health-bill-report-1489417414\">GOP Questions Agency\\u2019s Health-Plan Cost Analysis Prior to Release</a></h3>,\n",
       " <h3 class=\"wsj-headline dj-sg wsj-card-feature heading-4 locked\" data-reactid=\".1q7c8a0qtj4.1.1.6.1.0.2.0.0.1.$2.2.1\" itemprop=\"name\"><a class=\"wsj-headline-link\" data-reactid=\".1q7c8a0qtj4.1.1.6.1.0.2.0.0.1.$2.2.1.0\" href=\"https://www.wsj.com/articles/cfpb-justice-department-poised-to-square-off-in-court-1489399200\">CFPB, Justice Department Poised to Square Off in Court</a></h3>,\n",
       " <h3 class=\"wsj-headline dj-sg wsj-card-feature heading-4 locked\" data-reactid=\".1q7c8a0qtj4.1.1.6.1.0.2.0.0.1.$3.2.1\" itemprop=\"name\"><a class=\"wsj-headline-link\" data-reactid=\".1q7c8a0qtj4.1.1.6.1.0.2.0.0.1.$3.2.1.0\" href=\"https://www.wsj.com/articles/top-democrat-on-intelligence-panel-raises-doubts-over-wiretapping-claims-1489339138\">Top Democrat on Intelligence Panel Raises Doubts Over Wiretap Claims</a></h3>,\n",
       " <h3 class=\"wsj-headline dj-sg wsj-card-feature heading-4-italic unlocked\" data-reactid=\".1q7c8a0qtj4.1.1.6.1.0.2.1.0.0.$0.2.1\" itemprop=\"name\"><a class=\"wsj-headline-link\" data-reactid=\".1q7c8a0qtj4.1.1.6.1.0.2.1.0.0.$0.2.1.0\" href=\"http://www.wsj.com/graphics/trump-market-tweets/\">Think a Negative Trump Tweet Crushes a Stock? Think Again</a></h3>,\n",
       " <h3 class=\"wsj-headline dj-sg wsj-card-feature heading-4-italic unlocked\" data-reactid=\".1q7c8a0qtj4.1.1.6.1.0.2.1.0.1.$1.2.1\" itemprop=\"name\"><a class=\"wsj-headline-link\" data-reactid=\".1q7c8a0qtj4.1.1.6.1.0.2.1.0.1.$1.2.1.0\" href=\"http://www.wsj.com/livecoverage/donald-trumps-first-100-days\">The First 100 Days: Read WSJ\\u2019s Analysis</a></h3>,\n",
       " <h3 class=\"wsj-headline dj-sg wsj-card-feature heading-4-italic unlocked\" data-reactid=\".1q7c8a0qtj4.1.1.6.1.0.2.1.0.2.$2.2.1\" itemprop=\"name\"><a class=\"wsj-headline-link\" data-reactid=\".1q7c8a0qtj4.1.1.6.1.0.2.1.0.2.$2.2.1.0\" href=\"http://www.wsj.com/graphics/supreme-court-diversity/\">Makeup of High Court Over Time</a></h3>,\n",
       " <h3 class=\"wsj-headline dj-sg wsj-card-feature heading-4 unlocked\" data-reactid=\".1q7c8a0qtj4.1.1.6.1.0.2.2.0.0.1.2.1\" itemprop=\"name\"><a class=\"wsj-headline-link\" data-reactid=\".1q7c8a0qtj4.1.1.6.1.0.2.2.0.0.1.2.1.0\" href=\"https://subscribe.wsj.com/election?trackingCode=aaqmmulz&amp;cid=WSJ_MD_NA_ACQ_NA\">The world reacts. We analyze.</a></h3>,\n",
       " <h3 class=\"wsj-headline dj-sg wsj-card-feature heading-4 video locked\" data-reactid=\".1q7c8a0qtj4.1.1.6.1.0.2.2.0.$3.1:$0.2.1\" itemprop=\"name\"><a class=\"wsj-headline-link\" data-reactid=\".1q7c8a0qtj4.1.1.6.1.0.2.2.0.$3.1:$0.2.1.0\" href=\"http://www.wsj.com/video/white-house-defends-trump-truthfulness/9C02DDC0-B631-4700-B058-A4A91002D2FA.html\">White House Defends Trump's Truthfulness  </a></h3>,\n",
       " <h3 class=\"wsj-headline dj-sg wsj-card-feature heading-4 video locked\" data-reactid=\".1q7c8a0qtj4.1.1.6.1.0.2.2.0.$3.2:$1.1\" itemprop=\"name\"><a class=\"wsj-headline-link\" data-reactid=\".1q7c8a0qtj4.1.1.6.1.0.2.2.0.$3.2:$1.1.0\" href=\"http://www.wsj.com/video/the-cbo-is-congresss-scorekeeper-punching-bag/426C84B1-EA56-4A9A-8451-B0488A565E6C.html\">The CBO Is Congress\\u2019s Scorekeeper, Punching Bag</a></h3>,\n",
       " <h3 class=\"wsj-headline dj-sg wsj-card-feature heading-4 video locked\" data-reactid=\".1q7c8a0qtj4.1.1.6.1.0.2.2.0.$3.2:$2.1\" itemprop=\"name\"><a class=\"wsj-headline-link\" data-reactid=\".1q7c8a0qtj4.1.1.6.1.0.2.2.0.$3.2:$2.1.0\" href=\"http://www.wsj.com/video/what-gop-health-bill-means-for-millennials/DBA1FA95-F491-4BB1-A281-71D8A3236B04.html\">What GOP Health Bill Means for Millennials</a></h3>,\n",
       " <h3 class=\"wsj-headline dj-sg wsj-card-feature heading-4 unlocked\" data-reactid=\".1q7c8a0qtj4.1.1.6.1.0.2.2.0.$4.1:$0.1\" itemprop=\"name\"><a class=\"wsj-headline-link\" data-reactid=\".1q7c8a0qtj4.1.1.6.1.0.2.2.0.$4.1:$0.1.0\" href=\"http://blogs.wsj.com/washwire/2017/03/13/capital-journal-rural-areas-hit-by-gop-health-plan-probes-post-bharara-more/\">Capital Journal: Rural Areas Hit by GOP Health Plan; Probes Post-Bharara; More</a></h3>,\n",
       " <h3 class=\"wsj-headline dj-sg wsj-card-feature heading-4 unlocked\" data-reactid=\".1q7c8a0qtj4.1.1.6.1.0.2.2.0.$4.2:$1.1\" itemprop=\"name\"><a class=\"wsj-headline-link\" data-reactid=\".1q7c8a0qtj4.1.1.6.1.0.2.2.0.$4.2:$1.1.0\" href=\"http://blogs.wsj.com/washwire/2017/03/11/following-health-care-tweet-medicaid-official-cancels-sxsw-appearance/\">Following Health-Care Tweet, Medicaid Official Cancels SXSW Appearance</a></h3>,\n",
       " <h3 class=\"wsj-headline dj-sg wsj-card-feature heading-4 unlocked\" data-reactid=\".1q7c8a0qtj4.1.1.6.1.0.2.2.0.$4.2:$2.1\" itemprop=\"name\"><a class=\"wsj-headline-link\" data-reactid=\".1q7c8a0qtj4.1.1.6.1.0.2.2.0.$4.2:$2.1.0\" href=\"http://blogs.wsj.com/washwire/2017/03/10/white-house-we-were-a-little-excited-by-the-jobs-report/\">Why White House Broke \\u2018One Hour\\u2019 Rule: \\u2018We Were a Little Excited\\u2019 by the Jobs Report</a></h3>,\n",
       " <h3 class=\"wsj-headline dj-sg wsj-card-feature heading-5 locked\" data-reactid=\".1q7c8a0qtj4.1.1.6.1.0.2.3.$0.$1.1:$0.2.1\" itemprop=\"name\"><a class=\"wsj-headline-link\" data-reactid=\".1q7c8a0qtj4.1.1.6.1.0.2.3.$0.$1.1:$0.2.1.0\" href=\"https://www.wsj.com/articles/authorities-questioning-cia-contractors-in-connection-with-wikileaks-dump-1489283964\">CIA Contractors Questioned About WikiLeaks Dump</a></h3>,\n",
       " <h3 class=\"wsj-headline dj-sg wsj-card-feature heading-5 locked\" data-reactid=\".1q7c8a0qtj4.1.1.6.1.0.2.3.$0.$1.2:$1.1\" itemprop=\"name\"><a class=\"wsj-headline-link\" data-reactid=\".1q7c8a0qtj4.1.1.6.1.0.2.3.$0.$1.2:$1.1.0\" href=\"https://www.wsj.com/articles/wikileaks-assange-says-group-will-help-tech-firms-defend-against-cia-hacking-1489074870\">Assange: WikiLeaks Will Help Tech Firms Defend Against CIA Hacking</a></h3>,\n",
       " <h3 class=\"wsj-headline dj-sg wsj-card-feature heading-5 locked\" data-reactid=\".1q7c8a0qtj4.1.1.6.1.0.2.3.$0.$1.2:$2.1\" itemprop=\"name\"><a class=\"wsj-headline-link\" data-reactid=\".1q7c8a0qtj4.1.1.6.1.0.2.3.$0.$1.2:$2.1.0\" href=\"https://www.wsj.com/articles/wikileaks-reveals-cia-hacking-projects-from-weeping-angel-to-hammer-drill-1489017814\">WikiLeaks Reveals CIA Hacking Tools</a></h3>,\n",
       " <h3 class=\"wsj-headline dj-sg wsj-card-feature heading-5 locked\" data-reactid=\".1q7c8a0qtj4.1.1.6.1.0.2.3.$0.$2.1:$0.2.1\" itemprop=\"name\"><a class=\"wsj-headline-link\" data-reactid=\".1q7c8a0qtj4.1.1.6.1.0.2.3.$0.$2.1:$0.2.1.0\" href=\"https://www.wsj.com/articles/at-white-house-patients-share-complaints-about-obamacare-1489439834\">At White House, Patients Share Complaints About Obamacare</a></h3>,\n",
       " <h3 class=\"wsj-headline dj-sg wsj-card-feature heading-5 locked\" data-reactid=\".1q7c8a0qtj4.1.1.6.1.0.2.3.$0.$2.2:$1.1\" itemprop=\"name\"><a class=\"wsj-headline-link\" data-reactid=\".1q7c8a0qtj4.1.1.6.1.0.2.3.$0.$2.2:$1.1.0\" href=\"https://www.wsj.com/articles/mike-pence-appeals-for-complete-gop-support-for-health-overhaul-1489274542\">Pence Appeals for Complete GOP Support for Health Overhaul</a></h3>,\n",
       " <h3 class=\"wsj-headline dj-sg wsj-card-feature heading-5 locked\" data-reactid=\".1q7c8a0qtj4.1.1.6.1.0.2.3.$0.$2.2:$2.1\" itemprop=\"name\"><a class=\"wsj-headline-link\" data-reactid=\".1q7c8a0qtj4.1.1.6.1.0.2.3.$0.$2.2:$2.1.0\" href=\"https://www.wsj.com/articles/donald-trump-plays-background-role-in-health-care-battle-1489174847\">Trump Plays Background Role on Health Care</a></h3>,\n",
       " <h3 class=\"wsj-headline dj-sg wsj-card-feature heading-5 unlocked\" data-reactid=\".1q7c8a0qtj4.1.1.6.1.0.2.3.$0.$3.1:$0.2.1\" itemprop=\"name\"><a class=\"wsj-headline-link\" data-reactid=\".1q7c8a0qtj4.1.1.6.1.0.2.3.$0.$3.1:$0.2.1.0\" href=\"http://blogs.wsj.com/economics/2017/03/10/economists-react-to-the-february-jobs-report-a-march-hike-is-a-done-deal/\">Economists React to the February Jobs Report: \\u2018A March Hike Is a Done Deal\\u2019</a></h3>,\n",
       " <h3 class=\"wsj-headline dj-sg wsj-card-feature heading-5 unlocked\" data-reactid=\".1q7c8a0qtj4.1.1.6.1.0.2.3.$0.$3.2:$1.1\" itemprop=\"name\"><a class=\"wsj-headline-link\" data-reactid=\".1q7c8a0qtj4.1.1.6.1.0.2.3.$0.$3.2:$1.1.0\" href=\"http://blogs.wsj.com/economics/2017/03/10/the-february-jobs-report-in-11-charts/\">The February Jobs Report in 11 Charts</a></h3>,\n",
       " <h3 class=\"wsj-headline dj-sg wsj-card-feature heading-5 unlocked\" data-reactid=\".1q7c8a0qtj4.1.1.6.1.0.2.3.$0.$3.2:$2.1\" itemprop=\"name\"><a class=\"wsj-headline-link\" data-reactid=\".1q7c8a0qtj4.1.1.6.1.0.2.3.$0.$3.2:$2.1.0\" href=\"http://blogs.wsj.com/economics/2017/03/08/januarys-wage-mystery-could-be-solved-in-fridays-jobs-report/\">January\\u2019s Wage Mystery Could Be Solved in Friday\\u2019s Jobs Report</a></h3>,\n",
       " <h3 class=\"wsj-headline dj-sg wsj-card-feature heading-5 locked\" data-reactid=\".1q7c8a0qtj4.1.1.6.1.0.2.3.$1.$0.1:$0.2.1\" itemprop=\"name\"><a class=\"wsj-headline-link\" data-reactid=\".1q7c8a0qtj4.1.1.6.1.0.2.3.$1.$0.1:$0.2.1.0\" href=\"https://www.wsj.com/articles/senators-seek-review-of-criminal-justice-system-1489015783\">Senators Seek Review of Criminal Justice System</a></h3>,\n",
       " <h3 class=\"wsj-headline dj-sg wsj-card-feature heading-5 locked\" data-reactid=\".1q7c8a0qtj4.1.1.6.1.0.2.3.$1.$0.2:$1.1\" itemprop=\"name\"><a class=\"wsj-headline-link\" data-reactid=\".1q7c8a0qtj4.1.1.6.1.0.2.3.$1.$0.2:$1.1.0\" href=\"https://www.wsj.com/articles/a-plan-b-for-the-gop-raise-warren-buffetts-taxes-1488995006\">A Plan B for the GOP: Raise Taxes on the Likes of Buffett</a></h3>,\n",
       " <h3 class=\"wsj-headline dj-sg wsj-card-feature heading-5 locked\" data-reactid=\".1q7c8a0qtj4.1.1.6.1.0.2.3.$1.$0.2:$2.1\" itemprop=\"name\"><a class=\"wsj-headline-link\" data-reactid=\".1q7c8a0qtj4.1.1.6.1.0.2.3.$1.$0.2:$2.1.0\" href=\"https://www.wsj.com/articles/furor-over-russias-hacking-puts-congressional-republicans-on-hot-seat-1488819319\">Furor Over Russia\\u2019s Hacking Puts Congressional Republicans on Hot Seat</a></h3>]"
      ]
     },
     "execution_count": 3,
     "metadata": {},
     "output_type": "execute_result"
    }
   ],
   "source": [
    "links"
   ]
  },
  {
   "cell_type": "code",
   "execution_count": 4,
   "metadata": {
    "collapsed": true
   },
   "outputs": [],
   "source": [
    "links = [val for sublist in links for val in sublist]"
   ]
  },
  {
   "cell_type": "code",
   "execution_count": 5,
   "metadata": {
    "collapsed": true
   },
   "outputs": [],
   "source": [
    "l = []\n",
    "for i in range(0,len(links)):\n",
    "    try:\n",
    "        l.append((links[i].getText()).encode('ascii','ignore'))\n",
    "        #l = l.translate({ 0x2018:0x27, 0x2019:0x27, 0x201C:0x22, 0x201D:0x22, 0x2026:0x20 })\n",
    "    except:\n",
    "        continue\n",
    "links = map(lambda s: s.strip(), l)"
   ]
  },
  {
   "cell_type": "code",
   "execution_count": 6,
   "metadata": {
    "collapsed": false
   },
   "outputs": [
    {
     "data": {
      "text/plain": [
       "['CBO Sees 24 Million More Uninsured, $337 Billion Deficit Cut With GOP Plan',\n",
       " 'CBO Report Highlights: Health Coverage, Insurance Premiums and Federal Deficits',\n",
       " 'Trump Administration Officials Defend GOP Health Bill',\n",
       " 'GOP Health Plan Would Hit Rural Areas Hard',\n",
       " 'The Economic Anxieties That Motivate Trump Loyalists',\n",
       " 'White House Back-Pedals on Claim Obama Wiretapped Trumps Phones',\n",
       " 'Rep. Steve King Draws Rebukes for Immigrant Babies Putdown',\n",
       " 'Republicans Pose Growing Challenge to Trumps Trade Agenda',\n",
       " 'Former Obama Housing Official Raphael Bostic to Lead Atlanta Fed',\n",
       " 'Prosecutors Probes Likely to Continue After His Exit',\n",
       " 'Real or Joking? White House Under Fire Over Trumps Statements',\n",
       " 'GOP Questions Agencys Health-Plan Cost Analysis Prior to Release',\n",
       " 'CFPB, Justice Department Poised to Square Off in Court',\n",
       " 'Top Democrat on Intelligence Panel Raises Doubts Over Wiretap Claims',\n",
       " 'Think a Negative Trump Tweet Crushes a Stock? Think Again',\n",
       " 'The First 100 Days: Read WSJs Analysis',\n",
       " 'Makeup of High Court Over Time',\n",
       " 'The world reacts. We analyze.',\n",
       " \"White House Defends Trump's Truthfulness\",\n",
       " 'The CBO Is Congresss Scorekeeper, Punching Bag',\n",
       " 'What GOP Health Bill Means for Millennials',\n",
       " 'Capital Journal: Rural Areas Hit by GOP Health Plan; Probes Post-Bharara; More',\n",
       " 'Following Health-Care Tweet, Medicaid Official Cancels SXSW Appearance',\n",
       " 'Why White House Broke One Hour Rule: We Were a Little Excited by the Jobs Report',\n",
       " 'CIA Contractors Questioned About WikiLeaks Dump',\n",
       " 'Assange: WikiLeaks Will Help Tech Firms Defend Against CIA Hacking',\n",
       " 'WikiLeaks Reveals CIA Hacking Tools',\n",
       " 'At White House, Patients Share Complaints About Obamacare',\n",
       " 'Pence Appeals for Complete GOP Support for Health Overhaul',\n",
       " 'Trump Plays Background Role on Health Care',\n",
       " 'Economists React to the February Jobs Report: A March Hike Is a Done Deal',\n",
       " 'The February Jobs Report in 11 Charts',\n",
       " 'Januarys Wage Mystery Could Be Solved in Fridays Jobs Report',\n",
       " 'Senators Seek Review of Criminal Justice System',\n",
       " 'A Plan B for the GOP: Raise Taxes on the Likes of Buffett',\n",
       " 'Furor Over Russias Hacking Puts Congressional Republicans on Hot Seat']"
      ]
     },
     "execution_count": 6,
     "metadata": {},
     "output_type": "execute_result"
    }
   ],
   "source": [
    "links"
   ]
  },
  {
   "cell_type": "code",
   "execution_count": 7,
   "metadata": {
    "collapsed": false
   },
   "outputs": [
    {
     "data": {
      "text/plain": [
       "['CBO Sees 24 Million More Uninsured, $337 Billion Deficit Cut With GOP Plan',\n",
       " 'CBO Report Highlights: Health Coverage, Insurance Premiums and Federal Deficits',\n",
       " 'Trump Administration Officials Defend GOP Health Bill',\n",
       " 'GOP Health Plan Would Hit Rural Areas Hard',\n",
       " 'The Economic Anxieties That Motivate Trump Loyalists',\n",
       " 'White House Back-Pedals on Claim Obama Wiretapped Trumps Phones',\n",
       " 'Rep. Steve King Draws Rebukes for Immigrant Babies Putdown',\n",
       " 'Republicans Pose Growing Challenge to Trumps Trade Agenda',\n",
       " 'Former Obama Housing Official Raphael Bostic to Lead Atlanta Fed',\n",
       " 'Prosecutors Probes Likely to Continue After His Exit',\n",
       " 'Real or Joking? White House Under Fire Over Trumps Statements',\n",
       " 'GOP Questions Agencys Health-Plan Cost Analysis Prior to Release',\n",
       " 'CFPB, Justice Department Poised to Square Off in Court',\n",
       " 'Top Democrat on Intelligence Panel Raises Doubts Over Wiretap Claims',\n",
       " 'Think a Negative Trump Tweet Crushes a Stock? Think Again',\n",
       " 'The First 100 Days: Read WSJs Analysis',\n",
       " 'Makeup of High Court Over Time',\n",
       " 'The world reacts. We analyze.',\n",
       " \"White House Defends Trump's Truthfulness\",\n",
       " 'The CBO Is Congresss Scorekeeper, Punching Bag',\n",
       " 'What GOP Health Bill Means for Millennials',\n",
       " 'Capital Journal: Rural Areas Hit by GOP Health Plan; Probes Post-Bharara; More',\n",
       " 'Following Health-Care Tweet, Medicaid Official Cancels SXSW Appearance',\n",
       " 'Why White House Broke One Hour Rule: We Were a Little Excited by the Jobs Report',\n",
       " 'CIA Contractors Questioned About WikiLeaks Dump',\n",
       " 'Assange: WikiLeaks Will Help Tech Firms Defend Against CIA Hacking',\n",
       " 'WikiLeaks Reveals CIA Hacking Tools',\n",
       " 'At White House, Patients Share Complaints About Obamacare',\n",
       " 'Pence Appeals for Complete GOP Support for Health Overhaul',\n",
       " 'Trump Plays Background Role on Health Care',\n",
       " 'Economists React to the February Jobs Report: A March Hike Is a Done Deal',\n",
       " 'The February Jobs Report in 11 Charts',\n",
       " 'Januarys Wage Mystery Could Be Solved in Fridays Jobs Report',\n",
       " 'Senators Seek Review of Criminal Justice System',\n",
       " 'A Plan B for the GOP: Raise Taxes on the Likes of Buffett',\n",
       " 'Furor Over Russias Hacking Puts Congressional Republicans on Hot Seat']"
      ]
     },
     "execution_count": 7,
     "metadata": {},
     "output_type": "execute_result"
    }
   ],
   "source": [
    "links = map(lambda s: s.encode(\"utf-8\"), links)\n",
    "links = [x.rstrip('\\n') for x in links]\n",
    "links"
   ]
  },
  {
   "cell_type": "code",
   "execution_count": 8,
   "metadata": {
    "collapsed": true
   },
   "outputs": [],
   "source": [
    "trumps_admin = ['whitehouse','trump','conway','sessions','pence','president','tillerson','devos','flynn','kushner','carson','department','preibus','bannon','spicer','miller']"
   ]
  },
  {
   "cell_type": "code",
   "execution_count": 9,
   "metadata": {
    "collapsed": true
   },
   "outputs": [],
   "source": [
    "links = [x.lower() for x in links]\n"
   ]
  },
  {
   "cell_type": "code",
   "execution_count": 10,
   "metadata": {
    "collapsed": false
   },
   "outputs": [
    {
     "data": {
      "text/plain": [
       "['trump administration officials defend gop health bill',\n",
       " 'the economic anxieties that motivate trump loyalists',\n",
       " 'white house back-pedals on claim obama wiretapped trumps phones',\n",
       " 'republicans pose growing challenge to trumps trade agenda',\n",
       " 'real or joking? white house under fire over trumps statements',\n",
       " 'think a negative trump tweet crushes a stock? think again',\n",
       " \"white house defends trump's truthfulness\",\n",
       " 'trump plays background role on health care',\n",
       " 'pence appeals for complete gop support for health overhaul',\n",
       " 'cfpb, justice department poised to square off in court']"
      ]
     },
     "execution_count": 10,
     "metadata": {},
     "output_type": "execute_result"
    }
   ],
   "source": [
    "total_titles = []\n",
    "for admin in trumps_admin:\n",
    "    titles = [x for x in links if admin in x]\n",
    "    total_titles.extend(titles)\n",
    "total_titles"
   ]
  },
  {
   "cell_type": "code",
   "execution_count": 11,
   "metadata": {
    "collapsed": true
   },
   "outputs": [],
   "source": [
    "title_file = open(\"wsj.txt\", \"a\")"
   ]
  },
  {
   "cell_type": "code",
   "execution_count": 12,
   "metadata": {
    "collapsed": true
   },
   "outputs": [],
   "source": [
    "for i in range(0, len(total_titles)):\n",
    "    temp = total_titles[i]\n",
    "    title_file.write(temp + '\\n')"
   ]
  },
  {
   "cell_type": "code",
   "execution_count": 13,
   "metadata": {
    "collapsed": true
   },
   "outputs": [],
   "source": [
    "title_names = []\n",
    "title_file = open(\"wsj.txt\",\"r\")\n",
    "for line in title_file:\n",
    "    line = line.strip()\n",
    "    title_names.append(line)\n",
    "title_file.close()"
   ]
  },
  {
   "cell_type": "code",
   "execution_count": 14,
   "metadata": {
    "collapsed": false
   },
   "outputs": [
    {
     "data": {
      "text/plain": [
       "['hawaii judge agrees to hearing on trump immigration order',\n",
       " 'trump begins to map out $1 trillion infrastructure plan',\n",
       " 'cummings asks trump to moderate rhetoric on black neighborhoods',\n",
       " 'ivanka trumps landlord is a chilean who is suing the u.s.',\n",
       " 'think a negative trump tweet crushes a stock? think again',\n",
       " 'democrats say trump agreed to pursue authority to negotiate drug prices',\n",
       " 'elijah cummings says he asked trump to tone down rhetoric about black neighborhoods',\n",
       " 'as trump heads to congress, polarization is hardening',\n",
       " 'trump lowers profile after obama wiretap accusation',\n",
       " 'in office, trump changes his tune on job growth numbers he once denounced',\n",
       " 'washington state to fight new trump travel order',\n",
       " 'think a negative trump tweet crushes a stock? think again',\n",
       " 'trump meets with gop leaders to rally behind new health law',\n",
       " 'are trumps deleted tweets official records? the house oversight committee thinks so',\n",
       " 'will trumpcare catch on? the democrats are trying',\n",
       " 'hawaii judge agrees to hearing on trump immigration order',\n",
       " 'trump expected to nominate scott gottlieb to lead fda',\n",
       " 'trump lowers profile after obama wiretap accusation',\n",
       " 'trump didnt know of flynns work for turkey before nomination',\n",
       " 'think a negative trump tweet crushes a stock? think again',\n",
       " 'trump meets with gop leaders to rally behind new health law',\n",
       " 'trump plays background role on health care',\n",
       " 'trump to nominate scott gottlieb to lead fda',\n",
       " 'pence appeals for complete gop support for health overhaul',\n",
       " 'trump didnt know of flynns work for turkey before nomination',\n",
       " 'trump administration officials defend gop health bill',\n",
       " 'the economic anxieties that motivate trump loyalists',\n",
       " 'white house back-pedals on claim obama wiretapped trumps phones',\n",
       " 'republicans pose growing challenge to trumps trade agenda',\n",
       " 'real or joking? white house under fire over trumps statements',\n",
       " 'think a negative trump tweet crushes a stock? think again',\n",
       " \"white house defends trump's truthfulness\",\n",
       " 'trump plays background role on health care',\n",
       " 'pence appeals for complete gop support for health overhaul',\n",
       " 'cfpb, justice department poised to square off in court']"
      ]
     },
     "execution_count": 14,
     "metadata": {},
     "output_type": "execute_result"
    }
   ],
   "source": [
    "title_names"
   ]
  },
  {
   "cell_type": "code",
   "execution_count": 15,
   "metadata": {
    "collapsed": false
   },
   "outputs": [
    {
     "data": {
      "text/plain": [
       "35"
      ]
     },
     "execution_count": 15,
     "metadata": {},
     "output_type": "execute_result"
    }
   ],
   "source": [
    "len(title_names)"
   ]
  },
  {
   "cell_type": "code",
   "execution_count": null,
   "metadata": {
    "collapsed": true
   },
   "outputs": [],
   "source": []
  }
 ],
 "metadata": {
  "anaconda-cloud": {},
  "kernelspec": {
   "display_name": "Python [default]",
   "language": "python",
   "name": "python2"
  },
  "language_info": {
   "codemirror_mode": {
    "name": "ipython",
    "version": 2
   },
   "file_extension": ".py",
   "mimetype": "text/x-python",
   "name": "python",
   "nbconvert_exporter": "python",
   "pygments_lexer": "ipython2",
   "version": "2.7.12"
  }
 },
 "nbformat": 4,
 "nbformat_minor": 1
}
