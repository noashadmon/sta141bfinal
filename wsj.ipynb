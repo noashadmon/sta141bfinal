{
 "cells": [
  {
   "cell_type": "code",
   "execution_count": 1,
   "metadata": {
    "collapsed": true
   },
   "outputs": [],
   "source": [
    "import requests\n",
    "#import requests_ftp\n",
    "import requests_cache\n",
    "import lxml\n",
    "import urllib2\n",
    "from bs4 import BeautifulSoup\n",
    "from collections import Counter\n",
    "from matplotlib import pyplot as plt\n",
    "import pandas as pd\n",
    "plt.style.use('ggplot')\n",
    "#requests_cache.install_cache('coll_cache')\n",
    "%matplotlib inline"
   ]
  },
  {
   "cell_type": "code",
   "execution_count": 2,
   "metadata": {
    "collapsed": true
   },
   "outputs": [],
   "source": [
    "climreq = requests.get(\"https://www.wsj.com/news/politics\")\n",
    "climhtml = climreq.text\n",
    "clim = BeautifulSoup(climhtml, \"lxml\")\n",
    "links = clim.find_all('h3', {'class': ['wsj-headline']}) #, {'class': ['story-heading']})"
   ]
  },
  {
   "cell_type": "code",
   "execution_count": 3,
   "metadata": {
    "collapsed": false
   },
   "outputs": [
    {
     "data": {
      "text/plain": [
       "[<h3 class=\"wsj-headline dj-sg LEAD heading-9 locked\" data-reactid=\".28asi5gykg0.1.1.6.1.0.2.0.0.0.1\" itemprop=\"name\"><a class=\"wsj-headline-link\" data-reactid=\".28asi5gykg0.1.1.6.1.0.2.0.0.0.1.0\" href=\"https://www.wsj.com/articles/trump-budget-seeks-big-cuts-to-environment-arts-foreign-aid-1489636861\">Budget Plan Hits EPA, Aids Military</a></h3>,\n",
       " <h3 class=\"wsj-headline dj-sg heading-14 locked\" data-reactid=\".28asi5gykg0.1.1.6.1.0.2.0.0.0.2.0.1.1.$0.0\" itemprop=\"name\"><a class=\"wsj-headline-link\" data-reactid=\".28asi5gykg0.1.1.6.1.0.2.0.0.0.2.0.1.1.$0.0.0\" href=\"https://www.wsj.com/articles/trump-seeks-30-billion-more-this-year-for-military-and-fight-against-islamic-state-1489681531\">Trump Seeks $30 Billion More This Year for Military, Fight Against Islamic State</a></h3>,\n",
       " <h3 class=\"wsj-headline dj-sg heading-14 locked\" data-reactid=\".28asi5gykg0.1.1.6.1.0.2.0.0.0.2.0.1.1.$1.0\" itemprop=\"name\"><a class=\"wsj-headline-link\" data-reactid=\".28asi5gykg0.1.1.6.1.0.2.0.0.0.2.0.1.1.$1.0.0\" href=\"https://www.wsj.com/articles/budget-could-mean-end-of-public-tv-radio-supporters-warn-1489682785\">Budget Could Mean to Public TV, Radio, Supporters Warn</a></h3>,\n",
       " <h3 class=\"wsj-headline dj-sg heading-14 locked\" data-reactid=\".28asi5gykg0.1.1.6.1.0.2.0.0.0.2.0.1.1.$2.0\" itemprop=\"name\"><a class=\"wsj-headline-link\" data-reactid=\".28asi5gykg0.1.1.6.1.0.2.0.0.0.2.0.1.1.$2.0.0\" href=\"https://www.wsj.com/articles/trump-to-propose-30-cut-to-state-dept-usaid-1489623424\">Trump Seeks Major Cut to State Dept., USAID</a></h3>,\n",
       " <h3 class=\"wsj-headline dj-sg heading-14 unlocked\" data-reactid=\".28asi5gykg0.1.1.6.1.0.2.0.0.0.2.0.1.1.$3.0\" itemprop=\"name\"><a class=\"wsj-headline-link\" data-reactid=\".28asi5gykg0.1.1.6.1.0.2.0.0.0.2.0.1.1.$3.0.0\" href=\"http://blogs.wsj.com/washwire/2017/03/16/trump-budgets-deepest-cuts-which-agencies-would-be-eliminated/\">Trump Budget\\u2019s Deepest Cuts: Which Agencies Would Be Eliminated</a></h3>,\n",
       " <h3 class=\"wsj-headline dj-sg heading-14 unlocked\" data-reactid=\".28asi5gykg0.1.1.6.1.0.2.0.0.0.2.0.1.1.$4.0\" itemprop=\"name\"><a class=\"wsj-headline-link\" data-reactid=\".28asi5gykg0.1.1.6.1.0.2.0.0.0.2.0.1.1.$4.0.0\" href=\"http://blogs.wsj.com/washwire/2017/03/16/four-themes-in-trumps-budget-blueprint/\">Four Themes in Trump\\u2019s Budget Blueprint</a></h3>,\n",
       " <h3 class=\"wsj-headline dj-sg wsj-card-feature heading-3 locked\" data-reactid=\".28asi5gykg0.1.1.6.1.0.2.0.0.0.3.0.$1.1\" itemprop=\"name\"><a class=\"wsj-headline-link\" data-reactid=\".28asi5gykg0.1.1.6.1.0.2.0.0.0.3.0.$1.1.0\" href=\"https://www.wsj.com/articles/house-republican-health-plan-advances-in-congress-1489676094\">House Republican Health Plan Advances in Congress</a></h3>,\n",
       " <h3 class=\"wsj-headline dj-sg wsj-card-feature heading-3 locked\" data-reactid=\".28asi5gykg0.1.1.6.1.0.2.0.0.0.3.1.$2.1\" itemprop=\"name\"><a class=\"wsj-headline-link\" data-reactid=\".28asi5gykg0.1.1.6.1.0.2.0.0.0.3.1.$2.1.0\" href=\"https://www.wsj.com/articles/mike-flynn-worked-for-other-russian-companies-besides-rt-documents-1489683618\">Mike Flynn Worked for Several Russian Companies, Was Paid More Than $50,000</a></h3>,\n",
       " <h3 class=\"wsj-headline dj-sg wsj-card-feature heading-3 locked\" data-reactid=\".28asi5gykg0.1.1.6.1.0.2.0.0.0.4.0.$3.2.1\" itemprop=\"name\"><a class=\"wsj-headline-link\" data-reactid=\".28asi5gykg0.1.1.6.1.0.2.0.0.0.4.0.$3.2.1.0\" href=\"https://www.wsj.com/articles/senate-intel-committee-leaders-say-they-see-no-indications-trump-tower-was-under-surveillance-1489687160\">Senate Intel Committee Leaders Say They See No Indications Trump Tower Was Wiretapped</a></h3>,\n",
       " <h3 class=\"wsj-headline dj-sg wsj-card-feature heading-3 locked\" data-reactid=\".28asi5gykg0.1.1.6.1.0.2.0.0.0.4.0.$4.2.1\" itemprop=\"name\"><a class=\"wsj-headline-link\" data-reactid=\".28asi5gykg0.1.1.6.1.0.2.0.0.0.4.0.$4.2.1.0\" href=\"https://www.wsj.com/articles/obtaining-land-for-trumps-border-wall-a-daunting-task-experts-say-1489687484\">Obtaining Land for Trump\\u2019s Border Wall a Daunting Task, Experts Say</a></h3>,\n",
       " <h3 class=\"wsj-headline dj-sg wsj-card-feature heading-3 locked\" data-reactid=\".28asi5gykg0.1.1.6.1.0.2.0.0.0.4.1.$5.1\" itemprop=\"name\"><a class=\"wsj-headline-link\" data-reactid=\".28asi5gykg0.1.1.6.1.0.2.0.0.0.4.1.$5.1.0\" href=\"https://www.wsj.com/articles/trump-seeks-billions-in-new-spending-for-border-wall-with-mexico-1489636863\">Trump Seeks Billions in New Spending for Border Wall</a></h3>,\n",
       " <h3 class=\"wsj-headline dj-sg wsj-card-feature heading-3 locked\" data-reactid=\".28asi5gykg0.1.1.6.1.0.2.0.0.0.4.1.$6.1\" itemprop=\"name\"><a class=\"wsj-headline-link\" data-reactid=\".28asi5gykg0.1.1.6.1.0.2.0.0.0.4.1.$6.1.0\" href=\"https://www.wsj.com/articles/trump-nominates-boeing-executive-to-be-pentagon-deputy-1489682987\">Trump Nominates Boeing Executive to be Pentagon Deputy</a></h3>,\n",
       " <h3 class=\"wsj-headline dj-sg wsj-card-feature heading-4 unlocked\" data-reactid=\".28asi5gykg0.1.1.6.1.0.2.0.0.1.$0.2.1\" itemprop=\"name\"><a class=\"wsj-headline-link\" data-reactid=\".28asi5gykg0.1.1.6.1.0.2.0.0.1.$0.2.1.0\" href=\"http://blogs.wsj.com/washwire/2017/03/16/chamber-of-commerce-chiefs-advice-to-companies-stay-engaged-in-tax-debate/\">Chamber of Commerce Chief\\u2019s Advice to Companies: Stay Engaged in Tax Debate</a></h3>,\n",
       " <h3 class=\"wsj-headline dj-sg wsj-card-feature heading-4 locked\" data-reactid=\".28asi5gykg0.1.1.6.1.0.2.0.0.1.$1.2.1\" itemprop=\"name\"><a class=\"wsj-headline-link\" data-reactid=\".28asi5gykg0.1.1.6.1.0.2.0.0.1.$1.2.1.0\" href=\"https://www.wsj.com/articles/tillerson-wants-china-to-do-more-on-north-korea-threat-1489650543\">Tillerson to Press China Over North Korea Threat</a></h3>,\n",
       " <h3 class=\"wsj-headline dj-sg wsj-card-feature heading-4 unlocked\" data-reactid=\".28asi5gykg0.1.1.6.1.0.2.0.0.1.$2.2.1\" itemprop=\"name\"><a class=\"wsj-headline-link\" data-reactid=\".28asi5gykg0.1.1.6.1.0.2.0.0.1.$2.2.1.0\" href=\"http://blogs.wsj.com/washwire/2017/03/16/gop-health-plan-risks-sticker-shock-for-trumps-base/\">GOP Health Plan Risks Sticker Shock for Trump\\u2019s Base</a></h3>,\n",
       " <h3 class=\"wsj-headline dj-sg wsj-card-feature heading-4 locked\" data-reactid=\".28asi5gykg0.1.1.6.1.0.2.0.0.1.$3.2.1\" itemprop=\"name\"><a class=\"wsj-headline-link\" data-reactid=\".28asi5gykg0.1.1.6.1.0.2.0.0.1.$3.2.1.0\" href=\"https://www.wsj.com/articles/new-york-mayor-bill-de-blasio-cleared-in-fundraising-probe-1489674296\">New York Mayor de Blasio Cleared in Fundraising Probe</a></h3>,\n",
       " <h3 class=\"wsj-headline dj-sg wsj-card-feature heading-4-italic locked\" data-reactid=\".28asi5gykg0.1.1.6.1.0.2.1.0.0.$0.2.1\" itemprop=\"name\"><a class=\"wsj-headline-link\" data-reactid=\".28asi5gykg0.1.1.6.1.0.2.1.0.0.$0.2.1.0\" href=\"https://www.wsj.com/articles/deficits-are-a-flawed-guide-to-unfair-trade-1489594137\">Deficits Are a Flawed Guide to Unfair Trade</a></h3>,\n",
       " <h3 class=\"wsj-headline dj-sg wsj-card-feature heading-4-italic unlocked\" data-reactid=\".28asi5gykg0.1.1.6.1.0.2.1.0.1.$1.2.1\" itemprop=\"name\"><a class=\"wsj-headline-link\" data-reactid=\".28asi5gykg0.1.1.6.1.0.2.1.0.1.$1.2.1.0\" href=\"http://www.wsj.com/graphics/american-health-care-costs/\">The High Cost of Health Care in America</a></h3>,\n",
       " <h3 class=\"wsj-headline dj-sg wsj-card-feature heading-4-italic unlocked\" data-reactid=\".28asi5gykg0.1.1.6.1.0.2.1.0.2.$2.2.1\" itemprop=\"name\"><a class=\"wsj-headline-link\" data-reactid=\".28asi5gykg0.1.1.6.1.0.2.1.0.2.$2.2.1.0\" href=\"http://www.wsj.com/graphics/compare-aca-vs-gop-healthcare/?mod=djemCapitalJournalDaybreak\">How the House GOP Health Plan Compares to the ACA</a></h3>,\n",
       " <h3 class=\"wsj-headline dj-sg wsj-card-feature heading-4 unlocked\" data-reactid=\".28asi5gykg0.1.1.6.1.0.2.2.0.0.1.2.1\" itemprop=\"name\"><a class=\"wsj-headline-link\" data-reactid=\".28asi5gykg0.1.1.6.1.0.2.2.0.0.1.2.1.0\" href=\"https://subscribe.wsj.com/election?trackingCode=aaqmmulz&amp;cid=WSJ_MD_NA_ACQ_NA\">The world reacts. We analyze.</a></h3>,\n",
       " <h3 class=\"wsj-headline dj-sg wsj-card-feature heading-4 video locked\" data-reactid=\".28asi5gykg0.1.1.6.1.0.2.2.0.$3.1:$0.2.1\" itemprop=\"name\"><a class=\"wsj-headline-link\" data-reactid=\".28asi5gykg0.1.1.6.1.0.2.2.0.$3.1:$0.2.1.0\" href=\"http://www.wsj.com/video/trump-talks-leaked-tax-return-muslims-and-wiretapping/08C78409-C1A3-4DE1-A4E7-407CAAD2F3A2.html\">Trump Talks Leaked Tax Return, Muslims and Wiretapping</a></h3>,\n",
       " <h3 class=\"wsj-headline dj-sg wsj-card-feature heading-4 video locked\" data-reactid=\".28asi5gykg0.1.1.6.1.0.2.2.0.$3.2:$1.1\" itemprop=\"name\"><a class=\"wsj-headline-link\" data-reactid=\".28asi5gykg0.1.1.6.1.0.2.2.0.$3.2:$1.1.0\" href=\"http://www.wsj.com/video/cotton-picking-fight-with-gop-health-plan/A221059C-26E7-4155-80A7-8BA4FD269EEA.html\">Cotton Picking Fight With GOP Health Plan</a></h3>,\n",
       " <h3 class=\"wsj-headline dj-sg wsj-card-feature heading-4 video locked\" data-reactid=\".28asi5gykg0.1.1.6.1.0.2.2.0.$3.2:$2.1\" itemprop=\"name\"><a class=\"wsj-headline-link\" data-reactid=\".28asi5gykg0.1.1.6.1.0.2.2.0.$3.2:$2.1.0\" href=\"http://www.wsj.com/video/yahoo-hack-puts-russian-election-meddling-back-in-spotlight/C67B2576-BC7E-4869-B4CD-905D998F53D6.html\">Yahoo Hack Puts Russian Election Meddling Back in Spotlight</a></h3>,\n",
       " <h3 class=\"wsj-headline dj-sg wsj-card-feature heading-4 unlocked\" data-reactid=\".28asi5gykg0.1.1.6.1.0.2.2.0.$4.1:$0.2.1\" itemprop=\"name\"><a class=\"wsj-headline-link\" data-reactid=\".28asi5gykg0.1.1.6.1.0.2.2.0.$4.1:$0.2.1.0\" href=\"http://blogs.wsj.com/washwire/2017/03/16/capital-journal-inside-the-trump-budget-travel-ban-blocked-health-bill-changes/\">Capital Journal: Inside the Trump Budget; Travel Ban Blocked; Health Bill Changes?</a></h3>,\n",
       " <h3 class=\"wsj-headline dj-sg wsj-card-feature heading-4 unlocked\" data-reactid=\".28asi5gykg0.1.1.6.1.0.2.2.0.$4.2:$1.1\" itemprop=\"name\"><a class=\"wsj-headline-link\" data-reactid=\".28asi5gykg0.1.1.6.1.0.2.2.0.$4.2:$1.1.0\" href=\"http://blogs.wsj.com/washwire/2017/03/15/preet-bhararas-i-was-fired-tweet-was-seen-21-million-times/\">Preet Bharara\\u2019s \\u2018I Was Fired\\u2019 Tweet Was Seen 21 Million Times</a></h3>,\n",
       " <h3 class=\"wsj-headline dj-sg wsj-card-feature heading-4 unlocked\" data-reactid=\".28asi5gykg0.1.1.6.1.0.2.2.0.$4.2:$2.1\" itemprop=\"name\"><a class=\"wsj-headline-link\" data-reactid=\".28asi5gykg0.1.1.6.1.0.2.2.0.$4.2:$2.1.0\" href=\"http://blogs.wsj.com/washwire/2017/03/15/qa-what-are-the-three-prongs-in-gops-obamacare-repeal-and-replace-effort/\">Q&amp;A: What Are the \\u2018Three Prongs\\u2019 in GOP\\u2019s Obamacare Repeal-and-Replace Effort?</a></h3>,\n",
       " <h3 class=\"wsj-headline dj-sg wsj-card-feature heading-5 locked\" data-reactid=\".28asi5gykg0.1.1.6.1.0.2.3.$0.$1.1:$0.2.1\" itemprop=\"name\"><a class=\"wsj-headline-link\" data-reactid=\".28asi5gykg0.1.1.6.1.0.2.3.$0.$1.1:$0.2.1.0\" href=\"https://www.wsj.com/articles/hawaii-judge-blocks-trumps-revised-travel-ban-1489618057\">Judges Block Revised Travel Ban</a></h3>,\n",
       " <h3 class=\"wsj-headline dj-sg wsj-card-feature heading-5 locked\" data-reactid=\".28asi5gykg0.1.1.6.1.0.2.3.$0.$1.2:$1.1\" itemprop=\"name\"><a class=\"wsj-headline-link\" data-reactid=\".28asi5gykg0.1.1.6.1.0.2.3.$0.$1.2:$1.1.0\" href=\"https://www.wsj.com/articles/gop-chairman-of-house-intel-panel-i-don-t-think-there-was-an-actual-tap-of-trump-tower-1489593783\">Lawmakers Promise Results Soon on Wiretap and Election Probes</a></h3>,\n",
       " <h3 class=\"wsj-headline dj-sg wsj-card-feature heading-5 locked\" data-reactid=\".28asi5gykg0.1.1.6.1.0.2.3.$0.$1.2:$2.1\" itemprop=\"name\"><a class=\"wsj-headline-link\" data-reactid=\".28asi5gykg0.1.1.6.1.0.2.3.$0.$1.2:$2.1.0\" href=\"https://www.wsj.com/articles/top-democrat-on-intelligence-panel-raises-doubts-over-wiretapping-claims-1489339138\">Top Democrat on Intelligence Panel Raises Doubts Over Wiretap Claims</a></h3>,\n",
       " <h3 class=\"wsj-headline dj-sg wsj-card-feature heading-5 locked\" data-reactid=\".28asi5gykg0.1.1.6.1.0.2.3.$0.$2.1:$0.2.1\" itemprop=\"name\"><a class=\"wsj-headline-link\" data-reactid=\".28asi5gykg0.1.1.6.1.0.2.3.$0.$2.1:$0.2.1.0\" href=\"https://www.wsj.com/articles/insurers-see-health-care-premiums-increasing-significantly-in-2018-1489686809\">Insurers See Health-Care Premiums Increasing Significantly</a></h3>,\n",
       " <h3 class=\"wsj-headline dj-sg wsj-card-feature heading-5 locked\" data-reactid=\".28asi5gykg0.1.1.6.1.0.2.3.$0.$2.2:$1.1\" itemprop=\"name\"><a class=\"wsj-headline-link\" data-reactid=\".28asi5gykg0.1.1.6.1.0.2.3.$0.$2.2:$1.1.0\" href=\"https://www.wsj.com/articles/tanning-salons-see-ray-of-hope-in-aca-tax-repeal-1489684505\">Tanning Salons See Ray of Hope in ACA Tax Repeal</a></h3>,\n",
       " <h3 class=\"wsj-headline dj-sg wsj-card-feature heading-5 locked\" data-reactid=\".28asi5gykg0.1.1.6.1.0.2.3.$0.$2.2:$2.1\" itemprop=\"name\"><a class=\"wsj-headline-link\" data-reactid=\".28asi5gykg0.1.1.6.1.0.2.3.$0.$2.2:$2.1.0\" href=\"https://www.wsj.com/articles/republicans-explore-changes-to-health-care-plan-1489619876\">Republicans Explore Changes to Health Bill</a></h3>,\n",
       " <h3 class=\"wsj-headline dj-sg wsj-card-feature heading-5 unlocked\" data-reactid=\".28asi5gykg0.1.1.6.1.0.2.3.$0.$3.1:$0.2.1\" itemprop=\"name\"><a class=\"wsj-headline-link\" data-reactid=\".28asi5gykg0.1.1.6.1.0.2.3.$0.$3.1:$0.2.1.0\" href=\"http://blogs.wsj.com/economics/2017/03/16/more-hiring-and-quitting-points-to-an-improving-labor-market/\">More Hiring and Quitting Points to an Improving Labor Market</a></h3>,\n",
       " <h3 class=\"wsj-headline dj-sg wsj-card-feature heading-5 unlocked\" data-reactid=\".28asi5gykg0.1.1.6.1.0.2.3.$0.$3.2:$1.1\" itemprop=\"name\"><a class=\"wsj-headline-link\" data-reactid=\".28asi5gykg0.1.1.6.1.0.2.3.$0.$3.2:$1.1.0\" href=\"http://blogs.wsj.com/economics/2017/03/15/economists-react-an-opportunistic-federal-reserve-raises-rates/\">Economists React: \\u2018An Opportunistic Federal Reserve Raises Rates\\u2019</a></h3>,\n",
       " <h3 class=\"wsj-headline dj-sg wsj-card-feature heading-5 unlocked\" data-reactid=\".28asi5gykg0.1.1.6.1.0.2.3.$0.$3.2:$2.1\" itemprop=\"name\"><a class=\"wsj-headline-link\" data-reactid=\".28asi5gykg0.1.1.6.1.0.2.3.$0.$3.2:$2.1.0\" href=\"http://blogs.wsj.com/economics/2017/03/10/economists-react-to-the-february-jobs-report-a-march-hike-is-a-done-deal/\">Economists React to the February Jobs Report: \\u2018A March Hike Is a Done Deal\\u2019</a></h3>,\n",
       " <h3 class=\"wsj-headline dj-sg wsj-card-feature heading-5 locked\" data-reactid=\".28asi5gykg0.1.1.6.1.0.2.3.$1.$0.1:$0.2.1\" itemprop=\"name\"><a class=\"wsj-headline-link\" data-reactid=\".28asi5gykg0.1.1.6.1.0.2.3.$1.$0.1:$0.2.1.0\" href=\"https://www.wsj.com/articles/the-economic-anxieties-that-motivate-donald-trump-loyalists-1489420637\">The Economic Anxieties That Motivate Trump Loyalists</a></h3>,\n",
       " <h3 class=\"wsj-headline dj-sg wsj-card-feature heading-5 locked\" data-reactid=\".28asi5gykg0.1.1.6.1.0.2.3.$1.$0.2:$1.1\" itemprop=\"name\"><a class=\"wsj-headline-link\" data-reactid=\".28asi5gykg0.1.1.6.1.0.2.3.$1.$0.2:$1.1.0\" href=\"https://www.wsj.com/articles/senators-seek-review-of-criminal-justice-system-1489015783\">Senators Seek Review of Criminal Justice System</a></h3>,\n",
       " <h3 class=\"wsj-headline dj-sg wsj-card-feature heading-5 locked\" data-reactid=\".28asi5gykg0.1.1.6.1.0.2.3.$1.$0.2:$2.1\" itemprop=\"name\"><a class=\"wsj-headline-link\" data-reactid=\".28asi5gykg0.1.1.6.1.0.2.3.$1.$0.2:$2.1.0\" href=\"https://www.wsj.com/articles/a-plan-b-for-the-gop-raise-warren-buffetts-taxes-1488995006\">A Plan B for the GOP: Raise Taxes on the Likes of Buffett</a></h3>]"
      ]
     },
     "execution_count": 3,
     "metadata": {},
     "output_type": "execute_result"
    }
   ],
   "source": [
    "links"
   ]
  },
  {
   "cell_type": "code",
   "execution_count": 4,
   "metadata": {
    "collapsed": true
   },
   "outputs": [],
   "source": [
    "links = [val for sublist in links for val in sublist]"
   ]
  },
  {
   "cell_type": "code",
   "execution_count": 5,
   "metadata": {
    "collapsed": true
   },
   "outputs": [],
   "source": [
    "l = []\n",
    "for i in range(0,len(links)):\n",
    "    try:\n",
    "        l.append((links[i].getText()).encode('ascii','ignore'))\n",
    "        #l = l.translate({ 0x2018:0x27, 0x2019:0x27, 0x201C:0x22, 0x201D:0x22, 0x2026:0x20 })\n",
    "    except:\n",
    "        continue\n",
    "links = map(lambda s: s.strip(), l)"
   ]
  },
  {
   "cell_type": "code",
   "execution_count": 6,
   "metadata": {
    "collapsed": false
   },
   "outputs": [
    {
     "data": {
      "text/plain": [
       "['Budget Plan Hits EPA, Aids Military',\n",
       " 'Trump Seeks $30 Billion More This Year for Military, Fight Against Islamic State',\n",
       " 'Budget Could Mean to Public TV, Radio, Supporters Warn',\n",
       " 'Trump Seeks Major Cut to State Dept., USAID',\n",
       " 'Trump Budgets Deepest Cuts: Which Agencies Would Be Eliminated',\n",
       " 'Four Themes in Trumps Budget Blueprint',\n",
       " 'House Republican Health Plan Advances in Congress',\n",
       " 'Mike Flynn Worked for Several Russian Companies, Was Paid More Than $50,000',\n",
       " 'Senate Intel Committee Leaders Say They See No Indications Trump Tower Was Wiretapped',\n",
       " 'Obtaining Land for Trumps Border Wall a Daunting Task, Experts Say',\n",
       " 'Trump Seeks Billions in New Spending for Border Wall',\n",
       " 'Trump Nominates Boeing Executive to be Pentagon Deputy',\n",
       " 'Chamber of Commerce Chiefs Advice to Companies: Stay Engaged in Tax Debate',\n",
       " 'Tillerson to Press China Over North Korea Threat',\n",
       " 'GOP Health Plan Risks Sticker Shock for Trumps Base',\n",
       " 'New York Mayor de Blasio Cleared in Fundraising Probe',\n",
       " 'Deficits Are a Flawed Guide to Unfair Trade',\n",
       " 'The High Cost of Health Care in America',\n",
       " 'How the House GOP Health Plan Compares to the ACA',\n",
       " 'The world reacts. We analyze.',\n",
       " 'Trump Talks Leaked Tax Return, Muslims and Wiretapping',\n",
       " 'Cotton Picking Fight With GOP Health Plan',\n",
       " 'Yahoo Hack Puts Russian Election Meddling Back in Spotlight',\n",
       " 'Capital Journal: Inside the Trump Budget; Travel Ban Blocked; Health Bill Changes?',\n",
       " 'Preet Bhararas I Was Fired Tweet Was Seen 21 Million Times',\n",
       " 'Q&A: What Are the Three Prongs in GOPs Obamacare Repeal-and-Replace Effort?',\n",
       " 'Judges Block Revised Travel Ban',\n",
       " 'Lawmakers Promise Results Soon on Wiretap and Election Probes',\n",
       " 'Top Democrat on Intelligence Panel Raises Doubts Over Wiretap Claims',\n",
       " 'Insurers See Health-Care Premiums Increasing Significantly',\n",
       " 'Tanning Salons See Ray of Hope in ACA Tax Repeal',\n",
       " 'Republicans Explore Changes to Health Bill',\n",
       " 'More Hiring and Quitting Points to an Improving Labor Market',\n",
       " 'Economists React: An Opportunistic Federal Reserve Raises Rates',\n",
       " 'Economists React to the February Jobs Report: A March Hike Is a Done Deal',\n",
       " 'The Economic Anxieties That Motivate Trump Loyalists',\n",
       " 'Senators Seek Review of Criminal Justice System',\n",
       " 'A Plan B for the GOP: Raise Taxes on the Likes of Buffett']"
      ]
     },
     "execution_count": 6,
     "metadata": {},
     "output_type": "execute_result"
    }
   ],
   "source": [
    "links"
   ]
  },
  {
   "cell_type": "code",
   "execution_count": 7,
   "metadata": {
    "collapsed": false
   },
   "outputs": [
    {
     "data": {
      "text/plain": [
       "['Budget Plan Hits EPA, Aids Military',\n",
       " 'Trump Seeks $30 Billion More This Year for Military, Fight Against Islamic State',\n",
       " 'Budget Could Mean to Public TV, Radio, Supporters Warn',\n",
       " 'Trump Seeks Major Cut to State Dept., USAID',\n",
       " 'Trump Budgets Deepest Cuts: Which Agencies Would Be Eliminated',\n",
       " 'Four Themes in Trumps Budget Blueprint',\n",
       " 'House Republican Health Plan Advances in Congress',\n",
       " 'Mike Flynn Worked for Several Russian Companies, Was Paid More Than $50,000',\n",
       " 'Senate Intel Committee Leaders Say They See No Indications Trump Tower Was Wiretapped',\n",
       " 'Obtaining Land for Trumps Border Wall a Daunting Task, Experts Say',\n",
       " 'Trump Seeks Billions in New Spending for Border Wall',\n",
       " 'Trump Nominates Boeing Executive to be Pentagon Deputy',\n",
       " 'Chamber of Commerce Chiefs Advice to Companies: Stay Engaged in Tax Debate',\n",
       " 'Tillerson to Press China Over North Korea Threat',\n",
       " 'GOP Health Plan Risks Sticker Shock for Trumps Base',\n",
       " 'New York Mayor de Blasio Cleared in Fundraising Probe',\n",
       " 'Deficits Are a Flawed Guide to Unfair Trade',\n",
       " 'The High Cost of Health Care in America',\n",
       " 'How the House GOP Health Plan Compares to the ACA',\n",
       " 'The world reacts. We analyze.',\n",
       " 'Trump Talks Leaked Tax Return, Muslims and Wiretapping',\n",
       " 'Cotton Picking Fight With GOP Health Plan',\n",
       " 'Yahoo Hack Puts Russian Election Meddling Back in Spotlight',\n",
       " 'Capital Journal: Inside the Trump Budget; Travel Ban Blocked; Health Bill Changes?',\n",
       " 'Preet Bhararas I Was Fired Tweet Was Seen 21 Million Times',\n",
       " 'Q&A: What Are the Three Prongs in GOPs Obamacare Repeal-and-Replace Effort?',\n",
       " 'Judges Block Revised Travel Ban',\n",
       " 'Lawmakers Promise Results Soon on Wiretap and Election Probes',\n",
       " 'Top Democrat on Intelligence Panel Raises Doubts Over Wiretap Claims',\n",
       " 'Insurers See Health-Care Premiums Increasing Significantly',\n",
       " 'Tanning Salons See Ray of Hope in ACA Tax Repeal',\n",
       " 'Republicans Explore Changes to Health Bill',\n",
       " 'More Hiring and Quitting Points to an Improving Labor Market',\n",
       " 'Economists React: An Opportunistic Federal Reserve Raises Rates',\n",
       " 'Economists React to the February Jobs Report: A March Hike Is a Done Deal',\n",
       " 'The Economic Anxieties That Motivate Trump Loyalists',\n",
       " 'Senators Seek Review of Criminal Justice System',\n",
       " 'A Plan B for the GOP: Raise Taxes on the Likes of Buffett']"
      ]
     },
     "execution_count": 7,
     "metadata": {},
     "output_type": "execute_result"
    }
   ],
   "source": [
    "links = map(lambda s: s.encode(\"utf-8\"), links)\n",
    "links = [x.rstrip('\\n') for x in links]\n",
    "links"
   ]
  },
  {
   "cell_type": "code",
   "execution_count": 8,
   "metadata": {
    "collapsed": true
   },
   "outputs": [],
   "source": [
    "trumps_admin = ['whitehouse','trump','conway','sessions','pence','president','tillerson','devos','flynn','kushner','carson','department','preibus','bannon','spicer','miller']"
   ]
  },
  {
   "cell_type": "code",
   "execution_count": 9,
   "metadata": {
    "collapsed": true
   },
   "outputs": [],
   "source": [
    "links = [x.lower() for x in links]\n"
   ]
  },
  {
   "cell_type": "code",
   "execution_count": 10,
   "metadata": {
    "collapsed": false
   },
   "outputs": [
    {
     "data": {
      "text/plain": [
       "['trump seeks $30 billion more this year for military, fight against islamic state',\n",
       " 'trump seeks major cut to state dept., usaid',\n",
       " 'trump budgets deepest cuts: which agencies would be eliminated',\n",
       " 'four themes in trumps budget blueprint',\n",
       " 'senate intel committee leaders say they see no indications trump tower was wiretapped',\n",
       " 'obtaining land for trumps border wall a daunting task, experts say',\n",
       " 'trump seeks billions in new spending for border wall',\n",
       " 'trump nominates boeing executive to be pentagon deputy',\n",
       " 'gop health plan risks sticker shock for trumps base',\n",
       " 'trump talks leaked tax return, muslims and wiretapping',\n",
       " 'capital journal: inside the trump budget; travel ban blocked; health bill changes?',\n",
       " 'the economic anxieties that motivate trump loyalists',\n",
       " 'tillerson to press china over north korea threat',\n",
       " 'mike flynn worked for several russian companies, was paid more than $50,000']"
      ]
     },
     "execution_count": 10,
     "metadata": {},
     "output_type": "execute_result"
    }
   ],
   "source": [
    "total_titles = []\n",
    "for admin in trumps_admin:\n",
    "    titles = [x for x in links if admin in x]\n",
    "    total_titles.extend(titles)\n",
    "total_titles"
   ]
  },
  {
   "cell_type": "code",
   "execution_count": 11,
   "metadata": {
    "collapsed": true
   },
   "outputs": [],
   "source": [
    "title_file = open(\"wsj.txt\", \"a\")"
   ]
  },
  {
   "cell_type": "code",
   "execution_count": 12,
   "metadata": {
    "collapsed": true
   },
   "outputs": [],
   "source": [
    "for i in range(0, len(total_titles)):\n",
    "    temp = total_titles[i]\n",
    "    title_file.write(temp + '\\n')"
   ]
  },
  {
   "cell_type": "code",
   "execution_count": 13,
   "metadata": {
    "collapsed": true
   },
   "outputs": [],
   "source": [
    "title_names = []\n",
    "title_file = open(\"wsj.txt\",\"r\")\n",
    "for line in title_file:\n",
    "    line = line.strip()\n",
    "    title_names.append(line)\n",
    "title_file.close()"
   ]
  },
  {
   "cell_type": "code",
   "execution_count": 14,
   "metadata": {
    "collapsed": false
   },
   "outputs": [
    {
     "data": {
      "text/plain": [
       "['hawaii judge agrees to hearing on trump immigration order',\n",
       " 'trump begins to map out $1 trillion infrastructure plan',\n",
       " 'cummings asks trump to moderate rhetoric on black neighborhoods',\n",
       " 'ivanka trumps landlord is a chilean who is suing the u.s.',\n",
       " 'think a negative trump tweet crushes a stock? think again',\n",
       " 'democrats say trump agreed to pursue authority to negotiate drug prices',\n",
       " 'elijah cummings says he asked trump to tone down rhetoric about black neighborhoods',\n",
       " 'as trump heads to congress, polarization is hardening',\n",
       " 'trump lowers profile after obama wiretap accusation',\n",
       " 'in office, trump changes his tune on job growth numbers he once denounced',\n",
       " 'washington state to fight new trump travel order',\n",
       " 'think a negative trump tweet crushes a stock? think again',\n",
       " 'trump meets with gop leaders to rally behind new health law',\n",
       " 'are trumps deleted tweets official records? the house oversight committee thinks so',\n",
       " 'will trumpcare catch on? the democrats are trying',\n",
       " 'hawaii judge agrees to hearing on trump immigration order',\n",
       " 'trump expected to nominate scott gottlieb to lead fda',\n",
       " 'trump lowers profile after obama wiretap accusation',\n",
       " 'trump didnt know of flynns work for turkey before nomination',\n",
       " 'think a negative trump tweet crushes a stock? think again',\n",
       " 'trump meets with gop leaders to rally behind new health law',\n",
       " 'trump plays background role on health care',\n",
       " 'trump to nominate scott gottlieb to lead fda',\n",
       " 'pence appeals for complete gop support for health overhaul',\n",
       " 'trump didnt know of flynns work for turkey before nomination',\n",
       " 'trump administration officials defend gop health bill',\n",
       " 'the economic anxieties that motivate trump loyalists',\n",
       " 'white house back-pedals on claim obama wiretapped trumps phones',\n",
       " 'republicans pose growing challenge to trumps trade agenda',\n",
       " 'real or joking? white house under fire over trumps statements',\n",
       " 'think a negative trump tweet crushes a stock? think again',\n",
       " \"white house defends trump's truthfulness\",\n",
       " 'trump plays background role on health care',\n",
       " 'pence appeals for complete gop support for health overhaul',\n",
       " 'cfpb, justice department poised to square off in court',\n",
       " 'where donald trumps health-care promises stand now',\n",
       " 'trump to nominate goldman banker to no. 2 post at treasury',\n",
       " 'trump paid $38 million in taxes in 2005',\n",
       " 'trump trade nominee lighthizer puts a target on china',\n",
       " 'think a negative trump tweet crushes a stock? think again',\n",
       " 'what motivates donald trump loyalists',\n",
       " 'capital journal daybreak: the cbos big numbers; tillersons email alias; trump oks cia to conduct drone strikes',\n",
       " 'the economic anxieties that motivate trump loyalists',\n",
       " 'tillerson travels to asia amid rising tensions in region',\n",
       " 'capital journal daybreak: the cbos big numbers; tillersons email alias; trump oks cia to conduct drone strikes',\n",
       " 'bannons journey  to economic nationalism',\n",
       " 'house lawmakers reject trump wiretap allegation',\n",
       " 'where donald trumps health-care promises stand now',\n",
       " 'administration, advocates spar over move to block trump travel ban',\n",
       " 'trump paid $38 million in taxes in 2005',\n",
       " 'trump to nominate goldman banker to no. 2 post at treasury',\n",
       " 'trump trade nominee lighthizer puts a target on china',\n",
       " 'think a negative trump tweet crushes a stock? think again',\n",
       " 'intelligence committee: no evidence trump tower was tapped',\n",
       " \"trump's tax return: what's missing?\",\n",
       " 'capital journal: senate warns on health plan; bannon profile; trump tax leak',\n",
       " 'the economic anxieties that motivate trump loyalists',\n",
       " 'bannons journey  to economic nationalism',\n",
       " 'capital journal: senate warns on health plan; bannon profile; trump tax leak',\n",
       " 'trump seeks $30 billion more this year for military, fight against islamic state',\n",
       " 'trump seeks major cut to state dept., usaid',\n",
       " 'trump budgets deepest cuts: which agencies would be eliminated',\n",
       " 'four themes in trumps budget blueprint',\n",
       " 'senate intel committee leaders say they see no indications trump tower was wiretapped',\n",
       " 'obtaining land for trumps border wall a daunting task, experts say',\n",
       " 'trump seeks billions in new spending for border wall',\n",
       " 'trump nominates boeing executive to be pentagon deputy',\n",
       " 'gop health plan risks sticker shock for trumps base',\n",
       " 'trump talks leaked tax return, muslims and wiretapping',\n",
       " 'capital journal: inside the trump budget; travel ban blocked; health bill changes?',\n",
       " 'the economic anxieties that motivate trump loyalists',\n",
       " 'tillerson to press china over north korea threat',\n",
       " 'mike flynn worked for several russian companies, was paid more than $50,000']"
      ]
     },
     "execution_count": 14,
     "metadata": {},
     "output_type": "execute_result"
    }
   ],
   "source": [
    "title_names"
   ]
  },
  {
   "cell_type": "code",
   "execution_count": 15,
   "metadata": {
    "collapsed": false
   },
   "outputs": [
    {
     "data": {
      "text/plain": [
       "73"
      ]
     },
     "execution_count": 15,
     "metadata": {},
     "output_type": "execute_result"
    }
   ],
   "source": [
    "len(title_names)"
   ]
  },
  {
   "cell_type": "code",
   "execution_count": null,
   "metadata": {
    "collapsed": true
   },
   "outputs": [],
   "source": []
  }
 ],
 "metadata": {
  "anaconda-cloud": {},
  "kernelspec": {
   "display_name": "Python [default]",
   "language": "python",
   "name": "python2"
  },
  "language_info": {
   "codemirror_mode": {
    "name": "ipython",
    "version": 2
   },
   "file_extension": ".py",
   "mimetype": "text/x-python",
   "name": "python",
   "nbconvert_exporter": "python",
   "pygments_lexer": "ipython2",
   "version": "2.7.12"
  }
 },
 "nbformat": 4,
 "nbformat_minor": 1
}
