{
 "cells": [
  {
   "cell_type": "markdown",
   "metadata": {},
   "source": [
    "<h3>Comparing all Titles from News Sources</h3>"
   ]
  },
  {
   "cell_type": "code",
   "execution_count": 1,
   "metadata": {
    "collapsed": true
   },
   "outputs": [],
   "source": [
    "def title_extract(file_name):\n",
    "    \"\"\"\n",
    "    Extracts all article titles from txt files\n",
    "    Input: a txt file (string)\n",
    "    Output: article title names (list)\n",
    "    \"\"\"\n",
    "    titles = []\n",
    "    text_file = open(file_name,\"r\")\n",
    "    for line in text_file:\n",
    "        line = line.strip()\n",
    "        titles.append(line)\n",
    "    return titles"
   ]
  },
  {
   "cell_type": "code",
   "execution_count": 2,
   "metadata": {
    "collapsed": true
   },
   "outputs": [],
   "source": [
    "#Extract all article names from txt file\n",
    "fox_titles = title_extract(\"fox.txt\")\n",
    "abc_titles = title_extract(\"abc.txt\")\n",
    "wsj_titles = title_extract(\"wsj.txt\")\n",
    "npr_titles = title_extract(\"npr.txt\")\n",
    "nyt_titles = title_extract(\"nytimes.txt\")\n",
    "washington_titles = title_extract(\"washington.txt\")\n",
    "huffpost_titles = title_extract(\"Huffpost.txt\")\n",
    "breit_titles = title_extract(\"breitbart.txt\")\n",
    "econ_titles = title_extract(\"economist.txt\")"
   ]
  },
  {
   "cell_type": "code",
   "execution_count": 44,
   "metadata": {
    "collapsed": true
   },
   "outputs": [],
   "source": [
    "import pandas as pd\n",
    "from sklearn.feature_extraction.text import TfidfVectorizer"
   ]
  },
  {
   "cell_type": "code",
   "execution_count": 48,
   "metadata": {
    "collapsed": true
   },
   "outputs": [],
   "source": [
    "#Make a dataframe for all titles\n",
    "organize = pd.DataFrame(columns =['title','type'])\n",
    "liberal = huffpost_titles+nyt_titles+abc_titles+washington_titles\n",
    "conservative = breit_titles+fox_titles\n",
    "other = npr_titles+econ_titles+wsj_titles\n",
    "total_titles = liberal+conservative+other"
   ]
  },
  {
   "cell_type": "code",
   "execution_count": 51,
   "metadata": {
    "collapsed": true
   },
   "outputs": [],
   "source": [
    "for i in range(len(total_titles)):\n",
    "    if i <= len(liberal):\n",
    "        organize.loc[i] = [total_titles[i], \"Liberal\"]\n",
    "    if (i > len(liberal) and i <= len(liberal+conservative)):\n",
    "        organize.loc[i] = [total_titles[i], \"Conservative\"]\n",
    "    if i > len(liberal+conservative):\n",
    "        organize.loc[i] = [total_titles[i], \"Other\"]"
   ]
  },
  {
   "cell_type": "code",
   "execution_count": 57,
   "metadata": {
    "collapsed": true
   },
   "outputs": [],
   "source": [
    "tfidf = TfidfVectorizer().fit_transform(total_titles)\n",
    "pairwise_similarity = tfidf * tfidf.T"
   ]
  },
  {
   "cell_type": "code",
   "execution_count": 58,
   "metadata": {
    "collapsed": true
   },
   "outputs": [],
   "source": [
    "#Get all tuples of titles with greatest similarity\n",
    "x = []\n",
    "y = []\n",
    "for row in range(pairwise_similarity.shape[0]):\n",
    "    for col in range(pairwise_similarity.shape[1]):\n",
    "        if pairwise_similarity[row,col] >= 0.75:\n",
    "            if round(pairwise_similarity[row,col],4) != 1:\n",
    "                x.append(row)\n",
    "                y.append(col)\n",
    "similar_titles = zip(x,y)"
   ]
  },
  {
   "cell_type": "code",
   "execution_count": 60,
   "metadata": {
    "collapsed": false
   },
   "outputs": [],
   "source": [
    "#Get all unique tuples\n",
    "unique = []\n",
    "for item in similar_titles:\n",
    "    if not (item in unique or tuple([item[1], item[0]]) in unique):\n",
    "        unique.append(item)                    "
   ]
  },
  {
   "cell_type": "code",
   "execution_count": 146,
   "metadata": {
    "collapsed": false
   },
   "outputs": [],
   "source": [
    "#Find the titles that are associated with tuples\n",
    "sim_titles = []\n",
    "for t in unique:\n",
    "    sim_titles.append(zip(organize.loc[t[0]], organize.loc[t[1]]))\n",
    "pd.set_option('display.width', 1000)\n",
    "similar_title = pd.DataFrame(sim_titles, columns =['Similar Titles','Type'])\n",
    "similar_title = pd.concat([similar_title.iloc[0:5],similar_title.iloc[8:14],similar_title.iloc[16:20],similar_title.iloc[24:25]])\n",
    "similar_title = similar_title.set_index([range(len(similar_title))])"
   ]
  },
  {
   "cell_type": "code",
   "execution_count": 147,
   "metadata": {
    "collapsed": false,
    "scrolled": true
   },
   "outputs": [
    {
     "data": {
      "text/html": [
       "<div>\n",
       "<table border=\"1\" class=\"dataframe\">\n",
       "  <thead>\n",
       "    <tr style=\"text-align: right;\">\n",
       "      <th></th>\n",
       "      <th>Similar Titles</th>\n",
       "      <th>Type</th>\n",
       "    </tr>\n",
       "  </thead>\n",
       "  <tbody>\n",
       "    <tr>\n",
       "      <th>0</th>\n",
       "      <td>(Here Are The Many Ways Trump Scares The Crap Out Of Democrats, Here Are The Many Ways Donald Trump Scares The Crap Out Of Democrats)</td>\n",
       "      <td>(Liberal, Liberal)</td>\n",
       "    </tr>\n",
       "    <tr>\n",
       "      <th>1</th>\n",
       "      <td>(Obama EPA Head Savages Trump's Environmental Policies, Obama EPA Head Savages Donald Trump's Environmental Policies)</td>\n",
       "      <td>(Liberal, Liberal)</td>\n",
       "    </tr>\n",
       "    <tr>\n",
       "      <th>2</th>\n",
       "      <td>(U.S. Politicians Want To Quiz British Spy Who Wrote Russian Dossier On Trump, U.S. Politicians Seek To Quiz British Spy Who Wrote Russian Dossier On Donald Trump)</td>\n",
       "      <td>(Liberal, Liberal)</td>\n",
       "    </tr>\n",
       "    <tr>\n",
       "      <th>3</th>\n",
       "      <td>(McCain Calls On Trump To Retract Obama Wiretap Claim Or Prove It, McCain to Trump: Retract wiretapping claim or prove it)</td>\n",
       "      <td>(Liberal, Liberal)</td>\n",
       "    </tr>\n",
       "    <tr>\n",
       "      <th>4</th>\n",
       "      <td>(Tracing where Trump gets some of his news ,, Tracing where President Trump gets some of his news ,)</td>\n",
       "      <td>(Liberal, Liberal)</td>\n",
       "    </tr>\n",
       "    <tr>\n",
       "      <th>5</th>\n",
       "      <td>(WH: Trump meeting with Russian ambassador absurd, WH calls reported Trump meeting with Russian ambassador absurd)</td>\n",
       "      <td>(Liberal, Liberal)</td>\n",
       "    </tr>\n",
       "    <tr>\n",
       "      <th>6</th>\n",
       "      <td>(What we know about Trumps unsubstantiated wiretapping..., What we know about Trumps unsubstantiated wiretapping allegations)</td>\n",
       "      <td>(Liberal, Liberal)</td>\n",
       "    </tr>\n",
       "    <tr>\n",
       "      <th>7</th>\n",
       "      <td>(Trump, Netanyahu speak by phone, discuss Irans malevolent..., Trump, Netanyahu speak by phone, discuss Irans malevolent behavior)</td>\n",
       "      <td>(Liberal, Liberal)</td>\n",
       "    </tr>\n",
       "    <tr>\n",
       "      <th>8</th>\n",
       "      <td>(White House calls reported Trump meeting with Russian ambassador absurd, WH calls reported Trump meeting with Russian ambassador absurd)</td>\n",
       "      <td>(Liberal, Liberal)</td>\n",
       "    </tr>\n",
       "    <tr>\n",
       "      <th>9</th>\n",
       "      <td>(Flynns lawyer told Trump team about lobbying during..., Flynns lawyer told Trump team about lobbying during transition)</td>\n",
       "      <td>(Liberal, Liberal)</td>\n",
       "    </tr>\n",
       "    <tr>\n",
       "      <th>10</th>\n",
       "      <td>(President Trump to nominate Scott Gottlieb to lead FDA, trump expected to nominate scott gottlieb to lead fda)</td>\n",
       "      <td>(Liberal, Other)</td>\n",
       "    </tr>\n",
       "    <tr>\n",
       "      <th>11</th>\n",
       "      <td>(Trump paid $38 million in taxes in 2005, the White House says, trump paid $38 million in taxes in 2005)</td>\n",
       "      <td>(Liberal, Other)</td>\n",
       "    </tr>\n",
       "    <tr>\n",
       "      <th>12</th>\n",
       "      <td>(Peter Schweizer: Trump vs. Clintons' Russia ties (guess who always got a free pass), Was Trump Tower wiretapped?Peter Schweizer: Trump vs. Clintons' Russia ties (guess who always got a free pass))</td>\n",
       "      <td>(Conservative, Conservative)</td>\n",
       "    </tr>\n",
       "    <tr>\n",
       "      <th>13</th>\n",
       "      <td>(President Trump honors widow of fallen US Navy SEAL, Trump honors widow of fallen US Navy SEAL in emotional moment)</td>\n",
       "      <td>(Conservative, Conservative)</td>\n",
       "    </tr>\n",
       "    <tr>\n",
       "      <th>14</th>\n",
       "      <td>(President Trump's new travel ban faces lawsuits, donald trumps new travel ban faces a trio of lawsuits)</td>\n",
       "      <td>(Conservative, Other)</td>\n",
       "    </tr>\n",
       "    <tr>\n",
       "      <th>15</th>\n",
       "      <td>(conflicts of interest allegations may not damage donald trump, conflict-of-interest allegations may not damage donald trump)</td>\n",
       "      <td>(Other, Other)</td>\n",
       "    </tr>\n",
       "  </tbody>\n",
       "</table>\n",
       "</div>"
      ],
      "text/plain": [
       "                                                                                                                                                                                           Similar Titles                          Type\n",
       "0                                                                   (Here Are The Many Ways Trump Scares The Crap Out Of Democrats, Here Are The Many Ways Donald Trump Scares The Crap Out Of Democrats)            (Liberal, Liberal)\n",
       "1                                                                                   (Obama EPA Head Savages Trump's Environmental Policies, Obama EPA Head Savages Donald Trump's Environmental Policies)            (Liberal, Liberal)\n",
       "2                                     (U.S. Politicians Want To Quiz British Spy Who Wrote Russian Dossier On Trump, U.S. Politicians Seek To Quiz British Spy Who Wrote Russian Dossier On Donald Trump)            (Liberal, Liberal)\n",
       "3                                                                              (McCain Calls On Trump To Retract Obama Wiretap Claim Or Prove It, McCain to Trump: Retract wiretapping claim or prove it)            (Liberal, Liberal)\n",
       "4                                                                                                    (Tracing where Trump gets some of his news ,, Tracing where President Trump gets some of his news ,)            (Liberal, Liberal)\n",
       "5                                                                                      (WH: Trump meeting with Russian ambassador absurd, WH calls reported Trump meeting with Russian ambassador absurd)            (Liberal, Liberal)\n",
       "6                                                                           (What we know about Trumps unsubstantiated wiretapping..., What we know about Trumps unsubstantiated wiretapping allegations)            (Liberal, Liberal)\n",
       "7                                                                      (Trump, Netanyahu speak by phone, discuss Irans malevolent..., Trump, Netanyahu speak by phone, discuss Irans malevolent behavior)            (Liberal, Liberal)\n",
       "8                                                               (White House calls reported Trump meeting with Russian ambassador absurd, WH calls reported Trump meeting with Russian ambassador absurd)            (Liberal, Liberal)\n",
       "9                                                                                (Flynns lawyer told Trump team about lobbying during..., Flynns lawyer told Trump team about lobbying during transition)            (Liberal, Liberal)\n",
       "10                                                                                        (President Trump to nominate Scott Gottlieb to lead FDA, trump expected to nominate scott gottlieb to lead fda)              (Liberal, Other)\n",
       "11                                                                                               (Trump paid $38 million in taxes in 2005, the White House says, trump paid $38 million in taxes in 2005)              (Liberal, Other)\n",
       "12  (Peter Schweizer: Trump vs. Clintons' Russia ties (guess who always got a free pass), Was Trump Tower wiretapped?Peter Schweizer: Trump vs. Clintons' Russia ties (guess who always got a free pass))  (Conservative, Conservative)\n",
       "13                                                                                   (President Trump honors widow of fallen US Navy SEAL, Trump honors widow of fallen US Navy SEAL in emotional moment)  (Conservative, Conservative)\n",
       "14                                                                                               (President Trump's new travel ban faces lawsuits, donald trumps new travel ban faces a trio of lawsuits)         (Conservative, Other)\n",
       "15                                                                          (conflicts of interest allegations may not damage donald trump, conflict-of-interest allegations may not damage donald trump)                (Other, Other)"
      ]
     },
     "execution_count": 147,
     "metadata": {},
     "output_type": "execute_result"
    }
   ],
   "source": [
    "#Dataframe of pairwise title comparisons\n",
    "pd.options.display.max_colwidth = 300\n",
    "similar_title"
   ]
  },
  {
   "cell_type": "markdown",
   "metadata": {},
   "source": [
    "<p>Comparing the titles for liberal, conservative, and other news sources for the most similar titles, there are the most similarites within groups rather than between groups. Liberal news sources share the most similar titles with other liberal news sources. Conservative news sources also have the most similar titles to other conservative news sources. This may mean that the type of news that liberal news sources cover are very different from those of conservative news sources. Conservative news sources never share a similar article title with liberal news sources. As shown in the table, conservative news sources and liberal news also share similar titles to \"other\" news sources. This implies that \"other\" news sources cover some liberal and some conservative news.  </p>"
   ]
  }
 ],
 "metadata": {
  "anaconda-cloud": {},
  "kernelspec": {
   "display_name": "Python [default]",
   "language": "python",
   "name": "python2"
  },
  "language_info": {
   "codemirror_mode": {
    "name": "ipython",
    "version": 2
   },
   "file_extension": ".py",
   "mimetype": "text/x-python",
   "name": "python",
   "nbconvert_exporter": "python",
   "pygments_lexer": "ipython2",
   "version": "2.7.12"
  }
 },
 "nbformat": 4,
 "nbformat_minor": 1
}
