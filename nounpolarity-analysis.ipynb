{
 "cells": [
  {
   "cell_type": "code",
   "execution_count": 241,
   "metadata": {
    "collapsed": false
   },
   "outputs": [],
   "source": [
    "from urllib2 import Request, urlopen\n",
    "from urlparse import urlparse, urlunparse\n",
    "import requests, requests_cache\n",
    "import pandas as pd\n",
    "import json\n",
    "from wordcloud import WordCloud\n",
    "from matplotlib import pyplot as plt\n",
    "plt.style.use('ggplot')\n",
    "from bs4 import BeautifulSoup\n",
    "import re\n",
    "from os import listdir\n",
    "from os import chdir\n",
    "from os.path import isfile, join\n",
    "import nltk\n",
    "from nltk.sentiment.vader import SentimentIntensityAnalyzer\n",
    "import numpy as np\n",
    "import string\n",
    "from textblob import TextBlob\n",
    "import pylab\n",
    "from __future__ import division"
   ]
  },
  {
   "cell_type": "code",
   "execution_count": 274,
   "metadata": {
    "collapsed": true
   },
   "outputs": [],
   "source": [
    "import numpy as np"
   ]
  },
  {
   "cell_type": "code",
   "execution_count": 275,
   "metadata": {
    "collapsed": false
   },
   "outputs": [],
   "source": [
    "ind = np.arange(3)"
   ]
  },
  {
   "cell_type": "code",
   "execution_count": 3,
   "metadata": {
    "collapsed": false
   },
   "outputs": [],
   "source": [
    "chdir('../sta141bfinal/all/')"
   ]
  },
  {
   "cell_type": "code",
   "execution_count": 4,
   "metadata": {
    "collapsed": true
   },
   "outputs": [],
   "source": [
    "def read_text(filename):\n",
    "    \"\"\"\n",
    "    This function reads a txt file with filtered or unfiltered list of titles\n",
    "    Input: A txt file\n",
    "    Output: Filtered list of titles\n",
    "    \"\"\"\n",
    "    \n",
    "    title_names = []\n",
    "    text_file = open(filename,\"r\")\n",
    "\n",
    "    for line in text_file:\n",
    "        line = line.strip()\n",
    "        title_names.append(line)\n",
    "\n",
    "    return title_names"
   ]
  },
  {
   "cell_type": "code",
   "execution_count": 5,
   "metadata": {
    "collapsed": false
   },
   "outputs": [],
   "source": [
    "huff = read_text(\"huffpost.txt\")\n",
    "abc = read_text(\"abc.txt\")\n",
    "economist = read_text(\"economist.txt\")\n",
    "fox = read_text(\"fox.txt\")\n",
    "npr = read_text(\"npr.txt\")\n",
    "nytimes = read_text(\"nytimes.txt\")\n",
    "washington = read_text(\"washington.txt\")\n",
    "wsj = read_text(\"wsj.txt\")\n",
    "breitbart = read_text(\"breitbart.txt\")"
   ]
  },
  {
   "cell_type": "code",
   "execution_count": 120,
   "metadata": {
    "collapsed": false
   },
   "outputs": [
    {
     "data": {
      "text/plain": [
       "<167x167 sparse matrix of type '<type 'numpy.float64'>'\n",
       "\twith 26789 stored elements in Compressed Sparse Row format>"
      ]
     },
     "execution_count": 120,
     "metadata": {},
     "output_type": "execute_result"
    }
   ],
   "source": [
    "from sklearn.feature_extraction.text import TfidfVectorizer\n",
    "\n",
    "tfidf = TfidfVectorizer().fit_transform(huff)\n",
    "pairwise_similarity = tfidf * tfidf.T\n",
    "(pairwise_similarity)"
   ]
  },
  {
   "cell_type": "code",
   "execution_count": 166,
   "metadata": {
    "collapsed": true
   },
   "outputs": [],
   "source": [
    "y = pairwise_similarity.tocoo()\n",
    "k = y.data.argmax()\n",
    "maxval = y.data[k]\n",
    "maxrow = y.row[k]\n",
    "maxcol = y.col[k]"
   ]
  },
  {
   "cell_type": "code",
   "execution_count": 140,
   "metadata": {
    "collapsed": false
   },
   "outputs": [],
   "source": [
    "y.data.sort()"
   ]
  },
  {
   "cell_type": "code",
   "execution_count": 168,
   "metadata": {
    "collapsed": false
   },
   "outputs": [
    {
     "data": {
      "text/plain": [
       "26789"
      ]
     },
     "execution_count": 168,
     "metadata": {},
     "output_type": "execute_result"
    }
   ],
   "source": [
    "\n",
    "y.nnz"
   ]
  },
  {
   "cell_type": "code",
   "execution_count": 188,
   "metadata": {
    "collapsed": false
   },
   "outputs": [],
   "source": [
    "y.data[26788]\n",
    "maxrow = y.row[26622]\n",
    "maxcol = y.col[26624]"
   ]
  },
  {
   "cell_type": "code",
   "execution_count": 189,
   "metadata": {
    "collapsed": false
   },
   "outputs": [
    {
     "name": "stdout",
     "output_type": "stream",
     "text": [
      "165 165\n"
     ]
    }
   ],
   "source": [
    "print maxrow, maxcol"
   ]
  },
  {
   "cell_type": "code",
   "execution_count": 205,
   "metadata": {
    "collapsed": true
   },
   "outputs": [],
   "source": [
    "def noun_polarity(total_list):\n",
    "\n",
    "    noun_phrases = []\n",
    "    for title in total_list:\n",
    "        blob = TextBlob(title)\n",
    "        noun_phrases.extend(blob.noun_phrases)\n",
    "    \n",
    "    noun_polarity = []\n",
    "    noun_subjectivity = []\n",
    "    for noun in noun_phrases:\n",
    "        blob = TextBlob(noun)\n",
    "        noun_polarity.append(blob.sentiment.polarity)\n",
    "        noun_subjectivity.append(blob.sentiment.subjectivity)\n",
    "    \n",
    "    return noun_polarity, noun_subjectivity\n"
   ]
  },
  {
   "cell_type": "code",
   "execution_count": 206,
   "metadata": {
    "collapsed": false
   },
   "outputs": [],
   "source": [
    "huff_noun_pol, huff_noun_sub = noun_polarity(huff)"
   ]
  },
  {
   "cell_type": "code",
   "execution_count": 207,
   "metadata": {
    "collapsed": false
   },
   "outputs": [],
   "source": [
    "abc_noun_pol, abc_noun_sub = noun_polarity(abc)"
   ]
  },
  {
   "cell_type": "code",
   "execution_count": 208,
   "metadata": {
    "collapsed": true
   },
   "outputs": [],
   "source": [
    "economist_noun_pol, economist_noun_sub = noun_polarity(economist)"
   ]
  },
  {
   "cell_type": "code",
   "execution_count": 209,
   "metadata": {
    "collapsed": true
   },
   "outputs": [],
   "source": [
    "fox_noun_pol, fox_noun_sub = noun_polarity(fox)"
   ]
  },
  {
   "cell_type": "code",
   "execution_count": 210,
   "metadata": {
    "collapsed": true
   },
   "outputs": [],
   "source": [
    "npr_noun_pol, npr_noun_sub = noun_polarity(npr)"
   ]
  },
  {
   "cell_type": "code",
   "execution_count": 211,
   "metadata": {
    "collapsed": true
   },
   "outputs": [],
   "source": [
    "nytimes_noun_pol, nytimes_noun_sub = noun_polarity(nytimes)"
   ]
  },
  {
   "cell_type": "code",
   "execution_count": 212,
   "metadata": {
    "collapsed": true
   },
   "outputs": [],
   "source": [
    "washington_noun_pol, washington_noun_sub = noun_polarity(washington)"
   ]
  },
  {
   "cell_type": "code",
   "execution_count": 213,
   "metadata": {
    "collapsed": true
   },
   "outputs": [],
   "source": [
    "wsj_noun_pol, wsj_noun_sub = noun_polarity(wsj)"
   ]
  },
  {
   "cell_type": "code",
   "execution_count": 214,
   "metadata": {
    "collapsed": true
   },
   "outputs": [],
   "source": [
    "breitbart_noun_pol, breitbart_noun_sub = noun_polarity(breitbart)"
   ]
  },
  {
   "cell_type": "code",
   "execution_count": 246,
   "metadata": {
    "collapsed": false
   },
   "outputs": [],
   "source": [
    "def polarity_levels(total_pol, name, typenews, num):\n",
    "    pos_pol = [i for i in total_pol if i > 0]\n",
    "    pos_pol = str(len(pos_pol) / num)\n",
    "    neg_pol = [i for i in total_pol if i < 0]\n",
    "    neg_pol = str(len(neg_pol) / num)\n",
    "    all_pol = [name, neg_pol, pos_pol, typenews]\n",
    "    \n",
    "    return all_pol"
   ]
  },
  {
   "cell_type": "code",
   "execution_count": 247,
   "metadata": {
    "collapsed": false
   },
   "outputs": [
    {
     "data": {
      "text/plain": [
       "['Huffington Post', '0.185628742515', '0.173652694611', 'Liberal']"
      ]
     },
     "execution_count": 247,
     "metadata": {},
     "output_type": "execute_result"
    }
   ],
   "source": [
    "hp = polarity_levels(huff_noun_pol, \"Huffington Post\", \"Liberal\", len(huff))\n",
    "hp"
   ]
  },
  {
   "cell_type": "code",
   "execution_count": 248,
   "metadata": {
    "collapsed": false
   },
   "outputs": [
    {
     "data": {
      "text/plain": [
       "['ABC News', '0.13698630137', '0.123287671233', 'Liberal']"
      ]
     },
     "execution_count": 248,
     "metadata": {},
     "output_type": "execute_result"
    }
   ],
   "source": [
    "ab = polarity_levels(abc_noun_pol, \"ABC News\", \"Liberal\", len(abc))\n",
    "ab"
   ]
  },
  {
   "cell_type": "code",
   "execution_count": 249,
   "metadata": {
    "collapsed": false
   },
   "outputs": [],
   "source": [
    "ec = polarity_levels(economist_noun_pol, \"Economist\", \"Other\", len(economist))\n",
    "fo = polarity_levels(fox_noun_pol, \"Fox\", \"Conservative\", len(fox))\n",
    "np = polarity_levels(npr_noun_pol, \"NPR\", \"Other\", len(npr))\n",
    "ny = polarity_levels(nytimes_noun_pol, \"NYTimes\", \"Liberal\", len(nytimes))\n",
    "wa = polarity_levels(washington_noun_pol, \"Washington Post\", \"Liberal\", len(washington))\n",
    "ws = polarity_levels(wsj_noun_pol, \"WSJ\", \"Other\", len(wsj))\n",
    "br = polarity_levels(breitbart_noun_pol, \"Breitbart\", \"Conservative\", len(breitbart))"
   ]
  },
  {
   "cell_type": "code",
   "execution_count": 250,
   "metadata": {
    "collapsed": false
   },
   "outputs": [
    {
     "data": {
      "text/html": [
       "<div>\n",
       "<table border=\"1\" class=\"dataframe\">\n",
       "  <thead>\n",
       "    <tr style=\"text-align: right;\">\n",
       "      <th></th>\n",
       "      <th>0</th>\n",
       "      <th>1</th>\n",
       "      <th>2</th>\n",
       "      <th>3</th>\n",
       "    </tr>\n",
       "  </thead>\n",
       "  <tbody>\n",
       "    <tr>\n",
       "      <th>0</th>\n",
       "      <td>Huffington Post</td>\n",
       "      <td>0.185628742515</td>\n",
       "      <td>0.173652694611</td>\n",
       "      <td>Liberal</td>\n",
       "    </tr>\n",
       "    <tr>\n",
       "      <th>1</th>\n",
       "      <td>ABC News</td>\n",
       "      <td>0.13698630137</td>\n",
       "      <td>0.123287671233</td>\n",
       "      <td>Liberal</td>\n",
       "    </tr>\n",
       "    <tr>\n",
       "      <th>2</th>\n",
       "      <td>Economist</td>\n",
       "      <td>0.027027027027</td>\n",
       "      <td>0.0810810810811</td>\n",
       "      <td>Other</td>\n",
       "    </tr>\n",
       "    <tr>\n",
       "      <th>3</th>\n",
       "      <td>Fox</td>\n",
       "      <td>0.0737179487179</td>\n",
       "      <td>0.0897435897436</td>\n",
       "      <td>Conservative</td>\n",
       "    </tr>\n",
       "    <tr>\n",
       "      <th>4</th>\n",
       "      <td>NPR</td>\n",
       "      <td>0.10514541387</td>\n",
       "      <td>0.136465324385</td>\n",
       "      <td>Other</td>\n",
       "    </tr>\n",
       "    <tr>\n",
       "      <th>5</th>\n",
       "      <td>NYTimes</td>\n",
       "      <td>0.04375</td>\n",
       "      <td>0.06875</td>\n",
       "      <td>Liberal</td>\n",
       "    </tr>\n",
       "    <tr>\n",
       "      <th>6</th>\n",
       "      <td>Washington Post</td>\n",
       "      <td>0.0774647887324</td>\n",
       "      <td>0.147887323944</td>\n",
       "      <td>Liberal</td>\n",
       "    </tr>\n",
       "    <tr>\n",
       "      <th>7</th>\n",
       "      <td>WSJ</td>\n",
       "      <td>0.123287671233</td>\n",
       "      <td>0.150684931507</td>\n",
       "      <td>Other</td>\n",
       "    </tr>\n",
       "    <tr>\n",
       "      <th>8</th>\n",
       "      <td>Breitbart</td>\n",
       "      <td>0.0727272727273</td>\n",
       "      <td>0.2</td>\n",
       "      <td>Conservative</td>\n",
       "    </tr>\n",
       "  </tbody>\n",
       "</table>\n",
       "</div>"
      ],
      "text/plain": [
       "                 0                1                2             3\n",
       "0  Huffington Post   0.185628742515   0.173652694611       Liberal\n",
       "1         ABC News    0.13698630137   0.123287671233       Liberal\n",
       "2        Economist   0.027027027027  0.0810810810811         Other\n",
       "3              Fox  0.0737179487179  0.0897435897436  Conservative\n",
       "4              NPR    0.10514541387   0.136465324385         Other\n",
       "5          NYTimes          0.04375          0.06875       Liberal\n",
       "6  Washington Post  0.0774647887324   0.147887323944       Liberal\n",
       "7              WSJ   0.123287671233   0.150684931507         Other\n",
       "8        Breitbart  0.0727272727273              0.2  Conservative"
      ]
     },
     "execution_count": 250,
     "metadata": {},
     "output_type": "execute_result"
    }
   ],
   "source": [
    "df = pd.DataFrame([hp, ab, ec, fo, np, ny, wa, ws, br])\n",
    "df"
   ]
  },
  {
   "cell_type": "code",
   "execution_count": 251,
   "metadata": {
    "collapsed": false
   },
   "outputs": [
    {
     "data": {
      "text/html": [
       "<div>\n",
       "<table border=\"1\" class=\"dataframe\">\n",
       "  <thead>\n",
       "    <tr style=\"text-align: right;\">\n",
       "      <th></th>\n",
       "      <th>0</th>\n",
       "      <th>1</th>\n",
       "      <th>2</th>\n",
       "      <th>3</th>\n",
       "    </tr>\n",
       "  </thead>\n",
       "  <tbody>\n",
       "    <tr>\n",
       "      <th>3</th>\n",
       "      <td>Fox</td>\n",
       "      <td>0.0737179487179</td>\n",
       "      <td>0.0897435897436</td>\n",
       "      <td>Conservative</td>\n",
       "    </tr>\n",
       "    <tr>\n",
       "      <th>8</th>\n",
       "      <td>Breitbart</td>\n",
       "      <td>0.0727272727273</td>\n",
       "      <td>0.2</td>\n",
       "      <td>Conservative</td>\n",
       "    </tr>\n",
       "  </tbody>\n",
       "</table>\n",
       "</div>"
      ],
      "text/plain": [
       "           0                1                2             3\n",
       "3        Fox  0.0737179487179  0.0897435897436  Conservative\n",
       "8  Breitbart  0.0727272727273              0.2  Conservative"
      ]
     },
     "execution_count": 251,
     "metadata": {},
     "output_type": "execute_result"
    }
   ],
   "source": [
    "df_conservative = df[df[3] == \"Conservative\"]\n",
    "df_conservative"
   ]
  },
  {
   "cell_type": "code",
   "execution_count": 252,
   "metadata": {
    "collapsed": false
   },
   "outputs": [
    {
     "data": {
      "text/html": [
       "<div>\n",
       "<table border=\"1\" class=\"dataframe\">\n",
       "  <thead>\n",
       "    <tr style=\"text-align: right;\">\n",
       "      <th></th>\n",
       "      <th>0</th>\n",
       "      <th>1</th>\n",
       "      <th>2</th>\n",
       "      <th>3</th>\n",
       "    </tr>\n",
       "  </thead>\n",
       "  <tbody>\n",
       "    <tr>\n",
       "      <th>2</th>\n",
       "      <td>Economist</td>\n",
       "      <td>0.027027027027</td>\n",
       "      <td>0.0810810810811</td>\n",
       "      <td>Other</td>\n",
       "    </tr>\n",
       "    <tr>\n",
       "      <th>4</th>\n",
       "      <td>NPR</td>\n",
       "      <td>0.10514541387</td>\n",
       "      <td>0.136465324385</td>\n",
       "      <td>Other</td>\n",
       "    </tr>\n",
       "    <tr>\n",
       "      <th>7</th>\n",
       "      <td>WSJ</td>\n",
       "      <td>0.123287671233</td>\n",
       "      <td>0.150684931507</td>\n",
       "      <td>Other</td>\n",
       "    </tr>\n",
       "  </tbody>\n",
       "</table>\n",
       "</div>"
      ],
      "text/plain": [
       "           0               1                2      3\n",
       "2  Economist  0.027027027027  0.0810810810811  Other\n",
       "4        NPR   0.10514541387   0.136465324385  Other\n",
       "7        WSJ  0.123287671233   0.150684931507  Other"
      ]
     },
     "execution_count": 252,
     "metadata": {},
     "output_type": "execute_result"
    }
   ],
   "source": [
    "df_other = df[df[3] == \"Other\"]\n",
    "df_other"
   ]
  },
  {
   "cell_type": "code",
   "execution_count": 253,
   "metadata": {
    "collapsed": false
   },
   "outputs": [
    {
     "data": {
      "text/html": [
       "<div>\n",
       "<table border=\"1\" class=\"dataframe\">\n",
       "  <thead>\n",
       "    <tr style=\"text-align: right;\">\n",
       "      <th></th>\n",
       "      <th>0</th>\n",
       "      <th>1</th>\n",
       "      <th>2</th>\n",
       "      <th>3</th>\n",
       "    </tr>\n",
       "  </thead>\n",
       "  <tbody>\n",
       "    <tr>\n",
       "      <th>0</th>\n",
       "      <td>Huffington Post</td>\n",
       "      <td>0.185628742515</td>\n",
       "      <td>0.173652694611</td>\n",
       "      <td>Liberal</td>\n",
       "    </tr>\n",
       "    <tr>\n",
       "      <th>1</th>\n",
       "      <td>ABC News</td>\n",
       "      <td>0.13698630137</td>\n",
       "      <td>0.123287671233</td>\n",
       "      <td>Liberal</td>\n",
       "    </tr>\n",
       "    <tr>\n",
       "      <th>5</th>\n",
       "      <td>NYTimes</td>\n",
       "      <td>0.04375</td>\n",
       "      <td>0.06875</td>\n",
       "      <td>Liberal</td>\n",
       "    </tr>\n",
       "    <tr>\n",
       "      <th>6</th>\n",
       "      <td>Washington Post</td>\n",
       "      <td>0.0774647887324</td>\n",
       "      <td>0.147887323944</td>\n",
       "      <td>Liberal</td>\n",
       "    </tr>\n",
       "  </tbody>\n",
       "</table>\n",
       "</div>"
      ],
      "text/plain": [
       "                 0                1               2        3\n",
       "0  Huffington Post   0.185628742515  0.173652694611  Liberal\n",
       "1         ABC News    0.13698630137  0.123287671233  Liberal\n",
       "5          NYTimes          0.04375         0.06875  Liberal\n",
       "6  Washington Post  0.0774647887324  0.147887323944  Liberal"
      ]
     },
     "execution_count": 253,
     "metadata": {},
     "output_type": "execute_result"
    }
   ],
   "source": [
    "df_liberal = df[df[3] == \"Liberal\"]\n",
    "df_liberal"
   ]
  },
  {
   "cell_type": "code",
   "execution_count": 261,
   "metadata": {
    "collapsed": false
   },
   "outputs": [
    {
     "data": {
      "text/plain": [
       "0     0.185628742515\n",
       "1      0.13698630137\n",
       "5            0.04375\n",
       "6    0.0774647887324\n",
       "Name: 1, dtype: object"
      ]
     },
     "execution_count": 261,
     "metadata": {},
     "output_type": "execute_result"
    }
   ],
   "source": [
    "df_liberal[1]"
   ]
  },
  {
   "cell_type": "code",
   "execution_count": 267,
   "metadata": {
    "collapsed": false
   },
   "outputs": [
    {
     "data": {
      "text/plain": [
       "0.4438298326174"
      ]
     },
     "execution_count": 267,
     "metadata": {},
     "output_type": "execute_result"
    }
   ],
   "source": [
    "sum(float(item) for item in df_liberal[1])"
   ]
  },
  {
   "cell_type": "code",
   "execution_count": 268,
   "metadata": {
    "collapsed": false
   },
   "outputs": [],
   "source": [
    "lib1 = sum(float(item) for item in df_liberal[1])\n",
    "con1 = sum(float(item) for item in df_conservative[1])\n",
    "oth1 = sum(float(item) for item in df_other[1])"
   ]
  },
  {
   "cell_type": "code",
   "execution_count": 269,
   "metadata": {
    "collapsed": false
   },
   "outputs": [],
   "source": [
    "lib2 = sum(float(item) for item in df_liberal[2])\n",
    "con2 = sum(float(item) for item in df_conservative[2])\n",
    "oth2 = sum(float(item) for item in df_other[2])\n",
    "total_other = [oth1, oth2]\n",
    "total_con = [con1, con2]\n",
    "total_lib = [lib1, lib2]"
   ]
  },
  {
   "cell_type": "code",
   "execution_count": 285,
   "metadata": {
    "collapsed": false,
    "scrolled": false
   },
   "outputs": [
    {
     "data": {
      "image/png": "[encoded data removed]",
      "text/plain": [
       "<matplotlib.figure.Figure at 0x1197471d0>"
      ]
     },
     "metadata": {},
     "output_type": "display_data"
    }
   ],
   "source": [
    "ind = np.arange(2)\n",
    "width = 0.15\n",
    "fig = plt.figure()\n",
    "ax = fig.add_subplot(111)\n",
    "\n",
    "rects1 = ax.bar(ind, df_conservative.iloc[0, 1:3].values, width, color='b')\n",
    "rects1 = ax.bar(ind, df_conservative.iloc[0, 1:3].values, width, color='r')\n",
    "\n",
    "rects2 = ax.bar(ind+width, df_conservative.iloc[1, 1:3].values, width)\n",
    "\n",
    "ax.set_ylabel('Counts of Polarity Occurance')\n",
    "ax.set_xticks(ind+width)\n",
    "ax.set_title(\"Polarity Between Conservative News Outlets\")\n",
    "ax.set_xticklabels( ('Negative Polarity', 'Positive Polarity') )\n",
    "ax.legend( (rects1[0], rects2[0]), ('Fox', 'Breitbart'), bbox_to_anchor=(1.05, 1), loc=2)\n",
    "plt.show()"
   ]
  },
  {
   "cell_type": "code",
   "execution_count": 279,
   "metadata": {
    "collapsed": false
   },
   "outputs": [
    {
     "data": {
      "image/png": "[encoded data removed]",
      "text/plain": [
       "<matplotlib.figure.Figure at 0x118d82fd0>"
      ]
     },
     "metadata": {},
     "output_type": "display_data"
    }
   ],
   "source": [
    "\n",
    "width = 0.15\n",
    "fig = plt.figure()\n",
    "ax = fig.add_subplot(111)\n",
    "\n",
    "rects1 = ax.bar(ind, df_liberal.iloc[0, 1:3].values, width, color='b')\n",
    "\n",
    "\n",
    "rects2 = ax.bar(ind+width, df_liberal.iloc[1, 1:3].values, width)\n",
    "rects3 = ax.bar(ind+width+width, df_liberal.iloc[2, 1:3].values, width, color = 'g')\n",
    "\n",
    "rects4 = ax.bar(ind+width+width+width, df_liberal.iloc[3, 1:3].values, width, color = 'r')\n",
    "\n",
    "ax.set_ylabel('Counts of Polarity Occurance')\n",
    "ax.set_xticks(ind+width)\n",
    "ax.set_title(\"Polarity Between Liberal News Outlets\")\n",
    "ax.set_xticklabels( ('Negative Polarity',  'Positive Polarity') )\n",
    "ax.legend( (rects1[0], rects2[0], rects3[0], rects4[0]), ('Huffington Post', 'ABC News', 'NYTime', 'Washington Post'), bbox_to_anchor=(1.05, 1), loc=2)\n",
    "plt.show()"
   ]
  },
  {
   "cell_type": "code",
   "execution_count": 280,
   "metadata": {
    "collapsed": false
   },
   "outputs": [
    {
     "data": {
      "image/png": "[encoded data removed]",
      "text/plain": [
       "<matplotlib.figure.Figure at 0x11870a550>"
      ]
     },
     "metadata": {},
     "output_type": "display_data"
    }
   ],
   "source": [
    "#ind = np.arange(3)\n",
    "width = 0.15\n",
    "fig = plt.figure()\n",
    "ax = fig.add_subplot(111)\n",
    "rects1 = ax.bar(ind, df_other.iloc[0, 1:3].values, width, color='b')\n",
    "\n",
    "rects2 = ax.bar(ind+width, df_other.iloc[1, 1:3].values, width)\n",
    "rects3 = ax.bar(ind+width+width, df_other.iloc[2, 1:3].values, width, color = 'g')\n",
    "\n",
    "\n",
    "ax.set_ylabel('Counts of Polarity Occurance')\n",
    "ax.set_xticks(ind+width)\n",
    "ax.set_title(\"Polarity Between Other News Outlets\")\n",
    "ax.set_xticklabels( ('Negative Polarity', 'Positive Polarity') )\n",
    "ax.legend( (rects1[0], rects2[0], rects3[0]), ('Economist', 'NPR', 'WSJ'), bbox_to_anchor=(1.05, 1), loc=2)\n",
    "plt.show()"
   ]
  },
  {
   "cell_type": "code",
   "execution_count": 281,
   "metadata": {
    "collapsed": false
   },
   "outputs": [
    {
     "data": {
      "image/png": "[encoded data removed]",
      "text/plain": [
       "<matplotlib.figure.Figure at 0x11822efd0>"
      ]
     },
     "metadata": {},
     "output_type": "display_data"
    }
   ],
   "source": [
    "#ind = np.arange(2)\n",
    "width = 0.15\n",
    "fig = plt.figure()\n",
    "ax = fig.add_subplot(111)\n",
    "\n",
    "rects1 = ax.bar(ind, total_other, width, color='b')\n",
    "\n",
    "rects2 = ax.bar(ind+width, total_lib, width)\n",
    "rects3 = ax.bar(ind+width+width, total_con, width, color = 'g')\n",
    "\n",
    "\n",
    "ax.set_ylabel('Counts of Polarity Occurance')\n",
    "ax.set_xticks(ind+width)\n",
    "ax.set_title(\"Polarity Between Other, Liberal, Conservative News Outlets\")\n",
    "ax.set_xticklabels( ('Negative Polarity', 'Positive Polarity') )\n",
    "ax.legend( (rects1[0], rects2[0], rects3[0]), ('Other', 'Liberal', 'Conservative'), bbox_to_anchor=(1.05, 1), loc=2)\n",
    "plt.show()"
   ]
  },
  {
   "cell_type": "code",
   "execution_count": null,
   "metadata": {
    "collapsed": true
   },
   "outputs": [],
   "source": []
  }
 ],
 "metadata": {
  "anaconda-cloud": {},
  "kernelspec": {
   "display_name": "Python [default]",
   "language": "python",
   "name": "python2"
  },
  "language_info": {
   "codemirror_mode": {
    "name": "ipython",
    "version": 2
   },
   "file_extension": ".py",
   "mimetype": "text/x-python",
   "name": "python",
   "nbconvert_exporter": "python",
   "pygments_lexer": "ipython2",
   "version": "2.7.12"
  }
 },
 "nbformat": 4,
 "nbformat_minor": 1
}
