{
 "cells": [
  {
   "cell_type": "code",
   "execution_count": 1,
   "metadata": {
    "collapsed": true
   },
   "outputs": [],
   "source": [
    "import requests\n",
    "from bs4 import BeautifulSoup\n",
    "import lxml\n",
    "import lxml.html as lx\n",
    "import pandas as pd\n",
    "import time"
   ]
  },
  {
   "cell_type": "code",
   "execution_count": 4,
   "metadata": {
    "collapsed": false
   },
   "outputs": [],
   "source": [
    "def extract_pol_titles(url):\n",
    "    washreq = requests.get(url)\n",
    "    wash_bs = BeautifulSoup(washreq.text,'lxml')\n",
    "    a_content = wash_bs.select(\"div > h3 > a\")\n",
    "    title_names = [x.text.strip().translate({ 0x2018:0x27, 0x2019:0x27, 0x201C:0x22, 0x201D:0x22, 0x2026:0x20 }).encode('ascii','ignore') for x in a_content]\n",
    "    title_names = set(title_names)\n",
    "    return title_names"
   ]
  },
  {
   "cell_type": "code",
   "execution_count": 2,
   "metadata": {
    "collapsed": true
   },
   "outputs": [],
   "source": [
    "url = \"https://www.washingtonpost.com/politics/?nid=top_nav_politics&utm_term=.e0f1e926523f\""
   ]
  },
  {
   "cell_type": "code",
   "execution_count": 4,
   "metadata": {
    "collapsed": true
   },
   "outputs": [],
   "source": [
    "title_names = extract_pol_titles(url)\n",
    "wash_politics = open(\"All_Washington_Post_Titles.txt\", \"a\")\n",
    "for x in title_names:\n",
    "    wash_politics.write(x + '\\n')\n",
    "wash_politics.close()"
   ]
  },
  {
   "cell_type": "code",
   "execution_count": 5,
   "metadata": {
    "collapsed": true
   },
   "outputs": [],
   "source": [
    "url = \"https://www.washingtonpost.com/opinions/?nid=top_nav_opinions&utm_term=.78bb77936836\""
   ]
  },
  {
   "cell_type": "code",
   "execution_count": 5,
   "metadata": {
    "collapsed": false
   },
   "outputs": [],
   "source": [
    "def extract_opin_titles(url):\n",
    "    washreq = requests.get(url)\n",
    "    wash_bs = BeautifulSoup(washreq.text,'lxml')\n",
    "    a_content = wash_bs.select(\"div > h3 > a\")\n",
    "    title_names = [x.text.strip().translate({ 0x2018:0x27, 0x2019:0x27, 0x201C:0x22, 0x201D:0x22, 0x2026:0x20 }).encode('ascii','ignore') for x in a_content]\n",
    "    title_names = set(title_names)\n",
    "    return title_names"
   ]
  },
  {
   "cell_type": "code",
   "execution_count": 7,
   "metadata": {
    "collapsed": true
   },
   "outputs": [],
   "source": [
    "title_names = extract_opin_titles(url)\n",
    "wash_politics = open(\"All_Washington_Post_Titles.txt\", \"a\")\n",
    "for x in title_names:\n",
    "    wash_politics.write(x + '\\n')\n",
    "wash_politics.close()"
   ]
  },
  {
   "cell_type": "markdown",
   "metadata": {
    "collapsed": true
   },
   "source": [
    "<h3>Filter Washington Post Article Titles</h3>"
   ]
  },
  {
   "cell_type": "code",
   "execution_count": 8,
   "metadata": {
    "collapsed": true
   },
   "outputs": [],
   "source": [
    "title_names = []\n",
    "text_file = open(\"All_Washington_Post_Titles.txt\",\"r\")\n",
    "for line in text_file:\n",
    "    line = line.strip()\n",
    "    title_names.append(line)"
   ]
  },
  {
   "cell_type": "code",
   "execution_count": 9,
   "metadata": {
    "collapsed": false
   },
   "outputs": [
    {
     "data": {
      "text/plain": [
       "['A conspiracy site with White House press credentials revives a debunked birther story',\n",
       " \"A day in the life of a poor American under Trump's proposed budget\",\n",
       " \"A smart corporate tax reform plan worth Trump's attention\",\n",
       " \"ACLU is launching 'People Power' project to resist Trump policies in cities\",\n",
       " \"ACLU is leading a million-dollar resistance effort against Trump's policies\",\n",
       " \"Anxiety, fear, uncertainty mark federal employees awaiting Trump's budget\",\n",
       " \"Bharara after meeting with Trump in 2016: 'I agreed to stay on'\",\n",
       " 'Can President Trump keep his many promises about health care?',\n",
       " 'Capitol Hill Republicans not on board with Trump budget',\n",
       " \"Clinton's unexpected new ally in the email investigation: President Trump\",\n",
       " \"Comey visits the Hill amid tension over Trump's wiretapping allegations\",\n",
       " 'Conservatives meet with Trump, who hints that GOP ACA fix could drift further right',\n",
       " \"Democratic congresswoman claims 'sex actions' in Trump dossier are true despite a lack of evidence\",\n",
       " \"Democrats are holding up one of Trump's best appointees\",\n",
       " \"Devin Nunes confirms it: The evidence of Trump Tower being wiretapped just doesn't seem to exist\",\n",
       " 'Does the Trump administration believe in climate change?',\n",
       " \"Donald Trump Jr., running the family business, says he has nearly 'zero contact' with his father\",\n",
       " \"Donald Trump doesn't really care what you think of his Twitter obsession\",\n",
       " 'Donald Trump is having dinner with Ted and Heidi Cruz. Here are nine things that might make it awkward.',\n",
       " \"Donald Trump promised to make the 'best' deals. It's time to prove it on healthcare.\",\n",
       " \"Donald Trump's itchy Twitter finger just alienated one of his most important allies\",\n",
       " \"Donald Trump's tax plan would mean huge breaks for millionaires like Trump\",\n",
       " 'Donald Trump, Steve King  and some very happy white nationalists',\n",
       " 'Donald Trump, the anecdotal president',\n",
       " 'During his political rise, Stephen K. Bannon was a man with no fixed address',\n",
       " \"Federal judge in Hawaii freezes President Trump's new entry ban\",\n",
       " 'Firefighters, ready to deal with Trump, get little so far',\n",
       " \"Firing federal workers isn't as easy as Trump makes it seem in his budget\",\n",
       " \"Five reactions to Trump's budget\",\n",
       " 'Flynn told Trump team he might register as a foreign agent',\n",
       " 'Foreign leaders try to find their footing with a mercurial yet crucial ally: Trump',\n",
       " \"From 'fake news' to no news: Tillerson leaving press behind on Asia trip could send message to China\",\n",
       " \"GOP's Darrell Issa represents a clear test for anti-Trump Democrats trying for electoral gains in 2018\",\n",
       " 'German Chancellor Merkel reschedules visit to White House because of snowstorm',\n",
       " \"Groups fighting travel ban see an equal threat in Trump's proposed budget\",\n",
       " \"Here's how the Drudge Report splashed job reports for Obama that were better than Trump's\",\n",
       " 'House Intelligence Committee chiefs ask Justice for proof of wiretaps on Trump',\n",
       " \"How President Trump's first jobs report looks on the 'real' metrics he touted in 2016\",\n",
       " \"How Trump's budget stacks up to his past promises\",\n",
       " \"How to save the Republic from World War III? Get Trump to watch 'Nashville.'\",\n",
       " 'Is the system working to constrain President Trump?',\n",
       " 'Jeff Sessions lied and should resign, says a majority  kind of',\n",
       " 'Just another three hours at the Trump White House',\n",
       " 'Kellyanne Conway denies she said microwaves were used to spy on Trump campaign',\n",
       " 'Key senators say they have no evidence that Trump Tower was wiretapped',\n",
       " 'Lawyers face off on Trump travel ban before U.S. judge in Maryland',\n",
       " 'McCain to Trump: Retract wiretapping claim or prove it',\n",
       " \"Meet Stephen Bannon, Trump's chief White House strategist\",\n",
       " 'Next steps for the Trump resistance',\n",
       " 'Obamacare revision clears two House committees as Trump, others tried to tamp down backlash',\n",
       " \"Obamacare was supposed to ruin the economy, but it hasn't, and that's a problem for Trump and the GOP\",\n",
       " \"On nearly every issue, more Americans oppose Trump's agenda than support it\",\n",
       " \"Out: Literal vs. serious interpretations of Trump's comments. In: Joking vs. not.\",\n",
       " \"Outsider for Va. governor learns it's hard to run as a rebel, even in the Trump era\",\n",
       " 'Pence relies more on charm than oratory to push the GOP health-care plan in Kentucky',\n",
       " \"Pence: 'Obamacare must go'\",\n",
       " \"President Trump's war on quotation marks\",\n",
       " 'President Trump, the king of flip-flops',\n",
       " 'Rex Tillerson is off to an agonizingly slow start',\n",
       " 'SNL goes after Ivanka Trump hard',\n",
       " \"Sean Spicer just explained why 'wire tapping' is different from wiretapping\",\n",
       " 'Sean Spicer made reporters laugh out loud with a Melissa McCarthy joke',\n",
       " 'Sean Spicer wore an upside-down flag pin. The Internet lost its mind.',\n",
       " \"Senate Democrats prepare for spring battle over Trump's border wall\",\n",
       " 'Senate Democrats put pressure on Carson over potential HUD budget cuts',\n",
       " \"Sessions doesn't want to investigate police. Here's why we need to.\",\n",
       " 'Spicer addresses concern from seniors and doctors about health-care plan',\n",
       " \"Spicer asked about Trump's upcoming dinner with Ted and Heidi Cruz\",\n",
       " 'Spicer confronted at D.C.-area Apple Store',\n",
       " \"Spicer downplays EPA chief's carbon dioxide emissions denial\",\n",
       " \"Spicer says Trump 'stands by' unproven allegation that Obama ordered wiretapping of Trump Tower\",\n",
       " \"Spicer won't confirm documents posted by WikiLeaks  but he wants Democrats to be much more outraged about them\",\n",
       " \"Spicer: Trump has 'no conflicts' in hotel lawsuit\",\n",
       " \"Sweden, immigrants and Trump's post-Enlightenment world\",\n",
       " 'Tax cuts in Obamacare replacement bill trip up Trump, Price in interviews',\n",
       " \"The 19 agencies that Trump's budget would kill, explained\",\n",
       " 'The Daily 202: Reagan Democrats give Trump a long leash  but deeply distrust GOP',\n",
       " 'The Daily 202: Trump team taking more and more credit for Obama successes',\n",
       " 'The Epic of Donald Trump',\n",
       " \"The Justice Department to black voters: Don't bother\",\n",
       " \"The Trump White House's plan to starve the foreign policy establishment\",\n",
       " 'The Trump administration dons a tinfoil hat',\n",
       " \"The Trump team's response to leaked tax information only raises more questions\",\n",
       " 'The Trumpcare trap',\n",
       " 'The center cannot hold in the Trump White House',\n",
       " \"The cost of failure on health care? It may be the rest of Trump's agenda.\",\n",
       " 'The most powerful check on President Trump',\n",
       " 'The mystery of Donald Trump and the New Jersey cemetery',\n",
       " 'The terms Trump and Bannon use: a glossary',\n",
       " 'The travel-ban casualty the White House is ignoring',\n",
       " 'The winning argument Democrats have against Trump',\n",
       " \"Time to grill Trump's nominee for agriculture secretary\",\n",
       " 'Top Democrat wants to meet with author of unsubstantiated Trump dossier',\n",
       " 'Top lawmakers ask Justice Department, FBI for any Trump wiretapping warrant applications',\n",
       " 'Trump administration considers $6 billion cut to HUD budget',\n",
       " 'Trump adviser Flynn paid by multiple Russia-related entities, new records show',\n",
       " \"Trump and the media: How unusual is the president's treatment of the press?\",\n",
       " \"Trump compares coverage of Obamacare to Obama's popularity: 'When he left, people liked him'\",\n",
       " \"Trump complains of 'partisan obstruction' at first Cabinet meeting\",\n",
       " 'Trump goes into dealmaking mode, works behind the scenes on health bill',\n",
       " 'Trump has spent 15 percent of his presidency at Trump-owned or -branded properties',\n",
       " 'Trump is letting human rights deteriorate, and Bahrain is Exhibit A',\n",
       " \"Trump keeps claiming he's created U.S. jobs since Election Day. Not so.\",\n",
       " \"Trump loyalists sound alarm over 'RyanCare,' endangering health bill\",\n",
       " 'Trump may regret asking for an investigation into wiretapping',\n",
       " 'Trump nominates D.C. lawyer Noel Francisco as solicitor general',\n",
       " 'Trump paid $38 million in income tax in 2005 and reported a $105 million write-down, tax return revealed on MSNBC says',\n",
       " 'Trump paid $38 million in taxes in 2005, the White House says',\n",
       " \"Trump repeatedly ignores reporters' questions about wiretap claims\",\n",
       " \"Trump said no Americans would lose coverage under Obamacare repeal. Paul Ryan won't make that promise.\",\n",
       " \"Trump says Secret Service did a 'fantastic job' on intruder arrest\",\n",
       " \"Trump says he'll visit Ireland\",\n",
       " \"Trump sees Twitter as an essential tool. His own voters wish he'd change how he uses it.\",\n",
       " \"Trump shouldn't let Congo's leader stomp all over human rights\",\n",
       " \"Trump signs executive order 'to see where money is being wasted'\",\n",
       " 'Trump stands with House GOP on proposal to revise Obamacare, spokesman says',\n",
       " \"Trump thinks he'll get a great deal from the Gulf Arab states. Good luck with that.\",\n",
       " \"Trump went back on his promise to 'Buy American.' Good for him.\",\n",
       " \"Trump's First 100 Days: A rare piece of information on Trump's finances\",\n",
       " \"Trump's First 100 Days: Challenges from a U.S. attorney, McCain and the Freedom Caucus\",\n",
       " \"Trump's First 100 Days: POTUS launches 'full-court press' on health plan\",\n",
       " \"Trump's First 100 Days: What we've learned about the GOP health-care bill\",\n",
       " \"Trump's First 100 Days: Will POTUS make a deal on health care?\",\n",
       " \"Trump's Middle East diplomacy is complicated by Palestinian terror incitement\",\n",
       " \"Trump's attacks on the media are a gift to tyrants everywhere\",\n",
       " \"Trump's blindness on trade is all too easy to see\",\n",
       " \"Trump's budget director understands that the poor prefer jet fighters to Big Bird\",\n",
       " \"Trump's new travel ban is as arbitrary and senseless as the first\",\n",
       " \"Trump's ploughshares-to-swords 'budget'\",\n",
       " \"Trump: GOP is 'putting themselves in a very bad position' with Obamacare changes\",\n",
       " 'What Trump got wrong on Twitter this week (#7)',\n",
       " \"What is a RIF? A federal worker's guide to the Trump budget\",\n",
       " \"What you need to know about Trump's 2005 tax return\",\n",
       " \"When the White House says Obamacare was 'jammed down our throats,' this is what they're referring to\",\n",
       " \"White House has 'grave concern' over leaks\",\n",
       " \"White House promises 'full court press' on health-care plan as criticism mounts\",\n",
       " 'White House questions budget office analyzing health-care bill',\n",
       " 'White House, Ryan defend GOP health-care plan',\n",
       " \"Why Trump's preliminary budget proposals have government agencies on edge\",\n",
       " 'Will Obamacare repeal break the Freedom Caucus? It depends on Trump.',\n",
       " 'Will Trump make a real crisis worse?',\n",
       " \"Yes, the Russian ambassador met Trump's team. So? That's what we diplomats do.\"]"
      ]
     },
     "execution_count": 9,
     "metadata": {},
     "output_type": "execute_result"
    }
   ],
   "source": [
    "trumps_admin = ['White House','Trump','Conway','Sessions','Pence','President','Tillerson','Devos','Flynn','Kushner','Carson','Department','Preibus','Bannon','Spicer','Miller']\n",
    "total_titles = []\n",
    "for admin in trumps_admin:\n",
    "    titles = [x for x in title_names if admin in x]\n",
    "    total_titles.extend(titles)\n",
    "total_titles = sorted(set(total_titles))\n",
    "total_titles"
   ]
  },
  {
   "cell_type": "code",
   "execution_count": 11,
   "metadata": {
    "collapsed": true
   },
   "outputs": [],
   "source": [
    "filtered_wash = open(\"Filtered Washington Post Titles.txt\", \"a\")\n",
    "for x in total_titles:\n",
    "    filtered_wash.write(x + '\\n')\n",
    "filtered_wash.close()"
   ]
  }
 ],
 "metadata": {
  "anaconda-cloud": {},
  "kernelspec": {
   "display_name": "Python [default]",
   "language": "python",
   "name": "python2"
  },
  "language_info": {
   "codemirror_mode": {
    "name": "ipython",
    "version": 2
   },
   "file_extension": ".py",
   "mimetype": "text/x-python",
   "name": "python",
   "nbconvert_exporter": "python",
   "pygments_lexer": "ipython2",
   "version": "2.7.12"
  }
 },
 "nbformat": 4,
 "nbformat_minor": 1
}
