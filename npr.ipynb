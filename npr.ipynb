{
 "cells": [
  {
   "cell_type": "code",
   "execution_count": 1,
   "metadata": {
    "collapsed": true
   },
   "outputs": [],
   "source": [
    "import requests\n",
    "#import requests_ftp\n",
    "import requests_cache\n",
    "import lxml\n",
    "import urllib2\n",
    "from bs4 import BeautifulSoup\n",
    "from collections import Counter\n",
    "from matplotlib import pyplot as plt\n",
    "import pandas as pd\n",
    "plt.style.use('ggplot')\n",
    "#requests_cache.install_cache('coll_cache')\n",
    "%matplotlib inline"
   ]
  },
  {
   "cell_type": "code",
   "execution_count": 2,
   "metadata": {
    "collapsed": true
   },
   "outputs": [],
   "source": [
    "climreq = requests.get(\"http://www.npr.org/sections/politics/\")\n",
    "climhtml = climreq.text\n",
    "clim = BeautifulSoup(climhtml, \"lxml\")\n",
    "links = clim.find_all('div', {'class': ['item-info']}) #, {'class': ['story-heading']})"
   ]
  },
  {
   "cell_type": "code",
   "execution_count": 3,
   "metadata": {
    "collapsed": false
   },
   "outputs": [
    {
     "data": {
      "text/plain": [
       "[<div class=\"item-info\">\\n<h2 class=\"title\"><a data-metrics='{\"action\":\"Click Featured Story Headline 1-3\",\"category\":\"Aggregation\"}' href=\"http://www.npr.org/2017/03/13/520031463/gop-health-care-bill-could-leave-24m-without-coverage-by-2026-cbo-says\">GOP Health Care Bill Could Leave 24M More Without Coverage By 2026, CBO Says</a></h2>\\n<p class=\"teaser\"><a href=\"http://www.npr.org/2017/03/13/520031463/gop-health-care-bill-could-leave-24m-without-coverage-by-2026-cbo-says\"><time datetime=\"2017-03-13\"><span class=\"date\">March 13, 2017 \\x95 </span></time>The Congressional Budget Office has released a report on the potential impact of the House Republicans' legislation.</a></p>\\n</div>,\n",
       " <div class=\"item-info\">\\n<h2 class=\"title\"><a data-metrics='{\"action\":\"Click Featured Story Headline 2-3\",\"category\":\"Aggregation\"}' href=\"http://www.npr.org/2017/03/13/519985688/aclu-lawyer-sits-at-heart-of-legal-resistance-to-trump-agenda\">ACLU Lawyer Sits At Heart Of Legal Resistance To Trump Agenda</a></h2>\\n<p class=\"teaser\"><a href=\"http://www.npr.org/2017/03/13/519985688/aclu-lawyer-sits-at-heart-of-legal-resistance-to-trump-agenda\"><time datetime=\"2017-03-13\"><span class=\"date\">March 13, 2017 \\x95 </span></time>In some ways, the American Civil Liberty Union's new national legal director, David Cole, has spent his entire career preparing for this moment.</a></p>\\n</div>,\n",
       " <div class=\"item-info\">\\n<h2 class=\"title\"><a data-metrics='{\"action\":\"Click Featured Story Headline 3-3\",\"category\":\"Aggregation\"}' href=\"http://www.npr.org/2017/03/13/519888191/can-white-house-bowling-heal-gop-divisions-and-spare-the-health-care-bill\">Can White House Bowling Heal GOP Divisions And Spare The Health Care Bill?</a></h2>\\n<p class=\"teaser\"><a href=\"http://www.npr.org/2017/03/13/519888191/can-white-house-bowling-heal-gop-divisions-and-spare-the-health-care-bill\"><time datetime=\"2017-03-13\"><span class=\"date\">March 13, 2017 \\x95 </span></time>President Trump has been in \"sell mode\" on the health care bill, and he has invited conservative GOP members of Congress over to the White House bowling alley this week.</a></p>\\n</div>,\n",
       " <div class=\"item-info\">\\n<h2 class=\"title\"><a data-metrics='{\"action\":\"Click Story Title\",\"category\":\"Story List\"}' href=\"http://www.npr.org/2017/03/13/519975423/rep-steve-king-stands-by-controversial-tweet-about-somebody-elses-babies\">Rep. Steve King Stands By Controversial Tweet About 'Somebody Else's Babies'</a></h2>\\n<p class=\"teaser\"><a href=\"http://www.npr.org/2017/03/13/519975423/rep-steve-king-stands-by-controversial-tweet-about-somebody-elses-babies\"><time datetime=\"2017-03-13\"><span class=\"date\">March 13, 2017 \\x95 </span></time>The conservative Iowa lawmaker with a history of inflammatory statements tweeted in support of a right-wing Dutch politician.</a></p>\\n</div>,\n",
       " <div class=\"item-info\">\\n<h3 class=\"slug\"><a href=\"http://www.npr.org/sections/thetwo-way/\">The Two-Way</a></h3>\\n<h2 class=\"title\"><a data-metrics='{\"action\":\"Click Story Title\",\"category\":\"Story List\"}' href=\"http://www.npr.org/sections/thetwo-way/2017/03/13/520000271/white-house-faces-deadline-monday-to-provide-proof-that-obama-wiretapped-trump\">Trump Administration Asks For More Time To Provide Proof That Obama Wiretapped Trump</a></h2>\\n<p class=\"teaser\"><a href=\"http://www.npr.org/sections/thetwo-way/2017/03/13/520000271/white-house-faces-deadline-monday-to-provide-proof-that-obama-wiretapped-trump\"><time datetime=\"2017-03-13\"><span class=\"date\">March 13, 2017 \\x95 </span></time>The House Intelligence Committee had requested any applications for surveillance of Trump or his associates made under the Foreign Intelligence Surveillance Act. Obama has said the claim is baseless.</a></p>\\n</div>,\n",
       " <div class=\"item-info\">\\n<h2 class=\"title\"><a data-metrics='{\"action\":\"Click Story Title\",\"category\":\"Story List\"}' href=\"http://www.npr.org/2017/03/11/519700465/when-it-comes-to-legislation-sometimes-bigger-is-better\">Just Because A Bill Is Long Doesn't Mean It's Bad</a></h2>\\n<p class=\"teaser\"><a href=\"http://www.npr.org/2017/03/11/519700465/when-it-comes-to-legislation-sometimes-bigger-is-better\"><time datetime=\"2017-03-11\"><span class=\"date\">March 11, 2017 \\x95 </span></time>The length of a bill has little to do with its quality. In fact, it's getting harder and harder to pass major laws that aren't behemoths.</a></p>\\n</div>,\n",
       " <div class=\"item-info\">\\n<h2 class=\"title\"><a data-metrics='{\"action\":\"Click Story Title\",\"category\":\"Story List\"}' href=\"http://www.npr.org/2017/03/11/519709448/president-trumps-voter-fraud-investigation-is-off-to-a-slow-start\">President Trump's Voter Fraud Investigation Is Off To a Slow Start</a></h2>\\n<p class=\"teaser\"><a href=\"http://www.npr.org/2017/03/11/519709448/president-trumps-voter-fraud-investigation-is-off-to-a-slow-start\"><time datetime=\"2017-03-11\"><span class=\"date\">March 11, 2017 \\x95 </span></time>It's hard to find anyone involved in voting issues who's been approached to be on the vice president's task force \\u2014 or at least to admit it.</a></p>\\n</div>,\n",
       " <div class=\"item-info\">\\n<h3 class=\"slug\"><a href=\"http://www.npr.org/sections/health-shots/\">Shots - Health News</a></h3>\\n<h2 class=\"title\"><a data-metrics='{\"action\":\"Click Story Title\",\"category\":\"Story List\"}' href=\"http://www.npr.org/sections/health-shots/2017/03/13/518840627/how-will-people-who-are-already-sick-be-treated-under-a-new-health-law\">How Will People Who Are Already Sick Be Treated Under A New Health Law?</a></h2>\\n<h2 class=\"affiliation\"><a data-metrics='{\"action\":\"Click Org Association\",\"category\":\"Story Metadata\"}' href=\"http://www.kaiserhealthnews.org/\">Kaiser Health News</a></h2>\\n<p class=\"teaser\"><a href=\"http://www.npr.org/sections/health-shots/2017/03/13/518840627/how-will-people-who-are-already-sick-be-treated-under-a-new-health-law\"><time datetime=\"2017-03-13\"><span class=\"date\">March 13, 2017 \\x95 </span></time>People withe pre-existing conditions would still be protected from insurance discrimination under the new House GOP bill, but it remains to be seen how that benefit would be paid for.</a></p>\\n</div>,\n",
       " <div class=\"item-info\">\\n<h2 class=\"title\"><a data-metrics='{\"action\":\"Click Story Title\",\"category\":\"Story List\"}' href=\"http://www.npr.org/2017/03/10/519629973/new-health-care-bill-find-out-where-your-member-of-congress-stands\">New Health Care Bill: Find Out Where Your Member Of Congress Stands</a></h2>\\n<p class=\"teaser\"><a href=\"http://www.npr.org/2017/03/10/519629973/new-health-care-bill-find-out-where-your-member-of-congress-stands\"><time datetime=\"2017-03-10\"><span class=\"date\">March 10, 2017 \\x95 </span></time>NPR and dozens of member stations are searching for public statements on Twitter and Facebook, on lawmakers' websites and in interviews with public media or other news organizations.</a></p>\\n</div>,\n",
       " <div class=\"item-info\">\\n<h3 class=\"slug\"><a href=\"http://www.npr.org/sections/health-shots/\">Shots - Health News</a></h3>\\n<h2 class=\"title\"><a data-metrics='{\"action\":\"Click Story Title\",\"category\":\"Story List\"}' href=\"http://www.npr.org/sections/health-shots/2017/03/10/519703946/trump-to-nominate-dr-scott-gottlieb-to-head-food-and-drug-administration\">Trump Chooses Dr. Scott Gottlieb To Head Food And Drug Administration</a></h2>\\n<p class=\"teaser\"><a href=\"http://www.npr.org/sections/health-shots/2017/03/10/519703946/trump-to-nominate-dr-scott-gottlieb-to-head-food-and-drug-administration\"><time datetime=\"2017-03-10\"><span class=\"date\">March 10, 2017 \\x95 </span></time>Gottlieb is seen as a mainstream pick for an agency that oversees a quarter of the U.S. economy, including pharmaceuticals, medical devices, food, cosmetics and other areas of human and animal health.</a></p>\\n</div>,\n",
       " <div class=\"item-info\">\\n<h2 class=\"title\"><a data-metrics='{\"action\":\"Click Story Title\",\"category\":\"Story List\"}' href=\"http://www.npr.org/2017/03/10/519461271/heres-what-the-gop-bill-would-and-wouldnt-change-for-womens-healthcare\">Here's What GOP Bill Would (And Wouldn't) Change For Women's Health Care</a></h2>\\n<p class=\"teaser\"><a href=\"http://www.npr.org/2017/03/10/519461271/heres-what-the-gop-bill-would-and-wouldnt-change-for-womens-healthcare\"><time datetime=\"2017-03-10\"><span class=\"date\">March 10, 2017 \\x95 </span></time>Obamacare made some huge changes to women's health care. Now Republicans want to repeal the law. Here's which women-specific provisions would (and wouldn't) stick if this bill were passed.</a></p>\\n</div>,\n",
       " <div class=\"item-info\">\\n<h2 class=\"title\"><a data-metrics='{\"action\":\"Click Story Title\",\"category\":\"Story List\"}' href=\"http://www.npr.org/2017/03/10/519672879/white-house-cheers-numbers-on-jobs-border-crossings\">White House Cheers Numbers On Jobs, Border Crossings</a></h2>\\n<p class=\"teaser\"><a href=\"http://www.npr.org/2017/03/10/519672879/white-house-cheers-numbers-on-jobs-border-crossings\"><time datetime=\"2017-03-10\"><span class=\"date\">March 10, 2017 \\x95 </span></time>The Trump administration got some encouraging signals this week: An employment report shows solid job growth, while illegal border crossings fell sharply.</a></p>\\n</div>,\n",
       " <div class=\"item-info\">\\n<h3 class=\"slug\"><a href=\"http://www.npr.org/sections/thetwo-way/\">The Two-Way</a></h3>\\n<h2 class=\"title\"><a data-metrics='{\"action\":\"Click Story Title\",\"category\":\"Story List\"}' href=\"http://www.npr.org/sections/thetwo-way/2017/03/09/519554307/u-s-ethics-official-to-white-house-no-these-rules-definitely-apply-to-you\">U.S. Ethics Official To White House: No, These Rules Definitely Apply To You</a></h2>\\n<p class=\"teaser\"><a href=\"http://www.npr.org/sections/thetwo-way/2017/03/09/519554307/u-s-ethics-official-to-white-house-no-these-rules-definitely-apply-to-you\"><time datetime=\"2017-03-09\"><span class=\"date\">March 9, 2017 \\x95 </span></time>After Kellyanne Conway urged shoppers to buy Ivanka Trump's fashion line, the Office of Government Ethics urged punishment. The White House says the agency's rules don't apply to its workers.</a></p>\\n</div>,\n",
       " <div class=\"item-info\">\\n<h3 class=\"slug\"><a href=\"http://www.npr.org/sections/health-shots/\">Shots - Health News</a></h3>\\n<h2 class=\"title\"><a data-metrics='{\"action\":\"Click Story Title\",\"category\":\"Story List\"}' href=\"http://www.npr.org/sections/health-shots/2017/03/10/519432950/a-young-man-with-parkinsons-worries-about-the-costs-of-a-gop-health-plan\">A Young Man With Parkinson's Worries About The Costs Of A GOP Health Plan</a></h2>\\n<h2 class=\"affiliation\"><a data-metrics='{\"action\":\"Click Org Association\",\"category\":\"Story Metadata\"}' href=\"http://www.kcur.org/\">KCUR 89.3</a></h2>\\n<p class=\"teaser\"><a href=\"http://www.npr.org/sections/health-shots/2017/03/10/519432950/a-young-man-with-parkinsons-worries-about-the-costs-of-a-gop-health-plan\"><time datetime=\"2017-03-10\"><span class=\"date\">March 10, 2017 \\x95 </span></time>Ford Inbody has a degenerative disease and is carefully watching the GOP replacement health care bill. Though it covers preexisting conditions, it could still mean he'll get less care for more money.</a></p>\\n</div>,\n",
       " <div class=\"item-info\">\\n<h3 class=\"slug\"><a href=\"http://www.npr.org/sections/thesalt/\">The Salt</a></h3>\\n<h2 class=\"title\"><a data-metrics='{\"action\":\"Click Story Title\",\"category\":\"Story List\"}' href=\"http://www.npr.org/sections/thesalt/2017/03/10/519650091/falling-stars-negative-yelp-reviews-target-trump-restaurants-hotels\">Falling Stars: Negative Yelp Reviews Target Trump Restaurants, Hotels</a></h2>\\n<p class=\"teaser\"><a href=\"http://www.npr.org/sections/thesalt/2017/03/10/519650091/falling-stars-negative-yelp-reviews-target-trump-restaurants-hotels\"><time datetime=\"2017-03-10\"><span class=\"date\">March 10, 2017 \\x95 </span></time>Now that Donald Trump is president, online reviews of his hotels, restaurants and other properties have become much more politicized. But his presidency may help offset negatives for the Trump brand.</a></p>\\n</div>,\n",
       " <div class=\"item-info\">\\n<h3 class=\"slug\"><a href=\"http://www.npr.org/sections/thesalt/\">The Salt</a></h3>\\n<h2 class=\"title\"><a data-metrics='{\"action\":\"Click Story Title\",\"category\":\"Story List\"}' href=\"http://www.npr.org/sections/thesalt/2017/03/10/519488848/trump-advisers-warning-about-food-supply-takeover-met-with-skepticism\">Trump Adviser's Warning About Food Supply Takeover Met With Skepticism</a></h2>\\n<p class=\"teaser\"><a href=\"http://www.npr.org/sections/thesalt/2017/03/10/519488848/trump-advisers-warning-about-food-supply-takeover-met-with-skepticism\"><time datetime=\"2017-03-10\"><span class=\"date\">March 10, 2017 \\x95 </span></time>Peter Navarro, top trade adviser to the president, worries that foreign takeovers of U.S. food and defense companies could make America less secure. But economists see no signs of that happening.</a></p>\\n</div>,\n",
       " <div class=\"item-info\">\\n<h2 class=\"title\"><a data-metrics='{\"action\":\"Click Story Title\",\"category\":\"Story List\"}' href=\"http://www.npr.org/2017/03/09/519484050/paul-ryan-sells-health-care-bill-as-a-once-in-a-lifetime-opportunity\">Paul Ryan Sells Health Care Bill As A 'Once-In-A-Lifetime Opportunity'</a></h2>\\n<p class=\"teaser\"><a href=\"http://www.npr.org/2017/03/09/519484050/paul-ryan-sells-health-care-bill-as-a-once-in-a-lifetime-opportunity\"><time datetime=\"2017-03-09\"><span class=\"date\">March 9, 2017 \\x95 </span></time>With conservative lawmakers and interest groups blasting the Republican health care overhaul effort, the House speaker is making a hard sell for his bill.</a></p>\\n</div>,\n",
       " <div class=\"item-info\">\\n<h2 class=\"title\"><a data-metrics='{\"action\":\"Click Story Title\",\"category\":\"Story List\"}' href=\"http://www.npr.org/2017/03/09/519500312/state-republicans-push-for-more-restrictive-voting-laws\">State Republicans Push For More Restrictive Voting Laws</a></h2>\\n<p class=\"teaser\"><a href=\"http://www.npr.org/2017/03/09/519500312/state-republicans-push-for-more-restrictive-voting-laws\"><time datetime=\"2017-03-09\"><span class=\"date\">March 9, 2017 \\x95 </span></time>Bills to tighten voter ID rules have already been introduced in about half the states this year, where Republican lawmakers say the changes are needed to protect the integrity of the vote.</a></p>\\n</div>,\n",
       " <div class=\"item-info\">\\n<h3 class=\"slug\"><a href=\"http://www.npr.org/sections/health-shots/\">Shots - Health News</a></h3>\\n<h2 class=\"title\"><a data-metrics='{\"action\":\"Click Story Title\",\"category\":\"Story List\"}' href=\"http://www.npr.org/sections/health-shots/2017/03/09/519304881/5-things-to-watch-with-the-gop-health-law-overhaul\">5 Key Takeaways From The GOP Health Overhaul Plan</a></h2>\\n<h2 class=\"affiliation\"><a data-metrics='{\"action\":\"Click Org Association\",\"category\":\"Story Metadata\"}' href=\"http://www.kaiserhealthnews.org/\">Kaiser Health News</a></h2>\\n<p class=\"teaser\"><a href=\"http://www.npr.org/sections/health-shots/2017/03/09/519304881/5-things-to-watch-with-the-gop-health-law-overhaul\"><time datetime=\"2017-03-09\"><span class=\"date\">March 9, 2017 \\x95 </span></time>The bill proposes big changes to state and federal Medicaid programs and tax advantages for people who can afford to save up for health care costs.</a></p>\\n</div>,\n",
       " <div class=\"item-info\">\\n<h2 class=\"title\"><a data-metrics='{\"action\":\"Click Story Title\",\"category\":\"Story List\"}' href=\"http://www.npr.org/2017/03/09/519450642/medical-hospital-groups-oppose-gop-health-care-plan\">Medical, Hospital Groups Oppose GOP Health Care Plan</a></h2>\\n<p class=\"teaser\"><a href=\"http://www.npr.org/2017/03/09/519450642/medical-hospital-groups-oppose-gop-health-care-plan\"><time datetime=\"2017-03-09\"><span class=\"date\">March 9, 2017 \\x95 </span></time>Associations of doctors, nurses and hospitals say the bill, under review in Congress, will likely reduce coverage and hurt Americans' health. Among the critics is Medicaid's chief medical officer.</a></p>\\n</div>,\n",
       " <div class=\"item-info\">\\n<h3 class=\"slug\"><a href=\"http://www.npr.org/sections/thetwo-way/\">The Two-Way</a></h3>\\n<h2 class=\"title\"><a data-metrics='{\"action\":\"Click Story Title\",\"category\":\"Story List\"}' href=\"http://www.npr.org/sections/thetwo-way/2017/03/09/519490842/top-u-s-military-official-takes-full-responsibility-for-controversial-yemen-raid\">Top U.S. Military Official Takes 'Full Responsibility' For Controversial Yemen Raid</a></h2>\\n<p class=\"teaser\"><a href=\"http://www.npr.org/sections/thetwo-way/2017/03/09/519490842/top-u-s-military-official-takes-full-responsibility-for-controversial-yemen-raid\"><time datetime=\"2017-03-09\"><span class=\"date\">March 9, 2017 \\x95 </span></time>Gen. Joseph Votel was blunt: \"We lost a lot in this operation. We lost a valued operator, we had people wounded, we caused civilian casualties, lost an expensive aircraft.\"</a></p>\\n</div>,\n",
       " <div class=\"item-info\">\\n<h2 class=\"title\"><a data-metrics='{\"action\":\"Click Story Title\",\"category\":\"Story List\"}' href=\"http://www.npr.org/2017/03/08/519091030/freedom-caucus-members-face-crossroads-over-health-care-proposal\">Trump Won Big In House Conservatives' Districts \\u2014 Will They Defy Him On Health Care?</a></h2>\\n<p class=\"teaser\"><a href=\"http://www.npr.org/2017/03/08/519091030/freedom-caucus-members-face-crossroads-over-health-care-proposal\"><time datetime=\"2017-03-08\"><span class=\"date\">March 8, 2017 \\x95 </span></time>Members of the House Freedom Caucus and their allies are rebuking the Republican leadership's health care bill, but many of their constituents voted for President Trump. Can the lawmakers be swayed?</a></p>\\n</div>,\n",
       " <div class=\"item-info\">\\n<h3 class=\"slug\"><a href=\"http://www.npr.org/sections/thesalt/\">The Salt</a></h3>\\n<h2 class=\"title\"><a data-metrics='{\"action\":\"Click Story Title\",\"category\":\"Story List\"}' href=\"http://www.npr.org/sections/thesalt/2017/03/09/519515358/d-c-restaurant-sues-trump-claiming-unfair-competition\">D.C. Restaurant Sues Trump, Claiming 'Unfair' Competition  </a></h2>\\n<p class=\"teaser\"><a href=\"http://www.npr.org/sections/thesalt/2017/03/09/519515358/d-c-restaurant-sues-trump-claiming-unfair-competition\"><time datetime=\"2017-03-09\"><span class=\"date\">March 9, 2017 \\x95 </span></time>The owners of a Washington wine bar say President Trump is unfairly harming local restaurants by promoting his own nearby place: the Trump International Hotel. They want Trump to divest or close it.</a></p>\\n</div>,\n",
       " <div class=\"item-info\">\\n<h2 class=\"title\"><a data-metrics='{\"action\":\"Click Story Title\",\"category\":\"Story List\"}' href=\"http://www.npr.org/2017/03/08/519235979/youre-stuck-with-me-fbi-director-says-citing-no-plans-to-leave-job\">'You're Stuck With Me,' FBI Director Says, Citing No Plans To Leave Job</a></h2>\\n<p class=\"teaser\"><a href=\"http://www.npr.org/2017/03/08/519235979/youre-stuck-with-me-fbi-director-says-citing-no-plans-to-leave-job\"><time datetime=\"2017-03-08\"><span class=\"date\">March 8, 2017 \\x95 </span></time>James Comey told attendees at a cyber conference in Boston that he does not intend to leave before the end of his 10-year term. Comey has faced critics on both sides of the political spectrum.</a></p>\\n</div>,\n",
       " <div class=\"item-info\">\\n<h2 class=\"title\"><a data-metrics='{\"action\":\"Click Story Title\",\"category\":\"Story List\"}' href=\"http://www.npr.org/2017/03/08/518987077/a-conspiracy-a-month-trump-calls-for-2-investigations-with-no-evidence\">A Conspiracy A Month? Trump Calls For 2 Investigations \\u2014 With No Evidence</a></h2>\\n<p class=\"teaser\"><a href=\"http://www.npr.org/2017/03/08/518987077/a-conspiracy-a-month-trump-calls-for-2-investigations-with-no-evidence\"><time datetime=\"2017-03-08\"><span class=\"date\">March 8, 2017 \\x95 </span></time>As president, Trump's called for \\u2014 with no evidence \\u2014 investigations into alleged wiretapping by Obama and some 3 million to 5 million people he believes voted illegally.</a></p>\\n</div>]"
      ]
     },
     "execution_count": 3,
     "metadata": {},
     "output_type": "execute_result"
    }
   ],
   "source": [
    "links"
   ]
  },
  {
   "cell_type": "code",
   "execution_count": 4,
   "metadata": {
    "collapsed": true
   },
   "outputs": [],
   "source": [
    "l = []\n",
    "for i in range(0,len(links)):\n",
    "    try:\n",
    "        l.append((links[i].getText()).encode('ascii','ignore'))\n",
    "        #l = l.translate({ 0x2018:0x27, 0x2019:0x27, 0x201C:0x22, 0x201D:0x22, 0x2026:0x20 })\n",
    "    except:\n",
    "        continue\n",
    "links = map(lambda s: s.strip(), l)"
   ]
  },
  {
   "cell_type": "code",
   "execution_count": 5,
   "metadata": {
    "collapsed": false
   },
   "outputs": [
    {
     "data": {
      "text/plain": [
       "[\"GOP Health Care Bill Could Leave 24M More Without Coverage By 2026, CBO Says\\nMarch 13, 2017  The Congressional Budget Office has released a report on the potential impact of the House Republicans' legislation.\",\n",
       " \"ACLU Lawyer Sits At Heart Of Legal Resistance To Trump Agenda\\nMarch 13, 2017  In some ways, the American Civil Liberty Union's new national legal director, David Cole, has spent his entire career preparing for this moment.\",\n",
       " 'Can White House Bowling Heal GOP Divisions And Spare The Health Care Bill?\\nMarch 13, 2017  President Trump has been in \"sell mode\" on the health care bill, and he has invited conservative GOP members of Congress over to the White House bowling alley this week.',\n",
       " \"Rep. Steve King Stands By Controversial Tweet About 'Somebody Else's Babies'\\nMarch 13, 2017  The conservative Iowa lawmaker with a history of inflammatory statements tweeted in support of a right-wing Dutch politician.\",\n",
       " 'The Two-Way\\nTrump Administration Asks For More Time To Provide Proof That Obama Wiretapped Trump\\nMarch 13, 2017  The House Intelligence Committee had requested any applications for surveillance of Trump or his associates made under the Foreign Intelligence Surveillance Act. Obama has said the claim is baseless.',\n",
       " \"Just Because A Bill Is Long Doesn't Mean It's Bad\\nMarch 11, 2017  The length of a bill has little to do with its quality. In fact, it's getting harder and harder to pass major laws that aren't behemoths.\",\n",
       " \"President Trump's Voter Fraud Investigation Is Off To a Slow Start\\nMarch 11, 2017  It's hard to find anyone involved in voting issues who's been approached to be on the vice president's task force  or at least to admit it.\",\n",
       " 'Shots - Health News\\nHow Will People Who Are Already Sick Be Treated Under A New Health Law?\\nKaiser Health News\\nMarch 13, 2017  People withe pre-existing conditions would still be protected from insurance discrimination under the new House GOP bill, but it remains to be seen how that benefit would be paid for.',\n",
       " \"New Health Care Bill: Find Out Where Your Member Of Congress Stands\\nMarch 10, 2017  NPR and dozens of member stations are searching for public statements on Twitter and Facebook, on lawmakers' websites and in interviews with public media or other news organizations.\",\n",
       " 'Shots - Health News\\nTrump Chooses Dr. Scott Gottlieb To Head Food And Drug Administration\\nMarch 10, 2017  Gottlieb is seen as a mainstream pick for an agency that oversees a quarter of the U.S. economy, including pharmaceuticals, medical devices, food, cosmetics and other areas of human and animal health.',\n",
       " \"Here's What GOP Bill Would (And Wouldn't) Change For Women's Health Care\\nMarch 10, 2017  Obamacare made some huge changes to women's health care. Now Republicans want to repeal the law. Here's which women-specific provisions would (and wouldn't) stick if this bill were passed.\",\n",
       " 'White House Cheers Numbers On Jobs, Border Crossings\\nMarch 10, 2017  The Trump administration got some encouraging signals this week: An employment report shows solid job growth, while illegal border crossings fell sharply.',\n",
       " \"The Two-Way\\nU.S. Ethics Official To White House: No, These Rules Definitely Apply To You\\nMarch 9, 2017  After Kellyanne Conway urged shoppers to buy Ivanka Trump's fashion line, the Office of Government Ethics urged punishment. The White House says the agency's rules don't apply to its workers.\",\n",
       " \"Shots - Health News\\nA Young Man With Parkinson's Worries About The Costs Of A GOP Health Plan\\nKCUR 89.3\\nMarch 10, 2017  Ford Inbody has a degenerative disease and is carefully watching the GOP replacement health care bill. Though it covers preexisting conditions, it could still mean he'll get less care for more money.\",\n",
       " 'The Salt\\nFalling Stars: Negative Yelp Reviews Target Trump Restaurants, Hotels\\nMarch 10, 2017  Now that Donald Trump is president, online reviews of his hotels, restaurants and other properties have become much more politicized. But his presidency may help offset negatives for the Trump brand.',\n",
       " \"The Salt\\nTrump Adviser's Warning About Food Supply Takeover Met With Skepticism\\nMarch 10, 2017  Peter Navarro, top trade adviser to the president, worries that foreign takeovers of U.S. food and defense companies could make America less secure. But economists see no signs of that happening.\",\n",
       " \"Paul Ryan Sells Health Care Bill As A 'Once-In-A-Lifetime Opportunity'\\nMarch 9, 2017  With conservative lawmakers and interest groups blasting the Republican health care overhaul effort, the House speaker is making a hard sell for his bill.\",\n",
       " 'State Republicans Push For More Restrictive Voting Laws\\nMarch 9, 2017  Bills to tighten voter ID rules have already been introduced in about half the states this year, where Republican lawmakers say the changes are needed to protect the integrity of the vote.',\n",
       " 'Shots - Health News\\n5 Key Takeaways From The GOP Health Overhaul Plan\\nKaiser Health News\\nMarch 9, 2017  The bill proposes big changes to state and federal Medicaid programs and tax advantages for people who can afford to save up for health care costs.',\n",
       " \"Medical, Hospital Groups Oppose GOP Health Care Plan\\nMarch 9, 2017  Associations of doctors, nurses and hospitals say the bill, under review in Congress, will likely reduce coverage and hurt Americans' health. Among the critics is Medicaid's chief medical officer.\",\n",
       " 'The Two-Way\\nTop U.S. Military Official Takes \\'Full Responsibility\\' For Controversial Yemen Raid\\nMarch 9, 2017  Gen. Joseph Votel was blunt: \"We lost a lot in this operation. We lost a valued operator, we had people wounded, we caused civilian casualties, lost an expensive aircraft.\"',\n",
       " \"Trump Won Big In House Conservatives' Districts  Will They Defy Him On Health Care?\\nMarch 8, 2017  Members of the House Freedom Caucus and their allies are rebuking the Republican leadership's health care bill, but many of their constituents voted for President Trump. Can the lawmakers be swayed?\",\n",
       " \"The Salt\\nD.C. Restaurant Sues Trump, Claiming 'Unfair' Competition  \\nMarch 9, 2017  The owners of a Washington wine bar say President Trump is unfairly harming local restaurants by promoting his own nearby place: the Trump International Hotel. They want Trump to divest or close it.\",\n",
       " \"'You're Stuck With Me,' FBI Director Says, Citing No Plans To Leave Job\\nMarch 8, 2017  James Comey told attendees at a cyber conference in Boston that he does not intend to leave before the end of his 10-year term. Comey has faced critics on both sides of the political spectrum.\",\n",
       " \"A Conspiracy A Month? Trump Calls For 2 Investigations  With No Evidence\\nMarch 8, 2017  As president, Trump's called for  with no evidence  investigations into alleged wiretapping by Obama and some 3 million to 5 million people he believes voted illegally.\"]"
      ]
     },
     "execution_count": 5,
     "metadata": {},
     "output_type": "execute_result"
    }
   ],
   "source": [
    "links"
   ]
  },
  {
   "cell_type": "code",
   "execution_count": 6,
   "metadata": {
    "collapsed": true
   },
   "outputs": [],
   "source": [
    "links = map(lambda s: s.encode(\"utf-8\"), links)\n",
    "links = [x.rstrip('\\n') for x in links]"
   ]
  },
  {
   "cell_type": "code",
   "execution_count": 7,
   "metadata": {
    "collapsed": false
   },
   "outputs": [],
   "source": [
    "trumps_admin = ['whitehouse','trump','conway','sessions','pence','president','tillerson','devos','flynn','kushner','carson','department','preibus','bannon','spicer','miller']"
   ]
  },
  {
   "cell_type": "code",
   "execution_count": 8,
   "metadata": {
    "collapsed": false
   },
   "outputs": [
    {
     "data": {
      "text/plain": [
       "[\"aclu lawyer sits at heart of legal resistance to trump agenda\\nmarch 13, 2017  in some ways, the american civil liberty union's new national legal director, david cole, has spent his entire career preparing for this moment.\",\n",
       " 'can white house bowling heal gop divisions and spare the health care bill?\\nmarch 13, 2017  president trump has been in \"sell mode\" on the health care bill, and he has invited conservative gop members of congress over to the white house bowling alley this week.',\n",
       " 'the two-way\\ntrump administration asks for more time to provide proof that obama wiretapped trump\\nmarch 13, 2017  the house intelligence committee had requested any applications for surveillance of trump or his associates made under the foreign intelligence surveillance act. obama has said the claim is baseless.',\n",
       " \"president trump's voter fraud investigation is off to a slow start\\nmarch 11, 2017  it's hard to find anyone involved in voting issues who's been approached to be on the vice president's task force  or at least to admit it.\",\n",
       " 'shots - health news\\ntrump chooses dr. scott gottlieb to head food and drug administration\\nmarch 10, 2017  gottlieb is seen as a mainstream pick for an agency that oversees a quarter of the u.s. economy, including pharmaceuticals, medical devices, food, cosmetics and other areas of human and animal health.',\n",
       " 'white house cheers numbers on jobs, border crossings\\nmarch 10, 2017  the trump administration got some encouraging signals this week: an employment report shows solid job growth, while illegal border crossings fell sharply.',\n",
       " \"the two-way\\nu.s. ethics official to white house: no, these rules definitely apply to you\\nmarch 9, 2017  after kellyanne conway urged shoppers to buy ivanka trump's fashion line, the office of government ethics urged punishment. the white house says the agency's rules don't apply to its workers.\",\n",
       " 'the salt\\nfalling stars: negative yelp reviews target trump restaurants, hotels\\nmarch 10, 2017  now that donald trump is president, online reviews of his hotels, restaurants and other properties have become much more politicized. but his presidency may help offset negatives for the trump brand.',\n",
       " \"the salt\\ntrump adviser's warning about food supply takeover met with skepticism\\nmarch 10, 2017  peter navarro, top trade adviser to the president, worries that foreign takeovers of u.s. food and defense companies could make america less secure. but economists see no signs of that happening.\",\n",
       " \"trump won big in house conservatives' districts  will they defy him on health care?\\nmarch 8, 2017  members of the house freedom caucus and their allies are rebuking the republican leadership's health care bill, but many of their constituents voted for president trump. can the lawmakers be swayed?\",\n",
       " \"the salt\\nd.c. restaurant sues trump, claiming 'unfair' competition  \\nmarch 9, 2017  the owners of a washington wine bar say president trump is unfairly harming local restaurants by promoting his own nearby place: the trump international hotel. they want trump to divest or close it.\",\n",
       " \"a conspiracy a month? trump calls for 2 investigations  with no evidence\\nmarch 8, 2017  as president, trump's called for  with no evidence  investigations into alleged wiretapping by obama and some 3 million to 5 million people he believes voted illegally.\",\n",
       " \"the two-way\\nu.s. ethics official to white house: no, these rules definitely apply to you\\nmarch 9, 2017  after kellyanne conway urged shoppers to buy ivanka trump's fashion line, the office of government ethics urged punishment. the white house says the agency's rules don't apply to its workers.\",\n",
       " 'can white house bowling heal gop divisions and spare the health care bill?\\nmarch 13, 2017  president trump has been in \"sell mode\" on the health care bill, and he has invited conservative gop members of congress over to the white house bowling alley this week.',\n",
       " \"president trump's voter fraud investigation is off to a slow start\\nmarch 11, 2017  it's hard to find anyone involved in voting issues who's been approached to be on the vice president's task force  or at least to admit it.\",\n",
       " 'the salt\\nfalling stars: negative yelp reviews target trump restaurants, hotels\\nmarch 10, 2017  now that donald trump is president, online reviews of his hotels, restaurants and other properties have become much more politicized. but his presidency may help offset negatives for the trump brand.',\n",
       " \"the salt\\ntrump adviser's warning about food supply takeover met with skepticism\\nmarch 10, 2017  peter navarro, top trade adviser to the president, worries that foreign takeovers of u.s. food and defense companies could make america less secure. but economists see no signs of that happening.\",\n",
       " \"trump won big in house conservatives' districts  will they defy him on health care?\\nmarch 8, 2017  members of the house freedom caucus and their allies are rebuking the republican leadership's health care bill, but many of their constituents voted for president trump. can the lawmakers be swayed?\",\n",
       " \"the salt\\nd.c. restaurant sues trump, claiming 'unfair' competition  \\nmarch 9, 2017  the owners of a washington wine bar say president trump is unfairly harming local restaurants by promoting his own nearby place: the trump international hotel. they want trump to divest or close it.\",\n",
       " \"a conspiracy a month? trump calls for 2 investigations  with no evidence\\nmarch 8, 2017  as president, trump's called for  with no evidence  investigations into alleged wiretapping by obama and some 3 million to 5 million people he believes voted illegally.\"]"
      ]
     },
     "execution_count": 8,
     "metadata": {},
     "output_type": "execute_result"
    }
   ],
   "source": [
    "links = [x.lower() for x in links]\n",
    "total_titles = []\n",
    "for admin in trumps_admin:\n",
    "    titles = [x for x in links if admin in x]\n",
    "    total_titles.extend(titles)\n",
    "total_titles"
   ]
  },
  {
   "cell_type": "code",
   "execution_count": 9,
   "metadata": {
    "collapsed": false
   },
   "outputs": [
    {
     "data": {
      "text/plain": [
       "20"
      ]
     },
     "execution_count": 9,
     "metadata": {},
     "output_type": "execute_result"
    }
   ],
   "source": [
    "len(total_titles)"
   ]
  },
  {
   "cell_type": "code",
   "execution_count": 10,
   "metadata": {
    "collapsed": true
   },
   "outputs": [],
   "source": [
    "title_file = open(\"npr.txt\", \"a\")"
   ]
  },
  {
   "cell_type": "code",
   "execution_count": 11,
   "metadata": {
    "collapsed": true
   },
   "outputs": [],
   "source": [
    "for i in range(0, len(total_titles)):\n",
    "    temp = total_titles[i]\n",
    "    title_file.write(temp + '\\n')"
   ]
  },
  {
   "cell_type": "code",
   "execution_count": 12,
   "metadata": {
    "collapsed": true
   },
   "outputs": [],
   "source": [
    "title_names = []\n",
    "title_file = open(\"npr.txt\",\"r\")\n",
    "for line in title_file:\n",
    "    line = line.strip()\n",
    "    title_names.append(line)\n",
    "title_file.close()"
   ]
  },
  {
   "cell_type": "code",
   "execution_count": 13,
   "metadata": {
    "collapsed": false
   },
   "outputs": [
    {
     "data": {
      "text/plain": [
       "['a conspiracy a month? trump calls for 2 investigations  with no evidence',\n",
       " \"march 8, 2017  as president, trump's called for  with no evidence  investigations into alleged wiretapping by obama and some 3 million to 5 million people he believes voted illegally.\",\n",
       " '4 challenges trump and republicans face when it comes to health care',\n",
       " 'march 7, 2017  the long-awaited gop health care plan is out. president trump and republicans might have an easier time passing it than obama eight years ago, but health care is complicated and not an easy sell.',\n",
       " \"trump supports gop health care plan, but it isn't everything he wants\",\n",
       " \"march 7, 2017  the president's endorsement could be crucial in replacing the affordable care act, but the republican proposal leaves out provisions trump has advocated for, like selling policies across state lines.\",\n",
       " \"full text: trump's new executive order on travel, annotated\",\n",
       " \"march 6, 2017  president trump's first action, temporarily barring refugees and travel from specific majority-muslim countries, had been suspended. the revised order goes into effect on march 16.\",\n",
       " 'the two-way',\n",
       " 'faq: on alleged wiretaps of trump communications',\n",
       " \"march 6, 2017  president trump accused his predecessor of monitoring his communications. here is a rundown of the allegations, federal surveillance powers, and what we do and don't know.\",\n",
       " \"trump has many jobs unfilled; is he 'deconstructing the administrative state'?\",\n",
       " 'march 6, 2017  hundreds of federal posts remain vacant, and the president says there are a lot of unnecessary jobs in government. are the two related?',\n",
       " 'parallels',\n",
       " \"these days, business travel by trump's sons is costly and complicated\",\n",
       " 'march 6, 2017  with the trump family \"so involved in international business, the logistical issues, costs and security risks are more substantial than we\\'re used to seeing,\" says an expert in presidential travel.',\n",
       " \"fbi director asks justice department to publicly deny trump's wiretap allegation\",\n",
       " 'march 5, 2017  james comey\\'s request regarding the unsubstantiated claim follows the white house call for a congressional inquiry \"to determine whether executive branch investigative powers were abused in 2016.\"',\n",
       " 'the two-way',\n",
       " \"president trump accuses obama of 'wire tapping,' provides no evidence\",\n",
       " 'march 4, 2017  in a series of tweets early saturday morning, trump alleged that obama wiretapped trump tower before election day, calling him a \"bad (or sick) guy.\" obama\\'s spokesman calls the claim \"simply false.\"',\n",
       " 'trump skips gridiron dinner as his staffers get roasted',\n",
       " 'march 5, 2017  at a time when tensions between president trump and the press are as high as ever, trump declined his invitation, instead spending the evening at his mar-a-lago estate in florida.',\n",
       " \"stop using the word 'pivot'  trump is trump and will always be trump\",\n",
       " 'march 4, 2017  after the president delivered what amounted to a fairly normal address to a joint session of congress, there were musings that maybe he would stay \"presidential.\"',\n",
       " \"trump's new tone wins praise, but only for 24 hours\",\n",
       " 'march 3, 2017  trump got generally positive reviews for his address to congress. but then, the good news was overtaken by more revelations of contacts between trump associates and russian officials.',\n",
       " 'code switch',\n",
       " \"this week in race: best picture, worst picture, picturing trump's america\",\n",
       " \"march 3, 2017  kellyanne conway's breach of oval office etiquette ushered a wave of reaction online, while a little independent film reigned on oscar night and had everyone in their feelings.\",\n",
       " 'the two-way',\n",
       " \"trump nominees' financial reports slow to arrive for ethics review, document shows\",\n",
       " \"march 3, 2017  a document obtained by npr illustrates the complexity of the nominees' financial holdings  and how slowly they are being reported for federal ethics vetting, compared with the obama administration.\",\n",
       " 'former president bush says snl impressions never bothered him a bit',\n",
       " 'march 3, 2017  \"the best humor is when you make fun of yourself,\" george w. bush said on jimmy kimmel live on thursday night. president trump regularly dismisses the satirical jabs aimed at his administration.',\n",
       " \"'hail to the chief': fanfare sought by some presidents, avoided by others\",\n",
       " 'march 4, 2017  one perk of the presidency is that it comes with its own anthem. but when it comes to playing \"hail to the chief,\" historians might say that donald trump is no james k. polk.',\n",
       " \"experts say white house's conway response raises major ethical questions\",\n",
       " \"march 3, 2017  in the white house's letter to the office of government ethics this week about kellyanne conway, there's a passage that is potentially far more significant than a clothing endorsement.\",\n",
       " 'code switch',\n",
       " \"this week in race: best picture, worst picture, picturing trump's america\",\n",
       " \"march 3, 2017  kellyanne conway's breach of oval office etiquette ushered a wave of reaction online, while a little independent film reigned on oscar night and had everyone in their feelings.\",\n",
       " 'the two-way',\n",
       " \"mike pence used aol email for state business as indiana's governor\",\n",
       " 'march 3, 2017  public records obtained by the indianapolis star show that pence communicated with advisers about security issues using the aol account, which was hacked last year.',\n",
       " 'a conspiracy a month? trump calls for 2 investigations  with no evidence',\n",
       " \"march 8, 2017  as president, trump's called for  with no evidence  investigations into alleged wiretapping by obama and some 3 million to 5 million people he believes voted illegally.\",\n",
       " '4 challenges trump and republicans face when it comes to health care',\n",
       " 'march 7, 2017  the long-awaited gop health care plan is out. president trump and republicans might have an easier time passing it than obama eight years ago, but health care is complicated and not an easy sell.',\n",
       " \"trump supports gop health care plan, but it isn't everything he wants\",\n",
       " \"march 7, 2017  the president's endorsement could be crucial in replacing the affordable care act, but the republican proposal leaves out provisions trump has advocated for, like selling policies across state lines.\",\n",
       " \"full text: trump's new executive order on travel, annotated\",\n",
       " \"march 6, 2017  president trump's first action, temporarily barring refugees and travel from specific majority-muslim countries, had been suspended. the revised order goes into effect on march 16.\",\n",
       " 'the two-way',\n",
       " 'faq: on alleged wiretaps of trump communications',\n",
       " \"march 6, 2017  president trump accused his predecessor of monitoring his communications. here is a rundown of the allegations, federal surveillance powers, and what we do and don't know.\",\n",
       " \"trump has many jobs unfilled; is he 'deconstructing the administrative state'?\",\n",
       " 'march 6, 2017  hundreds of federal posts remain vacant, and the president says there are a lot of unnecessary jobs in government. are the two related?',\n",
       " 'parallels',\n",
       " \"these days, business travel by trump's sons is costly and complicated\",\n",
       " 'march 6, 2017  with the trump family \"so involved in international business, the logistical issues, costs and security risks are more substantial than we\\'re used to seeing,\" says an expert in presidential travel.',\n",
       " 'the two-way',\n",
       " \"president trump accuses obama of 'wire tapping,' provides no evidence\",\n",
       " 'march 4, 2017  in a series of tweets early saturday morning, trump alleged that obama wiretapped trump tower before election day, calling him a \"bad (or sick) guy.\" obama\\'s spokesman calls the claim \"simply false.\"',\n",
       " 'trump skips gridiron dinner as his staffers get roasted',\n",
       " 'march 5, 2017  at a time when tensions between president trump and the press are as high as ever, trump declined his invitation, instead spending the evening at his mar-a-lago estate in florida.',\n",
       " \"stop using the word 'pivot'  trump is trump and will always be trump\",\n",
       " 'march 4, 2017  after the president delivered what amounted to a fairly normal address to a joint session of congress, there were musings that maybe he would stay \"presidential.\"',\n",
       " 'npr ed',\n",
       " \"betsy devos' 'school choice' controversy; historically black colleges and more\",\n",
       " \"march 4, 2017  here's npr ed's take on the top national education stories this week. the highlight: controversy surrounding a visit from black college presidents.\",\n",
       " 'former president bush says snl impressions never bothered him a bit',\n",
       " 'march 3, 2017  \"the best humor is when you make fun of yourself,\" george w. bush said on jimmy kimmel live on thursday night. president trump regularly dismisses the satirical jabs aimed at his administration.',\n",
       " \"'hail to the chief': fanfare sought by some presidents, avoided by others\",\n",
       " 'march 4, 2017  one perk of the presidency is that it comes with its own anthem. but when it comes to playing \"hail to the chief,\" historians might say that donald trump is no james k. polk.',\n",
       " 'npr ed',\n",
       " \"betsy devos' 'school choice' controversy; historically black colleges and more\",\n",
       " \"march 4, 2017  here's npr ed's take on the top national education stories this week. the highlight: controversy surrounding a visit from black college presidents.\",\n",
       " \"fbi director asks justice department to publicly deny trump's wiretap allegation\",\n",
       " 'march 5, 2017  james comey\\'s request regarding the unsubstantiated claim follows the white house call for a congressional inquiry \"to determine whether executive branch investigative powers were abused in 2016.\"',\n",
       " \"trump won big in house conservatives' districts  will they defy him on health care?\",\n",
       " \"march 8, 2017  members of the house freedom caucus and their allies are rebuking the republican leadership's health care bill, but many of their constituents voted for president trump. can the lawmakers be swayed?\",\n",
       " 'a conspiracy a month? trump calls for 2 investigations  with no evidence',\n",
       " \"march 8, 2017  as president, trump's called for  with no evidence  investigations into alleged wiretapping by obama and some 3 million to 5 million people he believes voted illegally.\",\n",
       " 'shots - health news',\n",
       " 'trump, democrats look for common ground on drug prices',\n",
       " 'kaiser health news',\n",
       " \"march 8, 2017  two congressmen met with president trump seeking support for a bill to expand the government's ability to negotiate drug prices. but it's not clear it would have much impact or will gain support.\",\n",
       " '4 challenges trump and republicans face when it comes to health care',\n",
       " 'march 7, 2017  the long-awaited gop health care plan is out. president trump and republicans might have an easier time passing it than obama eight years ago, but health care is complicated and not an easy sell.',\n",
       " 'the two-way',\n",
       " \"hawaii mounts legal challenge to president's revised travel ban\",\n",
       " 'march 8, 2017  hawaii\\'s attorney general calls trump\\'s executive order \"muslim ban 2.0.\" the suit argues that the ban subjects muslims to discrimination and second-class treatment, and damages the state\\'s economy.',\n",
       " 'the two-way',\n",
       " 'china oks 38 trump trademarks; critics say it violates emoluments clause',\n",
       " 'march 8, 2017  the chinese trademark office had denied trump those naming rights for a decade even as chinese-owned businesses used his name without paying licensing fees.',\n",
       " 'the two-way',\n",
       " \"ethics watchdogs want u.s. attorney to investigate trump's business interests\",\n",
       " \"march 8, 2017  they say trump is violating the constitution's emoluments clause by doing deals with entities linked to foreign governments.\",\n",
       " \"trump supports gop health care plan, but it isn't everything he wants\",\n",
       " \"march 7, 2017  the president's endorsement could be crucial in replacing the affordable care act, but the republican proposal leaves out provisions trump has advocated for, like selling policies across state lines.\",\n",
       " \"full text: trump's new executive order on travel, annotated\",\n",
       " \"march 6, 2017  president trump's first action, temporarily barring refugees and travel from specific majority-muslim countries, had been suspended. the revised order goes into effect on march 16.\",\n",
       " 'the two-way',\n",
       " 'faq: on alleged wiretaps of trump communications',\n",
       " \"march 6, 2017  president trump accused his predecessor of monitoring his communications. here is a rundown of the allegations, federal surveillance powers, and what we do and don't know.\",\n",
       " \"trump has many jobs unfilled; is he 'deconstructing the administrative state'?\",\n",
       " 'march 6, 2017  hundreds of federal posts remain vacant, and the president says there are a lot of unnecessary jobs in government. are the two related?',\n",
       " 'parallels',\n",
       " \"these days, business travel by trump's sons is costly and complicated\",\n",
       " 'march 6, 2017  with the trump family \"so involved in international business, the logistical issues, costs and security risks are more substantial than we\\'re used to seeing,\" says an expert in presidential travel.',\n",
       " \"fbi director asks justice department to publicly deny trump's wiretap allegation\",\n",
       " 'march 5, 2017  james comey\\'s request regarding the unsubstantiated claim follows the white house call for a congressional inquiry \"to determine whether executive branch investigative powers were abused in 2016.\"',\n",
       " 'the two-way',\n",
       " \"president trump accuses obama of 'wire tapping,' provides no evidence\",\n",
       " 'march 4, 2017  in a series of tweets early saturday morning, trump alleged that obama wiretapped trump tower before election day, calling him a \"bad (or sick) guy.\" obama\\'s spokesman calls the claim \"simply false.\"',\n",
       " 'trump skips gridiron dinner as his staffers get roasted',\n",
       " 'march 5, 2017  at a time when tensions between president trump and the press are as high as ever, trump declined his invitation, instead spending the evening at his mar-a-lago estate in florida.',\n",
       " \"stop using the word 'pivot'  trump is trump and will always be trump\",\n",
       " 'march 4, 2017  after the president delivered what amounted to a fairly normal address to a joint session of congress, there were musings that maybe he would stay \"presidential.\"',\n",
       " \"experts say white house's conway response raises major ethical questions\",\n",
       " \"march 3, 2017  in the white house's letter to the office of government ethics this week about kellyanne conway, there's a passage that is potentially far more significant than a clothing endorsement.\",\n",
       " \"trump won big in house conservatives' districts  will they defy him on health care?\",\n",
       " \"march 8, 2017  members of the house freedom caucus and their allies are rebuking the republican leadership's health care bill, but many of their constituents voted for president trump. can the lawmakers be swayed?\",\n",
       " 'a conspiracy a month? trump calls for 2 investigations  with no evidence',\n",
       " \"march 8, 2017  as president, trump's called for  with no evidence  investigations into alleged wiretapping by obama and some 3 million to 5 million people he believes voted illegally.\",\n",
       " 'shots - health news',\n",
       " 'trump, democrats look for common ground on drug prices',\n",
       " 'kaiser health news',\n",
       " \"march 8, 2017  two congressmen met with president trump seeking support for a bill to expand the government's ability to negotiate drug prices. but it's not clear it would have much impact or will gain support.\",\n",
       " '4 challenges trump and republicans face when it comes to health care',\n",
       " 'march 7, 2017  the long-awaited gop health care plan is out. president trump and republicans might have an easier time passing it than obama eight years ago, but health care is complicated and not an easy sell.',\n",
       " 'the two-way',\n",
       " \"hawaii mounts legal challenge to president's revised travel ban\",\n",
       " 'march 8, 2017  hawaii\\'s attorney general calls trump\\'s executive order \"muslim ban 2.0.\" the suit argues that the ban subjects muslims to discrimination and second-class treatment, and damages the state\\'s economy.',\n",
       " \"trump supports gop health care plan, but it isn't everything he wants\",\n",
       " \"march 7, 2017  the president's endorsement could be crucial in replacing the affordable care act, but the republican proposal leaves out provisions trump has advocated for, like selling policies across state lines.\",\n",
       " \"full text: trump's new executive order on travel, annotated\",\n",
       " \"march 6, 2017  president trump's first action, temporarily barring refugees and travel from specific majority-muslim countries, had been suspended. the revised order goes into effect on march 16.\",\n",
       " 'the two-way',\n",
       " 'faq: on alleged wiretaps of trump communications',\n",
       " \"march 6, 2017  president trump accused his predecessor of monitoring his communications. here is a rundown of the allegations, federal surveillance powers, and what we do and don't know.\",\n",
       " \"trump has many jobs unfilled; is he 'deconstructing the administrative state'?\",\n",
       " 'march 6, 2017  hundreds of federal posts remain vacant, and the president says there are a lot of unnecessary jobs in government. are the two related?',\n",
       " 'parallels',\n",
       " \"these days, business travel by trump's sons is costly and complicated\",\n",
       " 'march 6, 2017  with the trump family \"so involved in international business, the logistical issues, costs and security risks are more substantial than we\\'re used to seeing,\" says an expert in presidential travel.',\n",
       " 'the two-way',\n",
       " \"president trump accuses obama of 'wire tapping,' provides no evidence\",\n",
       " 'march 4, 2017  in a series of tweets early saturday morning, trump alleged that obama wiretapped trump tower before election day, calling him a \"bad (or sick) guy.\" obama\\'s spokesman calls the claim \"simply false.\"',\n",
       " 'trump skips gridiron dinner as his staffers get roasted',\n",
       " 'march 5, 2017  at a time when tensions between president trump and the press are as high as ever, trump declined his invitation, instead spending the evening at his mar-a-lago estate in florida.',\n",
       " \"stop using the word 'pivot'  trump is trump and will always be trump\",\n",
       " 'march 4, 2017  after the president delivered what amounted to a fairly normal address to a joint session of congress, there were musings that maybe he would stay \"presidential.\"',\n",
       " \"fbi director asks justice department to publicly deny trump's wiretap allegation\",\n",
       " 'march 5, 2017  james comey\\'s request regarding the unsubstantiated claim follows the white house call for a congressional inquiry \"to determine whether executive branch investigative powers were abused in 2016.\"',\n",
       " 'the two-way',\n",
       " 'u.s. ethics official to white house: no, these rules definitely apply to you',\n",
       " \"march 9, 2017  after kellyanne conway urged shoppers to buy ivanka trump's fashion line, the office of government ethics urged punishment. the white house says the agency's rules don't apply to its workers.\",\n",
       " \"trump won big in house conservatives' districts  will they defy him on health care?\",\n",
       " \"march 8, 2017  members of the house freedom caucus and their allies are rebuking the republican leadership's health care bill, but many of their constituents voted for president trump. can the lawmakers be swayed?\",\n",
       " 'the salt',\n",
       " \"d.c. restaurant sues trump, claiming 'unfair' competition\",\n",
       " 'march 9, 2017  the owners of a washington wine bar say president trump is unfairly harming local restaurants by promoting his own nearby place: the trump international hotel. they want trump to divest or close it.',\n",
       " 'a conspiracy a month? trump calls for 2 investigations  with no evidence',\n",
       " \"march 8, 2017  as president, trump's called for  with no evidence  investigations into alleged wiretapping by obama and some 3 million to 5 million people he believes voted illegally.\",\n",
       " 'shots - health news',\n",
       " 'trump, democrats look for common ground on drug prices',\n",
       " 'kaiser health news',\n",
       " \"march 8, 2017  two congressmen met with president trump seeking support for a bill to expand the government's ability to negotiate drug prices. but it's not clear it would have much impact or will gain support.\",\n",
       " '4 challenges trump and republicans face when it comes to health care',\n",
       " 'march 7, 2017  the long-awaited gop health care plan is out. president trump and republicans might have an easier time passing it than obama eight years ago, but health care is complicated and not an easy sell.',\n",
       " 'the two-way',\n",
       " \"hawaii mounts legal challenge to president's revised travel ban\",\n",
       " 'march 8, 2017  hawaii\\'s attorney general calls trump\\'s executive order \"muslim ban 2.0.\" the suit argues that the ban subjects muslims to discrimination and second-class treatment, and damages the state\\'s economy.',\n",
       " 'the two-way',\n",
       " 'china oks 38 trump trademarks; critics say it violates emoluments clause',\n",
       " 'march 8, 2017  the chinese trademark office had denied trump those naming rights for a decade even as chinese-owned businesses used his name without paying licensing fees.',\n",
       " 'the two-way',\n",
       " \"ethics watchdogs want u.s. attorney to investigate trump's business interests\",\n",
       " \"march 8, 2017  they say trump is violating the constitution's emoluments clause by doing deals with entities linked to foreign governments.\",\n",
       " \"trump supports gop health care plan, but it isn't everything he wants\",\n",
       " \"march 7, 2017  the president's endorsement could be crucial in replacing the affordable care act, but the republican proposal leaves out provisions trump has advocated for, like selling policies across state lines.\",\n",
       " \"full text: trump's new executive order on travel, annotated\",\n",
       " \"march 6, 2017  president trump's first action, temporarily barring refugees and travel from specific majority-muslim countries, had been suspended. the revised order goes into effect on march 16.\",\n",
       " 'the two-way',\n",
       " 'faq: on alleged wiretaps of trump communications',\n",
       " \"march 6, 2017  president trump accused his predecessor of monitoring his communications. here is a rundown of the allegations, federal surveillance powers, and what we do and don't know.\",\n",
       " \"trump has many jobs unfilled; is he 'deconstructing the administrative state'?\",\n",
       " 'march 6, 2017  hundreds of federal posts remain vacant, and the president says there are a lot of unnecessary jobs in government. are the two related?',\n",
       " 'parallels',\n",
       " \"these days, business travel by trump's sons is costly and complicated\",\n",
       " 'march 6, 2017  with the trump family \"so involved in international business, the logistical issues, costs and security risks are more substantial than we\\'re used to seeing,\" says an expert in presidential travel.',\n",
       " 'the two-way',\n",
       " 'u.s. ethics official to white house: no, these rules definitely apply to you',\n",
       " \"march 9, 2017  after kellyanne conway urged shoppers to buy ivanka trump's fashion line, the office of government ethics urged punishment. the white house says the agency's rules don't apply to its workers.\",\n",
       " \"trump won big in house conservatives' districts  will they defy him on health care?\",\n",
       " \"march 8, 2017  members of the house freedom caucus and their allies are rebuking the republican leadership's health care bill, but many of their constituents voted for president trump. can the lawmakers be swayed?\",\n",
       " 'the salt',\n",
       " \"d.c. restaurant sues trump, claiming 'unfair' competition\",\n",
       " 'march 9, 2017  the owners of a washington wine bar say president trump is unfairly harming local restaurants by promoting his own nearby place: the trump international hotel. they want trump to divest or close it.',\n",
       " 'a conspiracy a month? trump calls for 2 investigations  with no evidence',\n",
       " \"march 8, 2017  as president, trump's called for  with no evidence  investigations into alleged wiretapping by obama and some 3 million to 5 million people he believes voted illegally.\",\n",
       " 'shots - health news',\n",
       " 'trump, democrats look for common ground on drug prices',\n",
       " 'kaiser health news',\n",
       " \"march 8, 2017  two congressmen met with president trump seeking support for a bill to expand the government's ability to negotiate drug prices. but it's not clear it would have much impact or will gain support.\",\n",
       " '4 challenges trump and republicans face when it comes to health care',\n",
       " 'march 7, 2017  the long-awaited gop health care plan is out. president trump and republicans might have an easier time passing it than obama eight years ago, but health care is complicated and not an easy sell.',\n",
       " 'the two-way',\n",
       " \"hawaii mounts legal challenge to president's revised travel ban\",\n",
       " 'march 8, 2017  hawaii\\'s attorney general calls trump\\'s executive order \"muslim ban 2.0.\" the suit argues that the ban subjects muslims to discrimination and second-class treatment, and damages the state\\'s economy.',\n",
       " \"trump supports gop health care plan, but it isn't everything he wants\",\n",
       " \"march 7, 2017  the president's endorsement could be crucial in replacing the affordable care act, but the republican proposal leaves out provisions trump has advocated for, like selling policies across state lines.\",\n",
       " \"full text: trump's new executive order on travel, annotated\",\n",
       " \"march 6, 2017  president trump's first action, temporarily barring refugees and travel from specific majority-muslim countries, had been suspended. the revised order goes into effect on march 16.\",\n",
       " 'the two-way',\n",
       " 'faq: on alleged wiretaps of trump communications',\n",
       " \"march 6, 2017  president trump accused his predecessor of monitoring his communications. here is a rundown of the allegations, federal surveillance powers, and what we do and don't know.\",\n",
       " \"trump has many jobs unfilled; is he 'deconstructing the administrative state'?\",\n",
       " 'march 6, 2017  hundreds of federal posts remain vacant, and the president says there are a lot of unnecessary jobs in government. are the two related?',\n",
       " 'parallels',\n",
       " \"these days, business travel by trump's sons is costly and complicated\",\n",
       " 'march 6, 2017  with the trump family \"so involved in international business, the logistical issues, costs and security risks are more substantial than we\\'re used to seeing,\" says an expert in presidential travel.',\n",
       " \"president trump's voter fraud investigation is off to a slow start\",\n",
       " \"march 11, 2017  it's hard to find anyone involved in voting issues who's been approached to be on the vice president's task force  or at least to admit it.\",\n",
       " 'shots - health news',\n",
       " 'trump chooses dr. scott gottlieb to head food and drug administration',\n",
       " 'march 10, 2017  gottlieb is seen as a mainstream pick for an agency that oversees a quarter of the u.s. economy, including pharmaceuticals, medical devices, food, cosmetics and other areas of human and animal health.',\n",
       " 'white house cheers numbers on jobs, border crossings',\n",
       " 'march 10, 2017  the trump administration got some encouraging signals this week: an employment report shows solid job growth, while illegal border crossings fell sharply.',\n",
       " 'the two-way',\n",
       " 'u.s. ethics official to white house: no, these rules definitely apply to you',\n",
       " \"march 9, 2017  after kellyanne conway urged shoppers to buy ivanka trump's fashion line, the office of government ethics urged punishment. the white house says the agency's rules don't apply to its workers.\",\n",
       " 'the salt',\n",
       " 'falling stars: negative yelp reviews target trump restaurants, hotels',\n",
       " 'march 10, 2017  now that donald trump is president, online reviews of his hotels, restaurants and other properties have become much more politicized. but his presidency may help offset negatives for the trump brand.',\n",
       " 'the salt',\n",
       " \"trump adviser's warning about food supply takeover met with skepticism\",\n",
       " 'march 10, 2017  peter navarro, top trade adviser to the president, worries that foreign takeovers of u.s. food and defense companies could make america less secure. but economists see no signs of that happening.',\n",
       " \"trump won big in house conservatives' districts  will they defy him on health care?\",\n",
       " \"march 8, 2017  members of the house freedom caucus and their allies are rebuking the republican leadership's health care bill, but many of their constituents voted for president trump. can the lawmakers be swayed?\",\n",
       " 'the salt',\n",
       " \"d.c. restaurant sues trump, claiming 'unfair' competition\",\n",
       " 'march 9, 2017  the owners of a washington wine bar say president trump is unfairly harming local restaurants by promoting his own nearby place: the trump international hotel. they want trump to divest or close it.',\n",
       " 'a conspiracy a month? trump calls for 2 investigations  with no evidence',\n",
       " \"march 8, 2017  as president, trump's called for  with no evidence  investigations into alleged wiretapping by obama and some 3 million to 5 million people he believes voted illegally.\",\n",
       " 'shots - health news',\n",
       " 'trump, democrats look for common ground on drug prices',\n",
       " 'kaiser health news',\n",
       " \"march 8, 2017  two congressmen met with president trump seeking support for a bill to expand the government's ability to negotiate drug prices. but it's not clear it would have much impact or will gain support.\",\n",
       " '4 challenges trump and republicans face when it comes to health care',\n",
       " 'march 7, 2017  the long-awaited gop health care plan is out. president trump and republicans might have an easier time passing it than obama eight years ago, but health care is complicated and not an easy sell.',\n",
       " 'the two-way',\n",
       " \"hawaii mounts legal challenge to president's revised travel ban\",\n",
       " 'march 8, 2017  hawaii\\'s attorney general calls trump\\'s executive order \"muslim ban 2.0.\" the suit argues that the ban subjects muslims to discrimination and second-class treatment, and damages the state\\'s economy.',\n",
       " 'the two-way',\n",
       " 'china oks 38 trump trademarks; critics say it violates emoluments clause',\n",
       " 'march 8, 2017  the chinese trademark office had denied trump those naming rights for a decade even as chinese-owned businesses used his name without paying licensing fees.',\n",
       " 'the two-way',\n",
       " 'u.s. ethics official to white house: no, these rules definitely apply to you',\n",
       " \"march 9, 2017  after kellyanne conway urged shoppers to buy ivanka trump's fashion line, the office of government ethics urged punishment. the white house says the agency's rules don't apply to its workers.\",\n",
       " \"president trump's voter fraud investigation is off to a slow start\",\n",
       " \"march 11, 2017  it's hard to find anyone involved in voting issues who's been approached to be on the vice president's task force  or at least to admit it.\",\n",
       " 'the salt',\n",
       " 'falling stars: negative yelp reviews target trump restaurants, hotels',\n",
       " 'march 10, 2017  now that donald trump is president, online reviews of his hotels, restaurants and other properties have become much more politicized. but his presidency may help offset negatives for the trump brand.',\n",
       " 'the salt',\n",
       " \"trump adviser's warning about food supply takeover met with skepticism\",\n",
       " 'march 10, 2017  peter navarro, top trade adviser to the president, worries that foreign takeovers of u.s. food and defense companies could make america less secure. but economists see no signs of that happening.',\n",
       " \"trump won big in house conservatives' districts  will they defy him on health care?\",\n",
       " \"march 8, 2017  members of the house freedom caucus and their allies are rebuking the republican leadership's health care bill, but many of their constituents voted for president trump. can the lawmakers be swayed?\",\n",
       " 'the salt',\n",
       " \"d.c. restaurant sues trump, claiming 'unfair' competition\",\n",
       " 'march 9, 2017  the owners of a washington wine bar say president trump is unfairly harming local restaurants by promoting his own nearby place: the trump international hotel. they want trump to divest or close it.',\n",
       " 'a conspiracy a month? trump calls for 2 investigations  with no evidence',\n",
       " \"march 8, 2017  as president, trump's called for  with no evidence  investigations into alleged wiretapping by obama and some 3 million to 5 million people he believes voted illegally.\",\n",
       " 'shots - health news',\n",
       " 'trump, democrats look for common ground on drug prices',\n",
       " 'kaiser health news',\n",
       " \"march 8, 2017  two congressmen met with president trump seeking support for a bill to expand the government's ability to negotiate drug prices. but it's not clear it would have much impact or will gain support.\",\n",
       " '4 challenges trump and republicans face when it comes to health care',\n",
       " 'march 7, 2017  the long-awaited gop health care plan is out. president trump and republicans might have an easier time passing it than obama eight years ago, but health care is complicated and not an easy sell.',\n",
       " 'the two-way',\n",
       " \"hawaii mounts legal challenge to president's revised travel ban\",\n",
       " 'march 8, 2017  hawaii\\'s attorney general calls trump\\'s executive order \"muslim ban 2.0.\" the suit argues that the ban subjects muslims to discrimination and second-class treatment, and damages the state\\'s economy.',\n",
       " 'aclu lawyer sits at heart of legal resistance to trump agenda',\n",
       " \"march 13, 2017  in some ways, the american civil liberty union's new national legal director, david cole, has spent his entire career preparing for this moment.\",\n",
       " 'can white house bowling heal gop divisions and spare the health care bill?',\n",
       " 'march 13, 2017  president trump has been in \"sell mode\" on the health care bill, and he has invited conservative gop members of congress over to the white house bowling alley this week.',\n",
       " 'the two-way',\n",
       " 'trump administration asks for more time to provide proof that obama wiretapped trump',\n",
       " 'march 13, 2017  the house intelligence committee had requested any applications for surveillance of trump or his associates made under the foreign intelligence surveillance act. obama has said the claim is baseless.',\n",
       " \"president trump's voter fraud investigation is off to a slow start\",\n",
       " \"march 11, 2017  it's hard to find anyone involved in voting issues who's been approached to be on the vice president's task force  or at least to admit it.\",\n",
       " 'shots - health news',\n",
       " 'trump chooses dr. scott gottlieb to head food and drug administration',\n",
       " 'march 10, 2017  gottlieb is seen as a mainstream pick for an agency that oversees a quarter of the u.s. economy, including pharmaceuticals, medical devices, food, cosmetics and other areas of human and animal health.',\n",
       " 'white house cheers numbers on jobs, border crossings',\n",
       " 'march 10, 2017  the trump administration got some encouraging signals this week: an employment report shows solid job growth, while illegal border crossings fell sharply.',\n",
       " 'the two-way',\n",
       " 'u.s. ethics official to white house: no, these rules definitely apply to you',\n",
       " \"march 9, 2017  after kellyanne conway urged shoppers to buy ivanka trump's fashion line, the office of government ethics urged punishment. the white house says the agency's rules don't apply to its workers.\",\n",
       " 'the salt',\n",
       " 'falling stars: negative yelp reviews target trump restaurants, hotels',\n",
       " 'march 10, 2017  now that donald trump is president, online reviews of his hotels, restaurants and other properties have become much more politicized. but his presidency may help offset negatives for the trump brand.',\n",
       " 'the salt',\n",
       " \"trump adviser's warning about food supply takeover met with skepticism\",\n",
       " 'march 10, 2017  peter navarro, top trade adviser to the president, worries that foreign takeovers of u.s. food and defense companies could make america less secure. but economists see no signs of that happening.',\n",
       " \"trump won big in house conservatives' districts  will they defy him on health care?\",\n",
       " \"march 8, 2017  members of the house freedom caucus and their allies are rebuking the republican leadership's health care bill, but many of their constituents voted for president trump. can the lawmakers be swayed?\",\n",
       " 'the salt',\n",
       " \"d.c. restaurant sues trump, claiming 'unfair' competition\",\n",
       " 'march 9, 2017  the owners of a washington wine bar say president trump is unfairly harming local restaurants by promoting his own nearby place: the trump international hotel. they want trump to divest or close it.',\n",
       " 'a conspiracy a month? trump calls for 2 investigations  with no evidence',\n",
       " \"march 8, 2017  as president, trump's called for  with no evidence  investigations into alleged wiretapping by obama and some 3 million to 5 million people he believes voted illegally.\",\n",
       " 'the two-way',\n",
       " 'u.s. ethics official to white house: no, these rules definitely apply to you',\n",
       " \"march 9, 2017  after kellyanne conway urged shoppers to buy ivanka trump's fashion line, the office of government ethics urged punishment. the white house says the agency's rules don't apply to its workers.\",\n",
       " 'can white house bowling heal gop divisions and spare the health care bill?',\n",
       " 'march 13, 2017  president trump has been in \"sell mode\" on the health care bill, and he has invited conservative gop members of congress over to the white house bowling alley this week.',\n",
       " \"president trump's voter fraud investigation is off to a slow start\",\n",
       " \"march 11, 2017  it's hard to find anyone involved in voting issues who's been approached to be on the vice president's task force  or at least to admit it.\",\n",
       " 'the salt',\n",
       " 'falling stars: negative yelp reviews target trump restaurants, hotels',\n",
       " 'march 10, 2017  now that donald trump is president, online reviews of his hotels, restaurants and other properties have become much more politicized. but his presidency may help offset negatives for the trump brand.',\n",
       " 'the salt',\n",
       " \"trump adviser's warning about food supply takeover met with skepticism\",\n",
       " 'march 10, 2017  peter navarro, top trade adviser to the president, worries that foreign takeovers of u.s. food and defense companies could make america less secure. but economists see no signs of that happening.',\n",
       " \"trump won big in house conservatives' districts  will they defy him on health care?\",\n",
       " \"march 8, 2017  members of the house freedom caucus and their allies are rebuking the republican leadership's health care bill, but many of their constituents voted for president trump. can the lawmakers be swayed?\",\n",
       " 'the salt',\n",
       " \"d.c. restaurant sues trump, claiming 'unfair' competition\",\n",
       " 'march 9, 2017  the owners of a washington wine bar say president trump is unfairly harming local restaurants by promoting his own nearby place: the trump international hotel. they want trump to divest or close it.',\n",
       " 'a conspiracy a month? trump calls for 2 investigations  with no evidence',\n",
       " \"march 8, 2017  as president, trump's called for  with no evidence  investigations into alleged wiretapping by obama and some 3 million to 5 million people he believes voted illegally.\"]"
      ]
     },
     "execution_count": 13,
     "metadata": {},
     "output_type": "execute_result"
    }
   ],
   "source": [
    "title_names"
   ]
  },
  {
   "cell_type": "code",
   "execution_count": 14,
   "metadata": {
    "collapsed": false
   },
   "outputs": [
    {
     "data": {
      "text/plain": [
       "336"
      ]
     },
     "execution_count": 14,
     "metadata": {},
     "output_type": "execute_result"
    }
   ],
   "source": [
    "len(title_names)"
   ]
  },
  {
   "cell_type": "code",
   "execution_count": null,
   "metadata": {
    "collapsed": true
   },
   "outputs": [],
   "source": []
  }
 ],
 "metadata": {
  "anaconda-cloud": {},
  "kernelspec": {
   "display_name": "Python [default]",
   "language": "python",
   "name": "python2"
  },
  "language_info": {
   "codemirror_mode": {
    "name": "ipython",
    "version": 2
   },
   "file_extension": ".py",
   "mimetype": "text/x-python",
   "name": "python",
   "nbconvert_exporter": "python",
   "pygments_lexer": "ipython2",
   "version": "2.7.12"
  }
 },
 "nbformat": 4,
 "nbformat_minor": 1
}
