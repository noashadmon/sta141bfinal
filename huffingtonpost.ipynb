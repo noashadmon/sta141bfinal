{
 "cells": [
  {
   "cell_type": "code",
   "execution_count": 103,
   "metadata": {
    "collapsed": false
   },
   "outputs": [
    {
     "name": "stdout",
     "output_type": "stream",
     "text": [
      "Once deleted, variables cannot be recovered. Proceed (y/[n])? y\n"
     ]
    }
   ],
   "source": [
    "%reset\n",
    "from urllib2 import Request, urlopen\n",
    "from urlparse import urlparse, urlunparse\n",
    "import requests, requests_cache\n",
    "import pandas as pd\n",
    "import json\n",
    "from matplotlib import pyplot as plt\n",
    "plt.style.use('ggplot')\n",
    "from bs4 import BeautifulSoup\n",
    "import re\n"
   ]
  },
  {
   "cell_type": "code",
   "execution_count": 116,
   "metadata": {
    "collapsed": false
   },
   "outputs": [],
   "source": [
    "def extract_titles(url, num_page = '1'):\n",
    "    titles = pd.DataFrame()\n",
    "    \n",
    "    while (num_page != '0') :\n",
    "        if (num_page != '1'):\n",
    "            url_final = url + \"?page=\" + num_page\n",
    "            #print url_final\n",
    "        else:\n",
    "            url_final = url\n",
    "\n",
    "        r  = requests.get(url_final)\n",
    "        data = r.text\n",
    "        soup = BeautifulSoup(data)\n",
    "    \n",
    "        all_titles = soup.findAll('h2')\n",
    "    \n",
    "        for i in range(0, len(all_titles)):\n",
    "            title = all_titles[i].getText()\n",
    "            title = title.replace(\"\\n\", \"\")\n",
    "            titles = titles.append({'Title': title}, ignore_index = True)\n",
    "\n",
    "        num_page = str(int(num_page) - 1)\n",
    "    \n",
    "    return titles\n",
    "\n"
   ]
  }
 ],
 "metadata": {
  "anaconda-cloud": {},
  "kernelspec": {
   "display_name": "Python [default]",
   "language": "python",
   "name": "python2"
  },
  "language_info": {
   "codemirror_mode": {
    "name": "ipython",
    "version": 2
   },
   "file_extension": ".py",
   "mimetype": "text/x-python",
   "name": "python",
   "nbconvert_exporter": "python",
   "pygments_lexer": "ipython2",
   "version": "2.7.12"
  }
 },
 "nbformat": 4,
 "nbformat_minor": 1
}
