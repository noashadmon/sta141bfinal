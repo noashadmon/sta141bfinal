{
 "cells": [
  {
   "cell_type": "code",
   "execution_count": 36,
   "metadata": {
    "collapsed": true
   },
   "outputs": [],
   "source": [
    "import requests\n",
    "from bs4 import BeautifulSoup\n",
    "import lxml\n",
    "import lxml.html as lx\n",
    "import requests_cache\n",
    "import pandas as pd\n",
    "import time"
   ]
  },
  {
   "cell_type": "code",
   "execution_count": 2,
   "metadata": {
    "collapsed": true
   },
   "outputs": [],
   "source": [
    "requests_cache.install_cache('proj_cache')"
   ]
  },
  {
   "cell_type": "markdown",
   "metadata": {},
   "source": [
    "<h1>Fox Politics Article Titles Extraction</h1>"
   ]
  },
  {
   "cell_type": "code",
   "execution_count": 42,
   "metadata": {
    "collapsed": false,
    "scrolled": true
   },
   "outputs": [],
   "source": [
    "def fox_politics_titles(url):\n",
    "    foxreq = requests.get(url)\n",
    "    fox_bs = BeautifulSoup(foxreq.text,'lxml')\n",
    "    h3_content = fox_bs.select(\"div h3\")\n",
    "    title_names = [x.text.strip().translate({ 0x2018:0x27, 0x2019:0x27, 0x201C:0x22, 0x201D:0x22, 0x2026:0x20 }).encode('ascii','ignore') for x in h3_content]\n",
    "    title_names = set(title_names)\n",
    "    return title_names"
   ]
  },
  {
   "cell_type": "code",
   "execution_count": 9,
   "metadata": {
    "collapsed": true
   },
   "outputs": [],
   "source": [
    "url = \"http://www.foxnews.com/politics.html\""
   ]
  },
  {
   "cell_type": "code",
   "execution_count": 43,
   "metadata": {
    "collapsed": false
   },
   "outputs": [],
   "source": [
    "title_names = fox_politics_titles(url)\n",
    "fox_politics = open(\"All Fox News Titles.txt\", \"a\")\n",
    "for x in title_names:\n",
    "    fox_politics.write(x + '\\n')\n",
    "fox_politics.close()"
   ]
  },
  {
   "cell_type": "markdown",
   "metadata": {},
   "source": [
    "<h1>Fox Opinion Article Titles Extraction</h1>"
   ]
  },
  {
   "cell_type": "code",
   "execution_count": 50,
   "metadata": {
    "collapsed": false
   },
   "outputs": [],
   "source": [
    "def fox_opinion_titles(url):\n",
    "    foxreq = requests.get(url)\n",
    "    fox_bs = BeautifulSoup(foxreq.text,'lxml')\n",
    "    articles = fox_bs.select(\"div article h1\")\n",
    "    article_titles = [x.a.text.strip().translate({ 0x2018:0x27, 0x2019:0x27, 0x201C:0x22, 0x201D:0x22, 0x2026:0x20 }).encode('ascii','ignore') for x in articles]\n",
    "    article_titles = set(article_titles)\n",
    "    return article_titles"
   ]
  },
  {
   "cell_type": "code",
   "execution_count": 51,
   "metadata": {
    "collapsed": true
   },
   "outputs": [],
   "source": [
    "url = \"http://www.foxnews.com/opinion.html\""
   ]
  },
  {
   "cell_type": "code",
   "execution_count": 52,
   "metadata": {
    "collapsed": true
   },
   "outputs": [],
   "source": [
    "title_names = fox_opinion_titles(url)\n",
    "fox_opinions = open(\"All Fox News Titles.txt\", \"a\")\n",
    "for x in title_names:\n",
    "    fox_opinions.write(x + '\\n')\n",
    "fox_opinions.close()"
   ]
  }
 ],
 "metadata": {
  "anaconda-cloud": {},
  "kernelspec": {
   "display_name": "Python [default]",
   "language": "python",
   "name": "python2"
  },
  "language_info": {
   "codemirror_mode": {
    "name": "ipython",
    "version": 2
   },
   "file_extension": ".py",
   "mimetype": "text/x-python",
   "name": "python",
   "nbconvert_exporter": "python",
   "pygments_lexer": "ipython2",
   "version": "2.7.12"
  }
 },
 "nbformat": 4,
 "nbformat_minor": 1
}
