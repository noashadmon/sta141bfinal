{
 "cells": [
  {
   "cell_type": "code",
   "execution_count": 1,
   "metadata": {
    "collapsed": false
   },
   "outputs": [],
   "source": [
    "import requests\n",
    "from bs4 import BeautifulSoup\n",
    "import lxml\n",
    "import lxml.html as lx\n",
    "#import requests_cache\n",
    "import pandas as pd"
   ]
  },
  {
   "cell_type": "markdown",
   "metadata": {},
   "source": [
    "<h1>Fox Politics Article Titles Extraction</h1>"
   ]
  },
  {
   "cell_type": "code",
   "execution_count": 23,
   "metadata": {
    "collapsed": false,
    "scrolled": true
   },
   "outputs": [],
   "source": [
    "def fox_politics_titles(url):\n",
    "    foxreq = requests.get(url)\n",
    "    fox_bs = BeautifulSoup(foxreq.text,'lxml')\n",
    "    h3_content = fox_bs.select(\"div h3\")\n",
    "    title_names = [x.text.strip().translate({ 0x2018:0x27, 0x2019:0x27, 0x201C:0x22, 0x201D:0x22, 0x2026:0x20 }).encode('ascii','ignore') for x in h3_content]\n",
    "    title_names = set(title_names)\n",
    "    return title_names"
   ]
  },
  {
   "cell_type": "code",
   "execution_count": 2,
   "metadata": {
    "collapsed": true
   },
   "outputs": [],
   "source": [
    "url = \"http://www.foxnews.com/politics.html\""
   ]
  },
  {
   "cell_type": "code",
   "execution_count": 4,
   "metadata": {
    "collapsed": false
   },
   "outputs": [],
   "source": [
    "title_names = fox_politics_titles(url)\n",
    "fox_politics = open(\"All Fox News Titles.txt\", \"a\")\n",
    "\n",
    "for x in title_names:\n",
    "    fox_politics.write(x + '\\n')\n",
    "fox_politics.close()"
   ]
  },
  {
   "cell_type": "markdown",
   "metadata": {},
   "source": [
    "<h1>Fox Opinion Article Titles Extraction</h1>"
   ]
  },
  {
   "cell_type": "code",
   "execution_count": 15,
   "metadata": {
    "collapsed": false
   },
   "outputs": [],
   "source": [
    "def fox_opinion_titles(url):\n",
    "    foxreq = requests.get(url)\n",
    "    fox_bs = BeautifulSoup(foxreq.text,'lxml')\n",
    "    articles = fox_bs.select(\"div article h1\")\n",
    "    article_titles = [x.a.text.strip().translate({ 0x2018:0x27, 0x2019:0x27, 0x201C:0x22, 0x201D:0x22, 0x2026:0x20 }).encode('ascii','ignore') for x in articles]\n",
    "    article_titles = set(article_titles)\n",
    "    return article_titles"
   ]
  },
  {
   "cell_type": "code",
   "execution_count": 5,
   "metadata": {
    "collapsed": true
   },
   "outputs": [],
   "source": [
    "url = \"http://www.foxnews.com/opinion.html\""
   ]
  },
  {
   "cell_type": "code",
   "execution_count": 7,
   "metadata": {
    "collapsed": true
   },
   "outputs": [],
   "source": [
    "fox_opinions = open(\"All Fox News Titles.txt\", \"a\")\n",
    "for x in article_titles:\n",
    "    fox_opinions.write(x + '\\n')\n",
    "fox_opinions.close()"
   ]
  },
  {
   "cell_type": "markdown",
   "metadata": {},
   "source": [
    "<h1>Filter Fox News Titles</h1>"
   ]
  },
  {
   "cell_type": "code",
   "execution_count": 11,
   "metadata": {
    "collapsed": false
   },
   "outputs": [],
   "source": [
    "title_names = []\n",
    "text_file = open(\"All Fox News Titles.txt\",\"r\")\n",
    "for line in text_file:\n",
    "    line = line.strip()\n",
    "    title_names.append(line)"
   ]
  },
  {
   "cell_type": "code",
   "execution_count": 12,
   "metadata": {
    "collapsed": false
   },
   "outputs": [],
   "source": [
    "trumps_admin = ['White House','Trump','Conway','Sessions','Pence','President','Tillerson','Devos','Flynn','Kushner','Carson','Department','Preibus','Bannon','Spicer','Miller']\n",
    "total_titles = []\n",
    "for admin in trumps_admin:\n",
    "    titles = [x for x in title_names if admin in x]\n",
    "    total_titles.extend(titles)\n",
    "total_titles = sorted(set(total_titles))"
   ]
  },
  {
   "cell_type": "code",
   "execution_count": 13,
   "metadata": {
    "collapsed": false
   },
   "outputs": [
    {
     "data": {
      "text/plain": [
       "213"
      ]
     },
     "execution_count": 13,
     "metadata": {},
     "output_type": "execute_result"
    }
   ],
   "source": [
    "len(total_titles)"
   ]
  },
  {
   "cell_type": "code",
   "execution_count": null,
   "metadata": {
    "collapsed": true
   },
   "outputs": [],
   "source": [
    "filtered_fox = open(\"Filtered Fox Article Titles.txt\", \"a\")\n",
    "for x in total_titles:\n",
    "    filtered_fox.write(x + '\\n')\n",
    "filtered_fox.close()"
   ]
  }
 ],
 "metadata": {
  "anaconda-cloud": {},
  "kernelspec": {
   "display_name": "Python [default]",
   "language": "python",
   "name": "python2"
  },
  "language_info": {
   "codemirror_mode": {
    "name": "ipython",
    "version": 2
   },
   "file_extension": ".py",
   "mimetype": "text/x-python",
   "name": "python",
   "nbconvert_exporter": "python",
   "pygments_lexer": "ipython2",
   "version": "2.7.12"
  }
 },
 "nbformat": 4,
 "nbformat_minor": 1
}
