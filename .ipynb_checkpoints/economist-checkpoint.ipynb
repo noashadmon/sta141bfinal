{
 "cells": [
  {
   "cell_type": "code",
   "execution_count": 1,
   "metadata": {
    "collapsed": true
   },
   "outputs": [],
   "source": [
    "import requests\n",
    "#import requests_ftp\n",
    "import requests_cache\n",
    "import lxml\n",
    "import urllib2\n",
    "from bs4 import BeautifulSoup\n",
    "from collections import Counter\n",
    "from matplotlib import pyplot as plt\n",
    "import pandas as pd\n",
    "plt.style.use('ggplot')\n",
    "#requests_cache.install_cache('coll_cache')\n",
    "%matplotlib inline"
   ]
  },
  {
   "cell_type": "code",
   "execution_count": 2,
   "metadata": {
    "collapsed": true
   },
   "outputs": [],
   "source": [
    "climreq = requests.get(\"http://www.economist.com/sections/united-states\")\n",
    "climhtml = climreq.text\n",
    "clim = BeautifulSoup(climhtml, \"lxml\")\n",
    "links = clim.find_all('span', {'class': ['flytitle-and-title__title']}) #, {'class': ['story-heading']})"
   ]
  },
  {
   "cell_type": "code",
   "execution_count": 3,
   "metadata": {
    "collapsed": false
   },
   "outputs": [
    {
     "data": {
      "text/plain": [
       "[<span class=\"flytitle-and-title__title\" data-reactid=\"364\">WikiLeaks embarrasses the CIA</span>,\n",
       " <span class=\"flytitle-and-title__title\" data-reactid=\"386\">Middlebury College and the generational clash within liberalism</span>,\n",
       " <span class=\"flytitle-and-title__title\" data-reactid=\"411\">Amending Obamacare could break parts of the health-insurance market</span>,\n",
       " <span class=\"flytitle-and-title__title\" data-reactid=\"433\">Conflict-of-interest allegations may not damage Donald Trump</span>,\n",
       " <span class=\"flytitle-and-title__title\" data-reactid=\"452\">Donald Trump\\u2019s habit of making accusations without evidence is corrosive</span>,\n",
       " <span class=\"flytitle-and-title__title\" data-reactid=\"477\">Donald Trump\\u2019s revised travel ban may face trouble in court</span>,\n",
       " <span class=\"flytitle-and-title__title\" data-reactid=\"499\">The travel ban, version two</span>,\n",
       " <span class=\"flytitle-and-title__title\" data-reactid=\"515\">How to fight guns and gangs in Chicago</span>,\n",
       " <span class=\"flytitle-and-title__title\" data-reactid=\"540\">The NRA-ification of American politics</span>,\n",
       " <span class=\"flytitle-and-title__title\" data-reactid=\"562\">Why the Supreme Court has decided not to hear a transgender rights case </span>,\n",
       " <span class=\"flytitle-and-title__title\" data-reactid=\"581\">The Economist seeks a social media writer in the United States</span>,\n",
       " <span class=\"flytitle-and-title__title\" data-reactid=\"600\">Donald Trump\\u2019s revised travel ban may not satisfy the courts</span>,\n",
       " <span class=\"flytitle-and-title__title\" data-reactid=\"619\">Making sense of Donald Trump\\u2019s unsubstantiated accusations against his predecessor</span>,\n",
       " <span class=\"flytitle-and-title__title\" data-reactid=\"638\">The White House proposes eye-watering budget cuts</span>]"
      ]
     },
     "execution_count": 3,
     "metadata": {},
     "output_type": "execute_result"
    }
   ],
   "source": [
    "links"
   ]
  },
  {
   "cell_type": "code",
   "execution_count": 4,
   "metadata": {
    "collapsed": true
   },
   "outputs": [],
   "source": [
    "links = [val for sublist in links for val in sublist]"
   ]
  },
  {
   "cell_type": "code",
   "execution_count": 5,
   "metadata": {
    "collapsed": false
   },
   "outputs": [
    {
     "data": {
      "text/plain": [
       "'WikiLeaks embarrasses the CIA'"
      ]
     },
     "execution_count": 5,
     "metadata": {},
     "output_type": "execute_result"
    }
   ],
   "source": [
    "links[0].encode('ascii', 'ignore')"
   ]
  },
  {
   "cell_type": "code",
   "execution_count": 6,
   "metadata": {
    "collapsed": false
   },
   "outputs": [],
   "source": [
    "l = []\n",
    "for i in range(0,len(links)):\n",
    "    try:\n",
    "        l.append((links[i].encode('ascii','ignore')))\n",
    "        #l = l.translate({ 0x2018:0x27, 0x2019:0x27, 0x201C:0x22, 0x201D:0x22, 0x2026:0x20 })\n",
    "    except:\n",
    "        continue\n",
    "links = map(lambda s: s.strip(), l)\n",
    "links = map(lambda s: s.encode(\"utf-8\"), links)"
   ]
  },
  {
   "cell_type": "code",
   "execution_count": 7,
   "metadata": {
    "collapsed": false
   },
   "outputs": [
    {
     "data": {
      "text/plain": [
       "['WikiLeaks embarrasses the CIA',\n",
       " 'Middlebury College and the generational clash within liberalism',\n",
       " 'Amending Obamacare could break parts of the health-insurance market',\n",
       " 'Conflict-of-interest allegations may not damage Donald Trump',\n",
       " 'Donald Trumps habit of making accusations without evidence is corrosive',\n",
       " 'Donald Trumps revised travel ban may face trouble in court',\n",
       " 'The travel ban, version two',\n",
       " 'How to fight guns and gangs in Chicago',\n",
       " 'The NRA-ification of American politics',\n",
       " 'Why the Supreme Court has decided not to hear a transgender rights case',\n",
       " 'The Economist seeks a social media writer in the United States',\n",
       " 'Donald Trumps revised travel ban may not satisfy the courts',\n",
       " 'Making sense of Donald Trumps unsubstantiated accusations against his predecessor',\n",
       " 'The White House proposes eye-watering budget cuts']"
      ]
     },
     "execution_count": 7,
     "metadata": {},
     "output_type": "execute_result"
    }
   ],
   "source": [
    "links"
   ]
  },
  {
   "cell_type": "code",
   "execution_count": 8,
   "metadata": {
    "collapsed": true
   },
   "outputs": [],
   "source": [
    "trumps_admin = ['whitehouse','trump','conway','sessions','pence','president','tillerson','devos','flynn','kushner','carson','department','preibus','bannon','spicer','miller']"
   ]
  },
  {
   "cell_type": "code",
   "execution_count": 9,
   "metadata": {
    "collapsed": true
   },
   "outputs": [],
   "source": [
    "links = [x.lower() for x in links]"
   ]
  },
  {
   "cell_type": "code",
   "execution_count": 10,
   "metadata": {
    "collapsed": false
   },
   "outputs": [
    {
     "data": {
      "text/plain": [
       "['conflicts of interest allegations may not damage donald trump',\n",
       " 'donald trumps habit of making accusations without evidence is corrosive',\n",
       " 'donald trumps revised travel ban may face trouble in court',\n",
       " 'donald trumps revised travel ban may not satisfy the courts',\n",
       " 'making sense of donald trumps unsubstantiated accusations against his predecessor']"
      ]
     },
     "execution_count": 10,
     "metadata": {},
     "output_type": "execute_result"
    }
   ],
   "source": [
    "total_titles = []\n",
    "for admin in trumps_admin:\n",
    "    titles = [x for x in links if admin in x]\n",
    "    total_titles.extend(titles)\n",
    "total_titles"
   ]
  },
  {
   "cell_type": "code",
   "execution_count": 11,
   "metadata": {
    "collapsed": true
   },
   "outputs": [],
   "source": [
    "title_file = open(\"economist.txt\", \"a\")"
   ]
  },
  {
   "cell_type": "code",
   "execution_count": 12,
   "metadata": {
    "collapsed": true
   },
   "outputs": [],
   "source": [
    "for i in range(0, len(total_titles)):\n",
    "    temp = total_titles[i]\n",
    "    title_file.write(temp + '\\n')"
   ]
  },
  {
   "cell_type": "code",
   "execution_count": 13,
   "metadata": {
    "collapsed": true
   },
   "outputs": [],
   "source": [
    "title_names = []\n",
    "title_file = open(\"economist.txt\",\"r\")\n",
    "for line in title_file:\n",
    "    line = line.strip()\n",
    "    title_names.append(line)\n",
    "title_file.close()"
   ]
  },
  {
   "cell_type": "code",
   "execution_count": 14,
   "metadata": {
    "collapsed": false
   },
   "outputs": [
    {
     "data": {
      "text/plain": [
       "['donald trumps revised travel ban may not satisfy the courts',\n",
       " 'making sense of donald trumps unsubstantiated accusations against his predecessor',\n",
       " 'donald trumps latest russia scandal',\n",
       " 'donald trumps military budget plan is less impressive than he claims',\n",
       " 'donald trump sounds more presidential, yet stays a populist',\n",
       " 'why do most americans seem sure that the president is keeping his promises',\n",
       " 'donald trump sounds more presidential, yet stays a populist',\n",
       " 'conflicts of interest allegations may not damage donald trump',\n",
       " 'donald trumps habit of making accusations without evidence is corrosive',\n",
       " 'donald trumps revised travel ban may face trouble in court',\n",
       " 'donald trumps revised travel ban may not satisfy the courts',\n",
       " 'making sense of donald trumps unsubstantiated accusations against his predecessor']"
      ]
     },
     "execution_count": 14,
     "metadata": {},
     "output_type": "execute_result"
    }
   ],
   "source": [
    "title_names"
   ]
  },
  {
   "cell_type": "code",
   "execution_count": null,
   "metadata": {
    "collapsed": true
   },
   "outputs": [],
   "source": []
  }
 ],
 "metadata": {
  "anaconda-cloud": {},
  "kernelspec": {
   "display_name": "Python [default]",
   "language": "python",
   "name": "python2"
  },
  "language_info": {
   "codemirror_mode": {
    "name": "ipython",
    "version": 2
   },
   "file_extension": ".py",
   "mimetype": "text/x-python",
   "name": "python",
   "nbconvert_exporter": "python",
   "pygments_lexer": "ipython2",
   "version": "2.7.12"
  }
 },
 "nbformat": 4,
 "nbformat_minor": 1
}
