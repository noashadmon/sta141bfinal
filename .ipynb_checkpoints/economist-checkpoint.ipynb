{
 "cells": [
  {
   "cell_type": "code",
   "execution_count": 1,
   "metadata": {
    "collapsed": true
   },
   "outputs": [],
   "source": [
    "import requests\n",
    "#import requests_ftp\n",
    "import requests_cache\n",
    "import lxml\n",
    "import urllib2\n",
    "from bs4 import BeautifulSoup\n",
    "from collections import Counter\n",
    "from matplotlib import pyplot as plt\n",
    "import pandas as pd\n",
    "plt.style.use('ggplot')\n",
    "#requests_cache.install_cache('coll_cache')\n",
    "%matplotlib inline"
   ]
  },
  {
   "cell_type": "code",
   "execution_count": 2,
   "metadata": {
    "collapsed": true
   },
   "outputs": [],
   "source": [
    "climreq = requests.get(\"http://www.economist.com/sections/united-states\")\n",
    "climhtml = climreq.text\n",
    "clim = BeautifulSoup(climhtml, \"lxml\")\n",
    "links = clim.find_all('span', {'class': ['flytitle-and-title__title']}) #, {'class': ['story-heading']})"
   ]
  },
  {
   "cell_type": "code",
   "execution_count": 3,
   "metadata": {
    "collapsed": false
   },
   "outputs": [
    {
     "data": {
      "text/plain": [
       "[<span class=\"flytitle-and-title__title\" data-reactid=\"364\">The agency that accounts for missing American servicemen</span>,\n",
       " <span class=\"flytitle-and-title__title\" data-reactid=\"386\">What the president\\u2019s spending plans reveal</span>,\n",
       " <span class=\"flytitle-and-title__title\" data-reactid=\"408\">The president is making it easier to order lethal drone strikes</span>,\n",
       " <span class=\"flytitle-and-title__title\" data-reactid=\"430\">Prison labour is a billion-dollar industry, with uncertain returns for inmates</span>,\n",
       " <span class=\"flytitle-and-title__title\" data-reactid=\"452\">How Chuck\\u2019s became a symbol of what\\u2019s wrong with America\\u2019s gun laws</span>,\n",
       " <span class=\"flytitle-and-title__title\" data-reactid=\"477\">Donald Trump has not faced a challenge like fixing American health care before</span>,\n",
       " <span class=\"flytitle-and-title__title\" data-reactid=\"499\">Warfare helps explain why American welfare is different</span>,\n",
       " <span class=\"flytitle-and-title__title\" data-reactid=\"521\">A judge blocks Donald Trump\\u2019s revised travel ban</span>,\n",
       " <span class=\"flytitle-and-title__title\" data-reactid=\"543\">Why the Trump administration may find it hard to slash overseas aid </span>,\n",
       " <span class=\"flytitle-and-title__title\" data-reactid=\"562\">Donald Trump\\u2019s new travel ban faces a trio of lawsuits</span>,\n",
       " <span class=\"flytitle-and-title__title\" data-reactid=\"581\">Why did Donald Trump sack Preet Bharara after saying he could keep his job?</span>,\n",
       " <span class=\"flytitle-and-title__title\" data-reactid=\"600\">WikiLeaks embarrasses the CIA</span>,\n",
       " <span class=\"flytitle-and-title__title\" data-reactid=\"622\">Middlebury College and the generational clash within liberalism</span>,\n",
       " <span class=\"flytitle-and-title__title\" data-reactid=\"644\">Amending Obamacare could break parts of the health-insurance market</span>]"
      ]
     },
     "execution_count": 3,
     "metadata": {},
     "output_type": "execute_result"
    }
   ],
   "source": [
    "links"
   ]
  },
  {
   "cell_type": "code",
   "execution_count": 4,
   "metadata": {
    "collapsed": true
   },
   "outputs": [],
   "source": [
    "links = [val for sublist in links for val in sublist]"
   ]
  },
  {
   "cell_type": "code",
   "execution_count": 5,
   "metadata": {
    "collapsed": false
   },
   "outputs": [
    {
     "data": {
      "text/plain": [
       "'The agency that accounts for missing American servicemen'"
      ]
     },
     "execution_count": 5,
     "metadata": {},
     "output_type": "execute_result"
    }
   ],
   "source": [
    "links[0].encode('ascii', 'ignore')"
   ]
  },
  {
   "cell_type": "code",
   "execution_count": 6,
   "metadata": {
    "collapsed": false
   },
   "outputs": [],
   "source": [
    "l = []\n",
    "for i in range(0,len(links)):\n",
    "    try:\n",
    "        l.append((links[i].encode('ascii','ignore')))\n",
    "        #l = l.translate({ 0x2018:0x27, 0x2019:0x27, 0x201C:0x22, 0x201D:0x22, 0x2026:0x20 })\n",
    "    except:\n",
    "        continue\n",
    "links = map(lambda s: s.strip(), l)\n",
    "links = map(lambda s: s.encode(\"utf-8\"), links)"
   ]
  },
  {
   "cell_type": "code",
   "execution_count": 7,
   "metadata": {
    "collapsed": false
   },
   "outputs": [
    {
     "data": {
      "text/plain": [
       "['The agency that accounts for missing American servicemen',\n",
       " 'What the presidents spending plans reveal',\n",
       " 'The president is making it easier to order lethal drone strikes',\n",
       " 'Prison labour is a billion-dollar industry, with uncertain returns for inmates',\n",
       " 'How Chucks became a symbol of whats wrong with Americas gun laws',\n",
       " 'Donald Trump has not faced a challenge like fixing American health care before',\n",
       " 'Warfare helps explain why American welfare is different',\n",
       " 'A judge blocks Donald Trumps revised travel ban',\n",
       " 'Why the Trump administration may find it hard to slash overseas aid',\n",
       " 'Donald Trumps new travel ban faces a trio of lawsuits',\n",
       " 'Why did Donald Trump sack Preet Bharara after saying he could keep his job?',\n",
       " 'WikiLeaks embarrasses the CIA',\n",
       " 'Middlebury College and the generational clash within liberalism',\n",
       " 'Amending Obamacare could break parts of the health-insurance market']"
      ]
     },
     "execution_count": 7,
     "metadata": {},
     "output_type": "execute_result"
    }
   ],
   "source": [
    "links"
   ]
  },
  {
   "cell_type": "code",
   "execution_count": 8,
   "metadata": {
    "collapsed": true
   },
   "outputs": [],
   "source": [
    "trumps_admin = ['whitehouse','trump','conway','sessions','pence','president','tillerson','devos','flynn','kushner','carson','department','preibus','bannon','spicer','miller']"
   ]
  },
  {
   "cell_type": "code",
   "execution_count": 9,
   "metadata": {
    "collapsed": true
   },
   "outputs": [],
   "source": [
    "links = [x.lower() for x in links]"
   ]
  },
  {
   "cell_type": "code",
   "execution_count": 10,
   "metadata": {
    "collapsed": false
   },
   "outputs": [
    {
     "data": {
      "text/plain": [
       "['donald trump has not faced a challenge like fixing american health care before',\n",
       " 'a judge blocks donald trumps revised travel ban',\n",
       " 'why the trump administration may find it hard to slash overseas aid',\n",
       " 'donald trumps new travel ban faces a trio of lawsuits',\n",
       " 'why did donald trump sack preet bharara after saying he could keep his job?',\n",
       " 'what the presidents spending plans reveal',\n",
       " 'the president is making it easier to order lethal drone strikes']"
      ]
     },
     "execution_count": 10,
     "metadata": {},
     "output_type": "execute_result"
    }
   ],
   "source": [
    "total_titles = []\n",
    "for admin in trumps_admin:\n",
    "    titles = [x for x in links if admin in x]\n",
    "    total_titles.extend(titles)\n",
    "total_titles"
   ]
  },
  {
   "cell_type": "code",
   "execution_count": 11,
   "metadata": {
    "collapsed": true
   },
   "outputs": [],
   "source": [
    "title_file = open(\"economist.txt\", \"a\")"
   ]
  },
  {
   "cell_type": "code",
   "execution_count": 12,
   "metadata": {
    "collapsed": true
   },
   "outputs": [],
   "source": [
    "for i in range(0, len(total_titles)):\n",
    "    temp = total_titles[i]\n",
    "    title_file.write(temp + '\\n')"
   ]
  },
  {
   "cell_type": "code",
   "execution_count": 13,
   "metadata": {
    "collapsed": true
   },
   "outputs": [],
   "source": [
    "title_names = []\n",
    "title_file = open(\"economist.txt\",\"r\")\n",
    "for line in title_file:\n",
    "    line = line.strip()\n",
    "    title_names.append(line)\n",
    "title_file.close()"
   ]
  },
  {
   "cell_type": "code",
   "execution_count": 14,
   "metadata": {
    "collapsed": false
   },
   "outputs": [
    {
     "data": {
      "text/plain": [
       "['donald trumps revised travel ban may not satisfy the courts',\n",
       " 'making sense of donald trumps unsubstantiated accusations against his predecessor',\n",
       " 'donald trumps latest russia scandal',\n",
       " 'donald trumps military budget plan is less impressive than he claims',\n",
       " 'donald trump sounds more presidential, yet stays a populist',\n",
       " 'why do most americans seem sure that the president is keeping his promises',\n",
       " 'donald trump sounds more presidential, yet stays a populist',\n",
       " 'conflicts of interest allegations may not damage donald trump',\n",
       " 'donald trumps habit of making accusations without evidence is corrosive',\n",
       " 'donald trumps revised travel ban may face trouble in court',\n",
       " 'donald trumps revised travel ban may not satisfy the courts',\n",
       " 'making sense of donald trumps unsubstantiated accusations against his predecessor',\n",
       " 'why did donald trump sack preet bharara after saying he could keep his job?',\n",
       " 'conflict-of-interest allegations may not damage donald trump',\n",
       " 'donald trumps habit of making accusations without evidence is corrosive',\n",
       " 'donald trumps revised travel ban may face trouble in court',\n",
       " 'donald trumps revised travel ban may not satisfy the courts',\n",
       " 'making sense of donald trumps unsubstantiated accusations against his predecessor',\n",
       " 'donald trumps new travel ban faces a trio of lawsuits',\n",
       " 'why did donald trump sack preet bharara after saying he could keep his job?',\n",
       " 'conflict-of-interest allegations may not damage donald trump',\n",
       " 'donald trumps habit of making accusations without evidence is corrosive',\n",
       " 'donald trumps revised travel ban may face trouble in court',\n",
       " 'donald trumps revised travel ban may not satisfy the courts',\n",
       " 'why the trump administration may find it hard to slash overseas aid',\n",
       " 'donald trumps new travel ban faces a trio of lawsuits',\n",
       " 'why did donald trump sack preet bharara after saying he could keep his job?',\n",
       " 'conflict-of-interest allegations may not damage donald trump',\n",
       " 'donald trumps habit of making accusations without evidence is corrosive',\n",
       " 'donald trumps revised travel ban may face trouble in court',\n",
       " 'donald trump has not faced a challenge like fixing american health care before',\n",
       " 'a judge blocks donald trumps revised travel ban',\n",
       " 'why the trump administration may find it hard to slash overseas aid',\n",
       " 'donald trumps new travel ban faces a trio of lawsuits',\n",
       " 'why did donald trump sack preet bharara after saying he could keep his job?',\n",
       " 'what the presidents spending plans reveal',\n",
       " 'the president is making it easier to order lethal drone strikes']"
      ]
     },
     "execution_count": 14,
     "metadata": {},
     "output_type": "execute_result"
    }
   ],
   "source": [
    "title_names"
   ]
  },
  {
   "cell_type": "code",
   "execution_count": null,
   "metadata": {
    "collapsed": true
   },
   "outputs": [],
   "source": []
  }
 ],
 "metadata": {
  "anaconda-cloud": {},
  "kernelspec": {
   "display_name": "Python [default]",
   "language": "python",
   "name": "python2"
  },
  "language_info": {
   "codemirror_mode": {
    "name": "ipython",
    "version": 2
   },
   "file_extension": ".py",
   "mimetype": "text/x-python",
   "name": "python",
   "nbconvert_exporter": "python",
   "pygments_lexer": "ipython2",
   "version": "2.7.12"
  }
 },
 "nbformat": 4,
 "nbformat_minor": 1
}
