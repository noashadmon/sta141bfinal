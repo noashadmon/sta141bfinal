{
 "cells": [
  {
   "cell_type": "code",
   "execution_count": 1,
   "metadata": {
    "collapsed": true
   },
   "outputs": [],
   "source": [
    "import requests\n",
    "#import requests_ftp\n",
    "import requests_cache\n",
    "import lxml\n",
    "import urllib2\n",
    "from bs4 import BeautifulSoup\n",
    "from collections import Counter\n",
    "from matplotlib import pyplot as plt\n",
    "import pandas as pd\n",
    "plt.style.use('ggplot')\n",
    "#requests_cache.install_cache('coll_cache')\n",
    "%matplotlib inline"
   ]
  },
  {
   "cell_type": "code",
   "execution_count": 2,
   "metadata": {
    "collapsed": true
   },
   "outputs": [],
   "source": [
    "climreq = requests.get(\"https://www.wsj.com/news/politics\")\n",
    "climhtml = climreq.text\n",
    "clim = BeautifulSoup(climhtml, \"lxml\")\n",
    "links = clim.find_all('h3', {'class': ['wsj-headline']}) #, {'class': ['story-heading']})"
   ]
  },
  {
   "cell_type": "code",
   "execution_count": 3,
   "metadata": {
    "collapsed": false
   },
   "outputs": [
    {
     "data": {
      "text/plain": [
       "[<h3 class=\"wsj-headline dj-sg LEAD heading-9 locked\" data-reactid=\".1jeky9y2fb4.1.1.6.1.0.2.0.0.0.1\" itemprop=\"name\"><a class=\"wsj-headline-link\" data-reactid=\".1jeky9y2fb4.1.1.6.1.0.2.0.0.0.1.0\" href=\"https://www.wsj.com/articles/gop-chairman-of-house-intel-panel-i-don-t-think-there-was-an-actual-tap-of-trump-tower-1489593783\">House Lawmakers Reject Trump Wiretap Allegation</a></h3>,\n",
       " <h3 class=\"wsj-headline dj-sg heading-14 unlocked\" data-reactid=\".1jeky9y2fb4.1.1.6.1.0.2.0.0.0.2.0.1.1.$0.0\" itemprop=\"name\"><a class=\"wsj-headline-link\" data-reactid=\".1jeky9y2fb4.1.1.6.1.0.2.0.0.0.2.0.1.1.$0.0.0\" href=\"http://blogs.wsj.com/washwire/2017/03/15/qa-what-are-the-three-prongs-in-gops-obamacare-repeal-and-replace-effort/\">Q&amp;A: What Are the \\u2018Three Prongs\\u2019 in GOP\\u2019s Obamacare Repeal-and-Replace Effort?</a></h3>,\n",
       " <h3 class=\"wsj-headline dj-sg heading-14 unlocked\" data-reactid=\".1jeky9y2fb4.1.1.6.1.0.2.0.0.0.2.0.1.1.$1.0\" itemprop=\"name\"><a class=\"wsj-headline-link\" data-reactid=\".1jeky9y2fb4.1.1.6.1.0.2.0.0.0.2.0.1.1.$1.0.0\" href=\"http://www.wsj.com/graphics/american-health-care-costs/\">The High Cost of Health Care in America</a></h3>,\n",
       " <h3 class=\"wsj-headline dj-sg heading-14 locked\" data-reactid=\".1jeky9y2fb4.1.1.6.1.0.2.0.0.0.2.0.1.1.$2.0\" itemprop=\"name\"><a class=\"wsj-headline-link\" data-reactid=\".1jeky9y2fb4.1.1.6.1.0.2.0.0.0.2.0.1.1.$2.0.0\" href=\"https://www.wsj.com/articles/gop-health-bill-will-lower-premiums-for-some-cbo-says-1489524066\">Young People to Pay Less Under GOP Health Plan, CBO Says</a></h3>,\n",
       " <h3 class=\"wsj-headline dj-sg heading-14 locked\" data-reactid=\".1jeky9y2fb4.1.1.6.1.0.2.0.0.0.2.0.1.1.$3.0\" itemprop=\"name\"><a class=\"wsj-headline-link\" data-reactid=\".1jeky9y2fb4.1.1.6.1.0.2.0.0.0.2.0.1.1.$3.0.0\" href=\"https://www.wsj.com/articles/after-cbo-report-democrats-see-an-opening-on-health-care-1489521476\">After CBO Report, Democrats See Opening on Health Care</a></h3>,\n",
       " <h3 class=\"wsj-headline dj-sg heading-14 unlocked\" data-reactid=\".1jeky9y2fb4.1.1.6.1.0.2.0.0.0.2.0.1.1.$4.0\" itemprop=\"name\"><a class=\"wsj-headline-link\" data-reactid=\".1jeky9y2fb4.1.1.6.1.0.2.0.0.0.2.0.1.1.$4.0.0\" href=\"http://blogs.wsj.com/washwire/2017/03/14/where-donald-trumps-health-care-promises-stand-now/\">Where Donald Trump\\u2019s Health-Care Promises Stand Now</a></h3>,\n",
       " <h3 class=\"wsj-headline dj-sg wsj-card-feature heading-3 locked\" data-reactid=\".1jeky9y2fb4.1.1.6.1.0.2.0.0.0.3.0.$1.1\" itemprop=\"name\"><a class=\"wsj-headline-link\" data-reactid=\".1jeky9y2fb4.1.1.6.1.0.2.0.0.0.3.0.$1.1.0\" href=\"https://www.wsj.com/articles/gop-senators-say-house-health-bill-wont-pass-without-changes-1489535394\">GOP Senators Say House Health Bill Won\\u2019t Pass Without Changes</a></h3>,\n",
       " <h3 class=\"wsj-headline dj-sg wsj-card-feature heading-3 locked\" data-reactid=\".1jeky9y2fb4.1.1.6.1.0.2.0.0.0.3.1.$2.1\" itemprop=\"name\"><a class=\"wsj-headline-link\" data-reactid=\".1jeky9y2fb4.1.1.6.1.0.2.0.0.0.3.1.$2.1.0\" href=\"https://www.wsj.com/articles/fed-still-sees-three-2017-rate-increases-1489601028\">Fed Sees 2 More Increases in 2017</a></h3>,\n",
       " <h3 class=\"wsj-headline dj-sg wsj-card-feature heading-3 locked\" data-reactid=\".1jeky9y2fb4.1.1.6.1.0.2.0.0.0.4.0.$3.2.1\" itemprop=\"name\"><a class=\"wsj-headline-link\" data-reactid=\".1jeky9y2fb4.1.1.6.1.0.2.0.0.0.4.0.$3.2.1.0\" href=\"https://www.wsj.com/articles/administration-advocates-spar-over-move-to-block-trump-travel-ban-1489597135\">Administration, Advocates Spar Over Move to Block Trump Travel Ban</a></h3>,\n",
       " <h3 class=\"wsj-headline dj-sg wsj-card-feature heading-3 locked\" data-reactid=\".1jeky9y2fb4.1.1.6.1.0.2.0.0.0.4.0.$4.2.1\" itemprop=\"name\"><a class=\"wsj-headline-link\" data-reactid=\".1jeky9y2fb4.1.1.6.1.0.2.0.0.0.4.0.$4.2.1.0\" href=\"https://www.wsj.com/articles/four-men-charged-in-connection-with-yahoo-breach-1489592862\">Two Russian Spies Charged in Massive Yahoo Data Breach</a></h3>,\n",
       " <h3 class=\"wsj-headline dj-sg wsj-card-feature heading-3 locked\" data-reactid=\".1jeky9y2fb4.1.1.6.1.0.2.0.0.0.4.1.$5.1\" itemprop=\"name\"><a class=\"wsj-headline-link\" data-reactid=\".1jeky9y2fb4.1.1.6.1.0.2.0.0.0.4.1.$5.1.0\" href=\"https://www.wsj.com/articles/white-house-may-let-states-put-new-requirements-on-medicaid-recipients-1489546011\">States Could Get Medicaid Flexibility</a></h3>,\n",
       " <h3 class=\"wsj-headline dj-sg wsj-card-feature heading-3 locked\" data-reactid=\".1jeky9y2fb4.1.1.6.1.0.2.0.0.0.4.1.$6.1\" itemprop=\"name\"><a class=\"wsj-headline-link\" data-reactid=\".1jeky9y2fb4.1.1.6.1.0.2.0.0.0.4.1.$6.1.0\" href=\"https://www.wsj.com/articles/trump-tax-records-leaked-to-msnbc-white-house-confirms-1489540089\">Trump Paid $38 Million in Taxes in 2005</a></h3>,\n",
       " <h3 class=\"wsj-headline dj-sg wsj-card-feature heading-4 locked\" data-reactid=\".1jeky9y2fb4.1.1.6.1.0.2.0.0.1.$0.2.1\" itemprop=\"name\"><a class=\"wsj-headline-link\" data-reactid=\".1jeky9y2fb4.1.1.6.1.0.2.0.0.1.$0.2.1.0\" href=\"https://www.wsj.com/articles/trump-to-nominate-goldman-banker-to-no-2-post-at-treasury-1489541585\">Trump to Nominate Goldman Banker to No. 2 Post at Treasury</a></h3>,\n",
       " <h3 class=\"wsj-headline dj-sg wsj-card-feature heading-4 locked\" data-reactid=\".1jeky9y2fb4.1.1.6.1.0.2.0.0.1.$1.2.1\" itemprop=\"name\"><a class=\"wsj-headline-link\" data-reactid=\".1jeky9y2fb4.1.1.6.1.0.2.0.0.1.$1.2.1.0\" href=\"https://www.wsj.com/articles/fed-raises-interest-rates-remains-on-track-to-keep-tightening-1489600935\">Fed Raises Interest Rates, Remains on Track to Keep Tightening</a></h3>,\n",
       " <h3 class=\"wsj-headline dj-sg wsj-card-feature heading-4 locked\" data-reactid=\".1jeky9y2fb4.1.1.6.1.0.2.0.0.1.$2.2.1\" itemprop=\"name\"><a class=\"wsj-headline-link\" data-reactid=\".1jeky9y2fb4.1.1.6.1.0.2.0.0.1.$2.2.1.0\" href=\"https://www.wsj.com/articles/steve-bannon-and-the-making-of-an-economic-nationalist-1489516113\">Bannon\\u2019s Journey  to Economic Nationalism</a></h3>,\n",
       " <h3 class=\"wsj-headline dj-sg wsj-card-feature heading-4 locked\" data-reactid=\".1jeky9y2fb4.1.1.6.1.0.2.0.0.1.$3.2.1\" itemprop=\"name\"><a class=\"wsj-headline-link\" data-reactid=\".1jeky9y2fb4.1.1.6.1.0.2.0.0.1.$3.2.1.0\" href=\"https://www.wsj.com/articles/trump-nominee-robert-lighthizer-to-face-lawmakers-on-trade-agenda-1489497808\">Trump Trade Nominee Lighthizer Puts a Target on China</a></h3>,\n",
       " <h3 class=\"wsj-headline dj-sg wsj-card-feature heading-4-italic unlocked\" data-reactid=\".1jeky9y2fb4.1.1.6.1.0.2.1.0.0.$0.2.1\" itemprop=\"name\"><a class=\"wsj-headline-link\" data-reactid=\".1jeky9y2fb4.1.1.6.1.0.2.1.0.0.$0.2.1.0\" href=\"http://www.wsj.com/graphics/compare-aca-vs-gop-healthcare/?mod=djemCapitalJournalDaybreak\">How the House GOP Health Plan Compares to the ACA</a></h3>,\n",
       " <h3 class=\"wsj-headline dj-sg wsj-card-feature heading-4-italic unlocked\" data-reactid=\".1jeky9y2fb4.1.1.6.1.0.2.1.0.1.$1.2.1\" itemprop=\"name\"><a class=\"wsj-headline-link\" data-reactid=\".1jeky9y2fb4.1.1.6.1.0.2.1.0.1.$1.2.1.0\" href=\"http://www.wsj.com/graphics/trump-market-tweets/\">Think a Negative Trump Tweet Crushes a Stock? Think Again</a></h3>,\n",
       " <h3 class=\"wsj-headline dj-sg wsj-card-feature heading-4-italic unlocked\" data-reactid=\".1jeky9y2fb4.1.1.6.1.0.2.1.0.2.$2.2.1\" itemprop=\"name\"><a class=\"wsj-headline-link\" data-reactid=\".1jeky9y2fb4.1.1.6.1.0.2.1.0.2.$2.2.1.0\" href=\"http://www.wsj.com/livecoverage/donald-trumps-first-100-days\">The First 100 Days: Read WSJ\\u2019s Analysis</a></h3>,\n",
       " <h3 class=\"wsj-headline dj-sg wsj-card-feature heading-4 unlocked\" data-reactid=\".1jeky9y2fb4.1.1.6.1.0.2.2.0.0.1.2.1\" itemprop=\"name\"><a class=\"wsj-headline-link\" data-reactid=\".1jeky9y2fb4.1.1.6.1.0.2.2.0.0.1.2.1.0\" href=\"https://subscribe.wsj.com/election?trackingCode=aaqmmulz&amp;cid=WSJ_MD_NA_ACQ_NA\">The world reacts. We analyze.</a></h3>,\n",
       " <h3 class=\"wsj-headline dj-sg wsj-card-feature heading-4 video locked\" data-reactid=\".1jeky9y2fb4.1.1.6.1.0.2.2.0.$3.1:$0.2.1\" itemprop=\"name\"><a class=\"wsj-headline-link\" data-reactid=\".1jeky9y2fb4.1.1.6.1.0.2.2.0.$3.1:$0.2.1.0\" href=\"http://www.wsj.com/video/russian-spies-charged-in-yahoo-hack-that-targeted-us-and-russian-officials/1C90EBBF-FDA3-4EB5-A56B-8C13852F3C2E.html\">Russian Spies Charged in Yahoo Hack That Targeted U.S. and Russian Officials</a></h3>,\n",
       " <h3 class=\"wsj-headline dj-sg wsj-card-feature heading-4 video locked\" data-reactid=\".1jeky9y2fb4.1.1.6.1.0.2.2.0.$3.2:$1.1\" itemprop=\"name\"><a class=\"wsj-headline-link\" data-reactid=\".1jeky9y2fb4.1.1.6.1.0.2.2.0.$3.2:$1.1.0\" href=\"http://www.wsj.com/video/intelligence-committee-no-evidence-trump-tower-was-tapped/2FAADAFD-310C-4F5F-A436-84B4821A58F9.html\">Intelligence Committee: No Evidence Trump Tower Was Tapped</a></h3>,\n",
       " <h3 class=\"wsj-headline dj-sg wsj-card-feature heading-4 video locked\" data-reactid=\".1jeky9y2fb4.1.1.6.1.0.2.2.0.$3.2:$2.1\" itemprop=\"name\"><a class=\"wsj-headline-link\" data-reactid=\".1jeky9y2fb4.1.1.6.1.0.2.2.0.$3.2:$2.1.0\" href=\"http://www.wsj.com/video/trump-tax-return-what-missing/92D3E94E-1878-469B-9BD9-C4F5F0B5C6CF.html\">Trump's Tax Return: What's Missing?</a></h3>,\n",
       " <h3 class=\"wsj-headline dj-sg wsj-card-feature heading-4 unlocked\" data-reactid=\".1jeky9y2fb4.1.1.6.1.0.2.2.0.$4.1:$0.2.1\" itemprop=\"name\"><a class=\"wsj-headline-link\" data-reactid=\".1jeky9y2fb4.1.1.6.1.0.2.2.0.$4.1:$0.2.1.0\" href=\"http://blogs.wsj.com/washwire/2017/03/15/capital-journal-senate-warns-on-health-plan-bannon-profile-trump-tax-leak/\">Capital Journal: Senate Warns on Health Plan; Bannon Profile; Trump Tax Leak</a></h3>,\n",
       " <h3 class=\"wsj-headline dj-sg wsj-card-feature heading-4 unlocked\" data-reactid=\".1jeky9y2fb4.1.1.6.1.0.2.2.0.$4.2:$1.1\" itemprop=\"name\"><a class=\"wsj-headline-link\" data-reactid=\".1jeky9y2fb4.1.1.6.1.0.2.2.0.$4.2:$1.1.0\" href=\"http://blogs.wsj.com/washwire/2017/03/14/cbo-estimates-several-thousand-more-births-if-planned-parenthood-funds-cut/\">CBO Estimates \\u2018Several Thousand\\u2019 More Births if Planned Parenthood Funds Cut</a></h3>,\n",
       " <h3 class=\"wsj-headline dj-sg wsj-card-feature heading-4 unlocked\" data-reactid=\".1jeky9y2fb4.1.1.6.1.0.2.2.0.$4.2:$2.1\" itemprop=\"name\"><a class=\"wsj-headline-link\" data-reactid=\".1jeky9y2fb4.1.1.6.1.0.2.2.0.$4.2:$2.1.0\" href=\"http://blogs.wsj.com/washwire/2017/03/14/washington-reacts-cbo-wrong-health-fix-needed-or-time-to-pull-the-bill/\">Washington Reacts: CBO Wrong, Health Fix Needed or Time to Pull the Bill?</a></h3>,\n",
       " <h3 class=\"wsj-headline dj-sg wsj-card-feature heading-5 locked\" data-reactid=\".1jeky9y2fb4.1.1.6.1.0.2.3.$0.$1.1:$0.2.1\" itemprop=\"name\"><a class=\"wsj-headline-link\" data-reactid=\".1jeky9y2fb4.1.1.6.1.0.2.3.$0.$1.1:$0.2.1.0\" href=\"https://www.wsj.com/articles/top-democrat-on-intelligence-panel-raises-doubts-over-wiretapping-claims-1489339138\">Top Democrat on Intelligence Panel Raises Doubts Over Wiretap Claims</a></h3>,\n",
       " <h3 class=\"wsj-headline dj-sg wsj-card-feature heading-5 locked\" data-reactid=\".1jeky9y2fb4.1.1.6.1.0.2.3.$0.$1.2:$1.1\" itemprop=\"name\"><a class=\"wsj-headline-link\" data-reactid=\".1jeky9y2fb4.1.1.6.1.0.2.3.$0.$1.2:$1.1.0\" href=\"https://www.wsj.com/articles/authorities-questioning-cia-contractors-in-connection-with-wikileaks-dump-1489283964\">CIA Contractors Questioned About WikiLeaks Dump</a></h3>,\n",
       " <h3 class=\"wsj-headline dj-sg wsj-card-feature heading-5 locked\" data-reactid=\".1jeky9y2fb4.1.1.6.1.0.2.3.$0.$1.2:$2.1\" itemprop=\"name\"><a class=\"wsj-headline-link\" data-reactid=\".1jeky9y2fb4.1.1.6.1.0.2.3.$0.$1.2:$2.1.0\" href=\"https://www.wsj.com/articles/wikileaks-assange-says-group-will-help-tech-firms-defend-against-cia-hacking-1489074870\">Assange: WikiLeaks Will Help Tech Firms Defend Against CIA Hacking</a></h3>,\n",
       " <h3 class=\"wsj-headline dj-sg wsj-card-feature heading-5 locked\" data-reactid=\".1jeky9y2fb4.1.1.6.1.0.2.3.$0.$2.1:$0.2.1\" itemprop=\"name\"><a class=\"wsj-headline-link\" data-reactid=\".1jeky9y2fb4.1.1.6.1.0.2.3.$0.$2.1:$0.2.1.0\" href=\"https://www.wsj.com/articles/cbo-estimates-14-million-more-uninsured-next-year-under-gop-plan-1489436927\">GOP Plan Cuts Insured, Deficit</a></h3>,\n",
       " <h3 class=\"wsj-headline dj-sg wsj-card-feature heading-5 locked\" data-reactid=\".1jeky9y2fb4.1.1.6.1.0.2.3.$0.$2.2:$1.1\" itemprop=\"name\"><a class=\"wsj-headline-link\" data-reactid=\".1jeky9y2fb4.1.1.6.1.0.2.3.$0.$2.2:$1.1.0\" href=\"https://www.wsj.com/articles/at-white-house-patients-share-complaints-about-obamacare-1489439834\">At White House, Patients Share Complaints About Obamacare</a></h3>,\n",
       " <h3 class=\"wsj-headline dj-sg wsj-card-feature heading-5 locked\" data-reactid=\".1jeky9y2fb4.1.1.6.1.0.2.3.$0.$2.2:$2.1\" itemprop=\"name\"><a class=\"wsj-headline-link\" data-reactid=\".1jeky9y2fb4.1.1.6.1.0.2.3.$0.$2.2:$2.1.0\" href=\"https://www.wsj.com/articles/cbo-draws-republicans-pre-emptive-ire-over-health-bill-report-1489417414\">GOP Questions Agency\\u2019s Health-Plan Cost Analysis Prior to Release</a></h3>,\n",
       " <h3 class=\"wsj-headline dj-sg wsj-card-feature heading-5 unlocked\" data-reactid=\".1jeky9y2fb4.1.1.6.1.0.2.3.$0.$3.1:$0.2.1\" itemprop=\"name\"><a class=\"wsj-headline-link\" data-reactid=\".1jeky9y2fb4.1.1.6.1.0.2.3.$0.$3.1:$0.2.1.0\" href=\"http://blogs.wsj.com/economics/2017/03/10/economists-react-to-the-february-jobs-report-a-march-hike-is-a-done-deal/\">Economists React to the February Jobs Report: \\u2018A March Hike Is a Done Deal\\u2019</a></h3>,\n",
       " <h3 class=\"wsj-headline dj-sg wsj-card-feature heading-5 unlocked\" data-reactid=\".1jeky9y2fb4.1.1.6.1.0.2.3.$0.$3.2:$1.1\" itemprop=\"name\"><a class=\"wsj-headline-link\" data-reactid=\".1jeky9y2fb4.1.1.6.1.0.2.3.$0.$3.2:$1.1.0\" href=\"http://blogs.wsj.com/economics/2017/03/10/the-february-jobs-report-in-11-charts/\">The February Jobs Report in 11 Charts</a></h3>,\n",
       " <h3 class=\"wsj-headline dj-sg wsj-card-feature heading-5 unlocked\" data-reactid=\".1jeky9y2fb4.1.1.6.1.0.2.3.$0.$3.2:$2.1\" itemprop=\"name\"><a class=\"wsj-headline-link\" data-reactid=\".1jeky9y2fb4.1.1.6.1.0.2.3.$0.$3.2:$2.1.0\" href=\"http://blogs.wsj.com/economics/2017/03/08/januarys-wage-mystery-could-be-solved-in-fridays-jobs-report/\">January\\u2019s Wage Mystery Could Be Solved in Friday\\u2019s Jobs Report</a></h3>,\n",
       " <h3 class=\"wsj-headline dj-sg wsj-card-feature heading-5 locked\" data-reactid=\".1jeky9y2fb4.1.1.6.1.0.2.3.$1.$0.1:$0.2.1\" itemprop=\"name\"><a class=\"wsj-headline-link\" data-reactid=\".1jeky9y2fb4.1.1.6.1.0.2.3.$1.$0.1:$0.2.1.0\" href=\"https://www.wsj.com/articles/deficits-are-a-flawed-guide-to-unfair-trade-1489594137\">Deficits Are a Flawed Guide to Unfair Trade</a></h3>,\n",
       " <h3 class=\"wsj-headline dj-sg wsj-card-feature heading-5 locked\" data-reactid=\".1jeky9y2fb4.1.1.6.1.0.2.3.$1.$0.2:$1.1\" itemprop=\"name\"><a class=\"wsj-headline-link\" data-reactid=\".1jeky9y2fb4.1.1.6.1.0.2.3.$1.$0.2:$1.1.0\" href=\"https://www.wsj.com/articles/the-economic-anxieties-that-motivate-donald-trump-loyalists-1489420637\">The Economic Anxieties That Motivate Trump Loyalists</a></h3>,\n",
       " <h3 class=\"wsj-headline dj-sg wsj-card-feature heading-5 locked\" data-reactid=\".1jeky9y2fb4.1.1.6.1.0.2.3.$1.$0.2:$2.1\" itemprop=\"name\"><a class=\"wsj-headline-link\" data-reactid=\".1jeky9y2fb4.1.1.6.1.0.2.3.$1.$0.2:$2.1.0\" href=\"https://www.wsj.com/articles/senators-seek-review-of-criminal-justice-system-1489015783\">Senators Seek Review of Criminal Justice System</a></h3>]"
      ]
     },
     "execution_count": 3,
     "metadata": {},
     "output_type": "execute_result"
    }
   ],
   "source": [
    "links"
   ]
  },
  {
   "cell_type": "code",
   "execution_count": 4,
   "metadata": {
    "collapsed": true
   },
   "outputs": [],
   "source": [
    "links = [val for sublist in links for val in sublist]"
   ]
  },
  {
   "cell_type": "code",
   "execution_count": 5,
   "metadata": {
    "collapsed": true
   },
   "outputs": [],
   "source": [
    "l = []\n",
    "for i in range(0,len(links)):\n",
    "    try:\n",
    "        l.append((links[i].getText()).encode('ascii','ignore'))\n",
    "        #l = l.translate({ 0x2018:0x27, 0x2019:0x27, 0x201C:0x22, 0x201D:0x22, 0x2026:0x20 })\n",
    "    except:\n",
    "        continue\n",
    "links = map(lambda s: s.strip(), l)"
   ]
  },
  {
   "cell_type": "code",
   "execution_count": 6,
   "metadata": {
    "collapsed": false
   },
   "outputs": [
    {
     "data": {
      "text/plain": [
       "['House Lawmakers Reject Trump Wiretap Allegation',\n",
       " 'Q&A: What Are the Three Prongs in GOPs Obamacare Repeal-and-Replace Effort?',\n",
       " 'The High Cost of Health Care in America',\n",
       " 'Young People to Pay Less Under GOP Health Plan, CBO Says',\n",
       " 'After CBO Report, Democrats See Opening on Health Care',\n",
       " 'Where Donald Trumps Health-Care Promises Stand Now',\n",
       " 'GOP Senators Say House Health Bill Wont Pass Without Changes',\n",
       " 'Fed Sees 2 More Increases in 2017',\n",
       " 'Administration, Advocates Spar Over Move to Block Trump Travel Ban',\n",
       " 'Two Russian Spies Charged in Massive Yahoo Data Breach',\n",
       " 'States Could Get Medicaid Flexibility',\n",
       " 'Trump Paid $38 Million in Taxes in 2005',\n",
       " 'Trump to Nominate Goldman Banker to No. 2 Post at Treasury',\n",
       " 'Fed Raises Interest Rates, Remains on Track to Keep Tightening',\n",
       " 'Bannons Journey  to Economic Nationalism',\n",
       " 'Trump Trade Nominee Lighthizer Puts a Target on China',\n",
       " 'How the House GOP Health Plan Compares to the ACA',\n",
       " 'Think a Negative Trump Tweet Crushes a Stock? Think Again',\n",
       " 'The First 100 Days: Read WSJs Analysis',\n",
       " 'The world reacts. We analyze.',\n",
       " 'Russian Spies Charged in Yahoo Hack That Targeted U.S. and Russian Officials',\n",
       " 'Intelligence Committee: No Evidence Trump Tower Was Tapped',\n",
       " \"Trump's Tax Return: What's Missing?\",\n",
       " 'Capital Journal: Senate Warns on Health Plan; Bannon Profile; Trump Tax Leak',\n",
       " 'CBO Estimates Several Thousand More Births if Planned Parenthood Funds Cut',\n",
       " 'Washington Reacts: CBO Wrong, Health Fix Needed or Time to Pull the Bill?',\n",
       " 'Top Democrat on Intelligence Panel Raises Doubts Over Wiretap Claims',\n",
       " 'CIA Contractors Questioned About WikiLeaks Dump',\n",
       " 'Assange: WikiLeaks Will Help Tech Firms Defend Against CIA Hacking',\n",
       " 'GOP Plan Cuts Insured, Deficit',\n",
       " 'At White House, Patients Share Complaints About Obamacare',\n",
       " 'GOP Questions Agencys Health-Plan Cost Analysis Prior to Release',\n",
       " 'Economists React to the February Jobs Report: A March Hike Is a Done Deal',\n",
       " 'The February Jobs Report in 11 Charts',\n",
       " 'Januarys Wage Mystery Could Be Solved in Fridays Jobs Report',\n",
       " 'Deficits Are a Flawed Guide to Unfair Trade',\n",
       " 'The Economic Anxieties That Motivate Trump Loyalists',\n",
       " 'Senators Seek Review of Criminal Justice System']"
      ]
     },
     "execution_count": 6,
     "metadata": {},
     "output_type": "execute_result"
    }
   ],
   "source": [
    "links"
   ]
  },
  {
   "cell_type": "code",
   "execution_count": 7,
   "metadata": {
    "collapsed": false
   },
   "outputs": [
    {
     "data": {
      "text/plain": [
       "['House Lawmakers Reject Trump Wiretap Allegation',\n",
       " 'Q&A: What Are the Three Prongs in GOPs Obamacare Repeal-and-Replace Effort?',\n",
       " 'The High Cost of Health Care in America',\n",
       " 'Young People to Pay Less Under GOP Health Plan, CBO Says',\n",
       " 'After CBO Report, Democrats See Opening on Health Care',\n",
       " 'Where Donald Trumps Health-Care Promises Stand Now',\n",
       " 'GOP Senators Say House Health Bill Wont Pass Without Changes',\n",
       " 'Fed Sees 2 More Increases in 2017',\n",
       " 'Administration, Advocates Spar Over Move to Block Trump Travel Ban',\n",
       " 'Two Russian Spies Charged in Massive Yahoo Data Breach',\n",
       " 'States Could Get Medicaid Flexibility',\n",
       " 'Trump Paid $38 Million in Taxes in 2005',\n",
       " 'Trump to Nominate Goldman Banker to No. 2 Post at Treasury',\n",
       " 'Fed Raises Interest Rates, Remains on Track to Keep Tightening',\n",
       " 'Bannons Journey  to Economic Nationalism',\n",
       " 'Trump Trade Nominee Lighthizer Puts a Target on China',\n",
       " 'How the House GOP Health Plan Compares to the ACA',\n",
       " 'Think a Negative Trump Tweet Crushes a Stock? Think Again',\n",
       " 'The First 100 Days: Read WSJs Analysis',\n",
       " 'The world reacts. We analyze.',\n",
       " 'Russian Spies Charged in Yahoo Hack That Targeted U.S. and Russian Officials',\n",
       " 'Intelligence Committee: No Evidence Trump Tower Was Tapped',\n",
       " \"Trump's Tax Return: What's Missing?\",\n",
       " 'Capital Journal: Senate Warns on Health Plan; Bannon Profile; Trump Tax Leak',\n",
       " 'CBO Estimates Several Thousand More Births if Planned Parenthood Funds Cut',\n",
       " 'Washington Reacts: CBO Wrong, Health Fix Needed or Time to Pull the Bill?',\n",
       " 'Top Democrat on Intelligence Panel Raises Doubts Over Wiretap Claims',\n",
       " 'CIA Contractors Questioned About WikiLeaks Dump',\n",
       " 'Assange: WikiLeaks Will Help Tech Firms Defend Against CIA Hacking',\n",
       " 'GOP Plan Cuts Insured, Deficit',\n",
       " 'At White House, Patients Share Complaints About Obamacare',\n",
       " 'GOP Questions Agencys Health-Plan Cost Analysis Prior to Release',\n",
       " 'Economists React to the February Jobs Report: A March Hike Is a Done Deal',\n",
       " 'The February Jobs Report in 11 Charts',\n",
       " 'Januarys Wage Mystery Could Be Solved in Fridays Jobs Report',\n",
       " 'Deficits Are a Flawed Guide to Unfair Trade',\n",
       " 'The Economic Anxieties That Motivate Trump Loyalists',\n",
       " 'Senators Seek Review of Criminal Justice System']"
      ]
     },
     "execution_count": 7,
     "metadata": {},
     "output_type": "execute_result"
    }
   ],
   "source": [
    "links = map(lambda s: s.encode(\"utf-8\"), links)\n",
    "links = [x.rstrip('\\n') for x in links]\n",
    "links"
   ]
  },
  {
   "cell_type": "code",
   "execution_count": 8,
   "metadata": {
    "collapsed": true
   },
   "outputs": [],
   "source": [
    "trumps_admin = ['whitehouse','trump','conway','sessions','pence','president','tillerson','devos','flynn','kushner','carson','department','preibus','bannon','spicer','miller']"
   ]
  },
  {
   "cell_type": "code",
   "execution_count": 9,
   "metadata": {
    "collapsed": true
   },
   "outputs": [],
   "source": [
    "links = [x.lower() for x in links]\n"
   ]
  },
  {
   "cell_type": "code",
   "execution_count": 10,
   "metadata": {
    "collapsed": false
   },
   "outputs": [
    {
     "data": {
      "text/plain": [
       "['house lawmakers reject trump wiretap allegation',\n",
       " 'where donald trumps health-care promises stand now',\n",
       " 'administration, advocates spar over move to block trump travel ban',\n",
       " 'trump paid $38 million in taxes in 2005',\n",
       " 'trump to nominate goldman banker to no. 2 post at treasury',\n",
       " 'trump trade nominee lighthizer puts a target on china',\n",
       " 'think a negative trump tweet crushes a stock? think again',\n",
       " 'intelligence committee: no evidence trump tower was tapped',\n",
       " \"trump's tax return: what's missing?\",\n",
       " 'capital journal: senate warns on health plan; bannon profile; trump tax leak',\n",
       " 'the economic anxieties that motivate trump loyalists',\n",
       " 'bannons journey  to economic nationalism',\n",
       " 'capital journal: senate warns on health plan; bannon profile; trump tax leak']"
      ]
     },
     "execution_count": 10,
     "metadata": {},
     "output_type": "execute_result"
    }
   ],
   "source": [
    "total_titles = []\n",
    "for admin in trumps_admin:\n",
    "    titles = [x for x in links if admin in x]\n",
    "    total_titles.extend(titles)\n",
    "total_titles"
   ]
  },
  {
   "cell_type": "code",
   "execution_count": 11,
   "metadata": {
    "collapsed": true
   },
   "outputs": [],
   "source": [
    "title_file = open(\"wsj.txt\", \"a\")"
   ]
  },
  {
   "cell_type": "code",
   "execution_count": 12,
   "metadata": {
    "collapsed": true
   },
   "outputs": [],
   "source": [
    "for i in range(0, len(total_titles)):\n",
    "    temp = total_titles[i]\n",
    "    title_file.write(temp + '\\n')"
   ]
  },
  {
   "cell_type": "code",
   "execution_count": 13,
   "metadata": {
    "collapsed": true
   },
   "outputs": [],
   "source": [
    "title_names = []\n",
    "title_file = open(\"wsj.txt\",\"r\")\n",
    "for line in title_file:\n",
    "    line = line.strip()\n",
    "    title_names.append(line)\n",
    "title_file.close()"
   ]
  },
  {
   "cell_type": "code",
   "execution_count": 14,
   "metadata": {
    "collapsed": false
   },
   "outputs": [
    {
     "data": {
      "text/plain": [
       "['hawaii judge agrees to hearing on trump immigration order',\n",
       " 'trump begins to map out $1 trillion infrastructure plan',\n",
       " 'cummings asks trump to moderate rhetoric on black neighborhoods',\n",
       " 'ivanka trumps landlord is a chilean who is suing the u.s.',\n",
       " 'think a negative trump tweet crushes a stock? think again',\n",
       " 'democrats say trump agreed to pursue authority to negotiate drug prices',\n",
       " 'elijah cummings says he asked trump to tone down rhetoric about black neighborhoods',\n",
       " 'as trump heads to congress, polarization is hardening',\n",
       " 'trump lowers profile after obama wiretap accusation',\n",
       " 'in office, trump changes his tune on job growth numbers he once denounced',\n",
       " 'washington state to fight new trump travel order',\n",
       " 'think a negative trump tweet crushes a stock? think again',\n",
       " 'trump meets with gop leaders to rally behind new health law',\n",
       " 'are trumps deleted tweets official records? the house oversight committee thinks so',\n",
       " 'will trumpcare catch on? the democrats are trying',\n",
       " 'hawaii judge agrees to hearing on trump immigration order',\n",
       " 'trump expected to nominate scott gottlieb to lead fda',\n",
       " 'trump lowers profile after obama wiretap accusation',\n",
       " 'trump didnt know of flynns work for turkey before nomination',\n",
       " 'think a negative trump tweet crushes a stock? think again',\n",
       " 'trump meets with gop leaders to rally behind new health law',\n",
       " 'trump plays background role on health care',\n",
       " 'trump to nominate scott gottlieb to lead fda',\n",
       " 'pence appeals for complete gop support for health overhaul',\n",
       " 'trump didnt know of flynns work for turkey before nomination',\n",
       " 'trump administration officials defend gop health bill',\n",
       " 'the economic anxieties that motivate trump loyalists',\n",
       " 'white house back-pedals on claim obama wiretapped trumps phones',\n",
       " 'republicans pose growing challenge to trumps trade agenda',\n",
       " 'real or joking? white house under fire over trumps statements',\n",
       " 'think a negative trump tweet crushes a stock? think again',\n",
       " \"white house defends trump's truthfulness\",\n",
       " 'trump plays background role on health care',\n",
       " 'pence appeals for complete gop support for health overhaul',\n",
       " 'cfpb, justice department poised to square off in court',\n",
       " 'where donald trumps health-care promises stand now',\n",
       " 'trump to nominate goldman banker to no. 2 post at treasury',\n",
       " 'trump paid $38 million in taxes in 2005',\n",
       " 'trump trade nominee lighthizer puts a target on china',\n",
       " 'think a negative trump tweet crushes a stock? think again',\n",
       " 'what motivates donald trump loyalists',\n",
       " 'capital journal daybreak: the cbos big numbers; tillersons email alias; trump oks cia to conduct drone strikes',\n",
       " 'the economic anxieties that motivate trump loyalists',\n",
       " 'tillerson travels to asia amid rising tensions in region',\n",
       " 'capital journal daybreak: the cbos big numbers; tillersons email alias; trump oks cia to conduct drone strikes',\n",
       " 'bannons journey  to economic nationalism',\n",
       " 'house lawmakers reject trump wiretap allegation',\n",
       " 'where donald trumps health-care promises stand now',\n",
       " 'administration, advocates spar over move to block trump travel ban',\n",
       " 'trump paid $38 million in taxes in 2005',\n",
       " 'trump to nominate goldman banker to no. 2 post at treasury',\n",
       " 'trump trade nominee lighthizer puts a target on china',\n",
       " 'think a negative trump tweet crushes a stock? think again',\n",
       " 'intelligence committee: no evidence trump tower was tapped',\n",
       " \"trump's tax return: what's missing?\",\n",
       " 'capital journal: senate warns on health plan; bannon profile; trump tax leak',\n",
       " 'the economic anxieties that motivate trump loyalists',\n",
       " 'bannons journey  to economic nationalism',\n",
       " 'capital journal: senate warns on health plan; bannon profile; trump tax leak']"
      ]
     },
     "execution_count": 14,
     "metadata": {},
     "output_type": "execute_result"
    }
   ],
   "source": [
    "title_names"
   ]
  },
  {
   "cell_type": "code",
   "execution_count": 15,
   "metadata": {
    "collapsed": false
   },
   "outputs": [
    {
     "data": {
      "text/plain": [
       "59"
      ]
     },
     "execution_count": 15,
     "metadata": {},
     "output_type": "execute_result"
    }
   ],
   "source": [
    "len(title_names)"
   ]
  },
  {
   "cell_type": "code",
   "execution_count": null,
   "metadata": {
    "collapsed": true
   },
   "outputs": [],
   "source": []
  }
 ],
 "metadata": {
  "anaconda-cloud": {},
  "kernelspec": {
   "display_name": "Python [default]",
   "language": "python",
   "name": "python2"
  },
  "language_info": {
   "codemirror_mode": {
    "name": "ipython",
    "version": 2
   },
   "file_extension": ".py",
   "mimetype": "text/x-python",
   "name": "python",
   "nbconvert_exporter": "python",
   "pygments_lexer": "ipython2",
   "version": "2.7.12"
  }
 },
 "nbformat": 4,
 "nbformat_minor": 1
}
