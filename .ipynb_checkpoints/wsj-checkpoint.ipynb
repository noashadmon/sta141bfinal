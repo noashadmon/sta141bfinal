{
 "cells": [
  {
   "cell_type": "code",
   "execution_count": 1,
   "metadata": {
    "collapsed": true
   },
   "outputs": [],
   "source": [
    "import requests\n",
    "#import requests_ftp\n",
    "import requests_cache\n",
    "import lxml\n",
    "import urllib2\n",
    "from bs4 import BeautifulSoup\n",
    "from collections import Counter\n",
    "from matplotlib import pyplot as plt\n",
    "import pandas as pd\n",
    "plt.style.use('ggplot')\n",
    "#requests_cache.install_cache('coll_cache')\n",
    "%matplotlib inline"
   ]
  },
  {
   "cell_type": "code",
   "execution_count": 2,
   "metadata": {
    "collapsed": true
   },
   "outputs": [],
   "source": [
    "climreq = requests.get(\"https://www.wsj.com/news/politics\")\n",
    "climhtml = climreq.text\n",
    "clim = BeautifulSoup(climhtml, \"lxml\")\n",
    "links = clim.find_all('h3', {'class': ['wsj-headline']}) #, {'class': ['story-heading']})"
   ]
  },
  {
   "cell_type": "code",
   "execution_count": 3,
   "metadata": {
    "collapsed": false
   },
   "outputs": [
    {
     "data": {
      "text/plain": [
       "[<h3 class=\"wsj-headline dj-sg LEAD heading-9 locked\" data-reactid=\".1m44kobsqgw.1.1.6.1.0.2.0.0.0.1\" itemprop=\"name\"><a class=\"wsj-headline-link\" data-reactid=\".1m44kobsqgw.1.1.6.1.0.2.0.0.0.1.0\" href=\"https://www.wsj.com/articles/lawmakers-debate-fate-of-medicaid-1489196578\">Lawmakers Debate Fate of Medicaid</a></h3>,\n",
       " <h3 class=\"wsj-headline dj-sg heading-14 locked\" data-reactid=\".1m44kobsqgw.1.1.6.1.0.2.0.0.0.2.0.1.1.$0.0\" itemprop=\"name\"><a class=\"wsj-headline-link\" data-reactid=\".1m44kobsqgw.1.1.6.1.0.2.0.0.0.2.0.1.1.$0.0.0\" href=\"https://www.wsj.com/articles/whats-next-for-the-republican-health-bill-1489167667\">What\\u2019s Next for the Republican Health Bill</a></h3>,\n",
       " <h3 class=\"wsj-headline dj-sg heading-14 locked\" data-reactid=\".1m44kobsqgw.1.1.6.1.0.2.0.0.0.2.0.1.1.$1.0\" itemprop=\"name\"><a class=\"wsj-headline-link\" data-reactid=\".1m44kobsqgw.1.1.6.1.0.2.0.0.0.2.0.1.1.$1.0.0\" href=\"https://www.wsj.com/articles/republican-health-plan-would-delay-not-repeal-cadillac-tax-1489154994\">Republican Health Plan Would Delay, Not Repeal, \\u2018Cadillac Tax\\u2019</a></h3>,\n",
       " <h3 class=\"wsj-headline dj-sg wsj-card-feature heading-3 locked\" data-reactid=\".1m44kobsqgw.1.1.6.1.0.2.0.0.0.3.0.$1.1\" itemprop=\"name\"><a class=\"wsj-headline-link\" data-reactid=\".1m44kobsqgw.1.1.6.1.0.2.0.0.0.3.0.$1.1.0\" href=\"https://www.wsj.com/articles/mike-pence-appeals-for-complete-gop-support-for-health-overhaul-1489274542\">Pence Appeals for Complete GOP Support for Health Overhaul</a></h3>,\n",
       " <h3 class=\"wsj-headline dj-sg wsj-card-feature heading-3 locked\" data-reactid=\".1m44kobsqgw.1.1.6.1.0.2.0.0.0.3.1.$2.1\" itemprop=\"name\"><a class=\"wsj-headline-link\" data-reactid=\".1m44kobsqgw.1.1.6.1.0.2.0.0.0.3.1.$2.1.0\" href=\"https://www.wsj.com/articles/gop-health-plan-risks-backlash-from-seniors-1489244115\">GOP Health Plan Risks Backlash From Seniors</a></h3>,\n",
       " <h3 class=\"wsj-headline dj-sg wsj-card-feature heading-3 locked\" data-reactid=\".1m44kobsqgw.1.1.6.1.0.2.0.0.0.4.0.$3.2.1\" itemprop=\"name\"><a class=\"wsj-headline-link\" data-reactid=\".1m44kobsqgw.1.1.6.1.0.2.0.0.0.4.0.$3.2.1.0\" href=\"https://www.wsj.com/articles/u-s-attorney-preet-bharara-defies-trump-request-to-resign-1489261404\">U.S. Attorney Fired After Refusing Request to Resign</a></h3>,\n",
       " <h3 class=\"wsj-headline dj-sg wsj-card-feature heading-3 locked\" data-reactid=\".1m44kobsqgw.1.1.6.1.0.2.0.0.0.4.0.$4.2.1\" itemprop=\"name\"><a class=\"wsj-headline-link\" data-reactid=\".1m44kobsqgw.1.1.6.1.0.2.0.0.0.4.0.$4.2.1.0\" href=\"https://www.wsj.com/articles/intruder-arrested-after-scaling-white-house-fence-secret-service-says-1489256031\">Intruder Arrested After Scaling White House Fence</a></h3>,\n",
       " <h3 class=\"wsj-headline dj-sg wsj-card-feature heading-3 locked\" data-reactid=\".1m44kobsqgw.1.1.6.1.0.2.0.0.0.4.1.$5.1\" itemprop=\"name\"><a class=\"wsj-headline-link\" data-reactid=\".1m44kobsqgw.1.1.6.1.0.2.0.0.0.4.1.$5.1.0\" href=\"https://www.wsj.com/articles/federal-judges-find-racial-gerrymandering-in-3-texas-districts-1489268115\">Federal Judges Find Racial Gerrymandering in 3 Texas Districts</a></h3>,\n",
       " <h3 class=\"wsj-headline dj-sg wsj-card-feature heading-3 locked\" data-reactid=\".1m44kobsqgw.1.1.6.1.0.2.0.0.0.4.1.$6.1\" itemprop=\"name\"><a class=\"wsj-headline-link\" data-reactid=\".1m44kobsqgw.1.1.6.1.0.2.0.0.0.4.1.$6.1.0\" href=\"https://www.wsj.com/articles/trump-lowers-profile-after-obama-wiretap-accusation-1489141811\">Trump Lowers Profile After Obama Wiretap Accusation</a></h3>,\n",
       " <h3 class=\"wsj-headline dj-sg wsj-card-feature heading-4 locked\" data-reactid=\".1m44kobsqgw.1.1.6.1.0.2.0.0.1.$0.2.1\" itemprop=\"name\"><a class=\"wsj-headline-link\" data-reactid=\".1m44kobsqgw.1.1.6.1.0.2.0.0.1.$0.2.1.0\" href=\"https://www.wsj.com/articles/public-radio-and-television-stations-face-new-threat-of-budget-cuts-1489141806\">Public Radio, TV Stations Face New Budget Threats</a></h3>,\n",
       " <h3 class=\"wsj-headline dj-sg wsj-card-feature heading-4 locked\" data-reactid=\".1m44kobsqgw.1.1.6.1.0.2.0.0.1.$1.2.1\" itemprop=\"name\"><a class=\"wsj-headline-link\" data-reactid=\".1m44kobsqgw.1.1.6.1.0.2.0.0.1.$1.2.1.0\" href=\"https://www.wsj.com/articles/what-wikileaks-really-revealed-about-the-cias-spying-techniques-1489233601\">What WikiLeaks Really Revealed About the CIA</a></h3>,\n",
       " <h3 class=\"wsj-headline dj-sg wsj-card-feature heading-4 locked\" data-reactid=\".1m44kobsqgw.1.1.6.1.0.2.0.0.1.$2.2.1\" itemprop=\"name\"><a class=\"wsj-headline-link\" data-reactid=\".1m44kobsqgw.1.1.6.1.0.2.0.0.1.$2.2.1.0\" href=\"https://www.wsj.com/articles/trump-didnt-know-of-flynns-work-for-turkey-before-security-post-nomination-1489187449\">Trump Didn\\u2019t Know of Flynn\\u2019s Work for Turkey Before Nomination</a></h3>,\n",
       " <h3 class=\"wsj-headline dj-sg wsj-card-feature heading-4 locked\" data-reactid=\".1m44kobsqgw.1.1.6.1.0.2.0.0.1.$3.2.1\" itemprop=\"name\"><a class=\"wsj-headline-link\" data-reactid=\".1m44kobsqgw.1.1.6.1.0.2.0.0.1.$3.2.1.0\" href=\"https://www.wsj.com/articles/pentagon-tries-to-rein-in-nude-photo-fallout-1489183960\">Pentagon Tries to Rein In Nude-Photo Fallout</a></h3>,\n",
       " <h3 class=\"wsj-headline dj-sg wsj-card-feature heading-4-italic unlocked\" data-reactid=\".1m44kobsqgw.1.1.6.1.0.2.1.0.0.$0.2.1\" itemprop=\"name\"><a class=\"wsj-headline-link\" data-reactid=\".1m44kobsqgw.1.1.6.1.0.2.1.0.0.$0.2.1.0\" href=\"http://www.wsj.com/graphics/trump-market-tweets/\">Think a Negative Trump Tweet Crushes a Stock? Think Again</a></h3>,\n",
       " <h3 class=\"wsj-headline dj-sg wsj-card-feature heading-4-italic unlocked\" data-reactid=\".1m44kobsqgw.1.1.6.1.0.2.1.0.1.$1.2.1\" itemprop=\"name\"><a class=\"wsj-headline-link\" data-reactid=\".1m44kobsqgw.1.1.6.1.0.2.1.0.1.$1.2.1.0\" href=\"http://www.wsj.com/livecoverage/donald-trumps-first-100-days\">The First 100 Days: Read WSJ\\u2019s Analysis</a></h3>,\n",
       " <h3 class=\"wsj-headline dj-sg wsj-card-feature heading-4-italic unlocked\" data-reactid=\".1m44kobsqgw.1.1.6.1.0.2.1.0.2.$2.2.1\" itemprop=\"name\"><a class=\"wsj-headline-link\" data-reactid=\".1m44kobsqgw.1.1.6.1.0.2.1.0.2.$2.2.1.0\" href=\"http://www.wsj.com/graphics/supreme-court-diversity/\">Makeup of High Court Over Time</a></h3>,\n",
       " <h3 class=\"wsj-headline dj-sg wsj-card-feature heading-4 unlocked\" data-reactid=\".1m44kobsqgw.1.1.6.1.0.2.2.0.0.1.2.1\" itemprop=\"name\"><a class=\"wsj-headline-link\" data-reactid=\".1m44kobsqgw.1.1.6.1.0.2.2.0.0.1.2.1.0\" href=\"https://subscribe.wsj.com/election?trackingCode=aaqmmulz&amp;cid=WSJ_MD_NA_ACQ_NA\">The world reacts. We analyze.</a></h3>,\n",
       " <h3 class=\"wsj-headline dj-sg wsj-card-feature heading-4 video locked\" data-reactid=\".1m44kobsqgw.1.1.6.1.0.2.2.0.$3.1:$0.2.1\" itemprop=\"name\"><a class=\"wsj-headline-link\" data-reactid=\".1m44kobsqgw.1.1.6.1.0.2.2.0.$3.1:$0.2.1.0\" href=\"http://www.wsj.com/video/depeche-mode-dave-gahan-discusses-new-album-and-tour/83859EA8-6AA8-499A-A407-32E830D3A000.html\">Depeche Mode's Dave Gahan Discusses New Album and Tour  </a></h3>,\n",
       " <h3 class=\"wsj-headline dj-sg wsj-card-feature heading-4 video locked\" data-reactid=\".1m44kobsqgw.1.1.6.1.0.2.2.0.$3.2:$1.1\" itemprop=\"name\"><a class=\"wsj-headline-link\" data-reactid=\".1m44kobsqgw.1.1.6.1.0.2.2.0.$3.2:$1.1.0\" href=\"http://www.wsj.com/video/public-radio-and-tv-face-threat-of-budget-cuts/D4A15067-198C-4B47-A664-18EC8DB93695.html\">Public Radio and TV Face Threat of Budget Cuts</a></h3>,\n",
       " <h3 class=\"wsj-headline dj-sg wsj-card-feature heading-4 video locked\" data-reactid=\".1m44kobsqgw.1.1.6.1.0.2.2.0.$3.2:$2.1\" itemprop=\"name\"><a class=\"wsj-headline-link\" data-reactid=\".1m44kobsqgw.1.1.6.1.0.2.2.0.$3.2:$2.1.0\" href=\"http://www.wsj.com/video/trump-meets-with-gop-leaders-to-rally-behind-new-health-law/B633DFC7-1E64-4EB9-B902-CF08616C283D.html\">Trump Meets With GOP Leaders to Rally Behind New Health Law</a></h3>,\n",
       " <h3 class=\"wsj-headline dj-sg wsj-card-feature heading-4 unlocked\" data-reactid=\".1m44kobsqgw.1.1.6.1.0.2.2.0.$4.1:$0.2.1\" itemprop=\"name\"><a class=\"wsj-headline-link\" data-reactid=\".1m44kobsqgw.1.1.6.1.0.2.2.0.$4.1:$0.2.1.0\" href=\"http://blogs.wsj.com/washwire/2017/03/11/following-health-care-tweet-medicaid-official-cancels-sxsw-appearance/\">Following Health-Care Tweet, Medicaid Official Cancels SXSW Appearance</a></h3>,\n",
       " <h3 class=\"wsj-headline dj-sg wsj-card-feature heading-4 unlocked\" data-reactid=\".1m44kobsqgw.1.1.6.1.0.2.2.0.$4.2:$1.1\" itemprop=\"name\"><a class=\"wsj-headline-link\" data-reactid=\".1m44kobsqgw.1.1.6.1.0.2.2.0.$4.2:$1.1.0\" href=\"http://blogs.wsj.com/washwire/2017/03/10/white-house-we-were-a-little-excited-by-the-jobs-report/\">Why White House Broke \\u2018One Hour\\u2019 Rule: \\u2018We Were a Little Excited\\u2019 by the Jobs Report</a></h3>,\n",
       " <h3 class=\"wsj-headline dj-sg wsj-card-feature heading-4 unlocked\" data-reactid=\".1m44kobsqgw.1.1.6.1.0.2.2.0.$4.2:$2.1\" itemprop=\"name\"><a class=\"wsj-headline-link\" data-reactid=\".1m44kobsqgw.1.1.6.1.0.2.2.0.$4.2:$2.1.0\" href=\"http://blogs.wsj.com/washwire/2017/03/10/in-office-trump-changes-his-tune-on-job-growth-numbers-he-once-denounced/\">White House on Jobs Numbers: \\u2018Phony\\u2019 Under Obama, but \\u2018Real\\u2019 Now</a></h3>,\n",
       " <h3 class=\"wsj-headline dj-sg wsj-card-feature heading-5 locked\" data-reactid=\".1m44kobsqgw.1.1.6.1.0.2.3.$0.$1.1:$0.2.1\" itemprop=\"name\"><a class=\"wsj-headline-link\" data-reactid=\".1m44kobsqgw.1.1.6.1.0.2.3.$0.$1.1:$0.2.1.0\" href=\"https://www.wsj.com/articles/authorities-questioning-cia-contractors-in-connection-with-wikileaks-dump-1489283964\">CIA Contractors Questioned About WikiLeaks Dump</a></h3>,\n",
       " <h3 class=\"wsj-headline dj-sg wsj-card-feature heading-5 locked\" data-reactid=\".1m44kobsqgw.1.1.6.1.0.2.3.$0.$1.2:$1.1\" itemprop=\"name\"><a class=\"wsj-headline-link\" data-reactid=\".1m44kobsqgw.1.1.6.1.0.2.3.$0.$1.2:$1.1.0\" href=\"https://www.wsj.com/articles/wikileaks-assange-says-group-will-help-tech-firms-defend-against-cia-hacking-1489074870\">Assange: WikiLeaks Will Help Tech Firms Defend Against CIA Hacking</a></h3>,\n",
       " <h3 class=\"wsj-headline dj-sg wsj-card-feature heading-5 locked\" data-reactid=\".1m44kobsqgw.1.1.6.1.0.2.3.$0.$1.2:$2.1\" itemprop=\"name\"><a class=\"wsj-headline-link\" data-reactid=\".1m44kobsqgw.1.1.6.1.0.2.3.$0.$1.2:$2.1.0\" href=\"https://www.wsj.com/articles/wikileaks-reveals-cia-hacking-projects-from-weeping-angel-to-hammer-drill-1489017814\">WikiLeaks Reveals CIA Hacking Tools</a></h3>,\n",
       " <h3 class=\"wsj-headline dj-sg wsj-card-feature heading-5 locked\" data-reactid=\".1m44kobsqgw.1.1.6.1.0.2.3.$0.$2.1:$0.2.1\" itemprop=\"name\"><a class=\"wsj-headline-link\" data-reactid=\".1m44kobsqgw.1.1.6.1.0.2.3.$0.$2.1:$0.2.1.0\" href=\"https://www.wsj.com/articles/donald-trump-plays-background-role-in-health-care-battle-1489174847\">Trump Plays Background Role on Health Care</a></h3>,\n",
       " <h3 class=\"wsj-headline dj-sg wsj-card-feature heading-5 locked\" data-reactid=\".1m44kobsqgw.1.1.6.1.0.2.3.$0.$2.2:$1.1\" itemprop=\"name\"><a class=\"wsj-headline-link\" data-reactid=\".1m44kobsqgw.1.1.6.1.0.2.3.$0.$2.2:$1.1.0\" href=\"https://www.wsj.com/articles/trump-expected-to-nominate-scott-gottlieb-to-lead-fda-1489172182\">Trump to Nominate Scott Gottlieb to Lead FDA</a></h3>,\n",
       " <h3 class=\"wsj-headline dj-sg wsj-card-feature heading-5 locked\" data-reactid=\".1m44kobsqgw.1.1.6.1.0.2.3.$0.$2.2:$2.1\" itemprop=\"name\"><a class=\"wsj-headline-link\" data-reactid=\".1m44kobsqgw.1.1.6.1.0.2.3.$0.$2.2:$2.1.0\" href=\"https://www.wsj.com/articles/early-victory-for-house-health-bill-but-opposition-remains-strong-1489073075\">House Advances Health Overhaul</a></h3>,\n",
       " <h3 class=\"wsj-headline dj-sg wsj-card-feature heading-5 unlocked\" data-reactid=\".1m44kobsqgw.1.1.6.1.0.2.3.$0.$3.1:$0.2.1\" itemprop=\"name\"><a class=\"wsj-headline-link\" data-reactid=\".1m44kobsqgw.1.1.6.1.0.2.3.$0.$3.1:$0.2.1.0\" href=\"http://blogs.wsj.com/economics/2017/03/10/economists-react-to-the-february-jobs-report-a-march-hike-is-a-done-deal/\">Economists React to the February Jobs Report: \\u2018A March Hike Is a Done Deal\\u2019</a></h3>,\n",
       " <h3 class=\"wsj-headline dj-sg wsj-card-feature heading-5 unlocked\" data-reactid=\".1m44kobsqgw.1.1.6.1.0.2.3.$0.$3.2:$1.1\" itemprop=\"name\"><a class=\"wsj-headline-link\" data-reactid=\".1m44kobsqgw.1.1.6.1.0.2.3.$0.$3.2:$1.1.0\" href=\"http://blogs.wsj.com/economics/2017/03/10/the-february-jobs-report-in-11-charts/\">The February Jobs Report in 11 Charts</a></h3>,\n",
       " <h3 class=\"wsj-headline dj-sg wsj-card-feature heading-5 unlocked\" data-reactid=\".1m44kobsqgw.1.1.6.1.0.2.3.$0.$3.2:$2.1\" itemprop=\"name\"><a class=\"wsj-headline-link\" data-reactid=\".1m44kobsqgw.1.1.6.1.0.2.3.$0.$3.2:$2.1.0\" href=\"http://blogs.wsj.com/economics/2017/03/08/januarys-wage-mystery-could-be-solved-in-fridays-jobs-report/\">January\\u2019s Wage Mystery Could Be Solved in Friday\\u2019s Jobs Report</a></h3>,\n",
       " <h3 class=\"wsj-headline dj-sg wsj-card-feature heading-5 locked\" data-reactid=\".1m44kobsqgw.1.1.6.1.0.2.3.$1.$0.1:$0.2.1\" itemprop=\"name\"><a class=\"wsj-headline-link\" data-reactid=\".1m44kobsqgw.1.1.6.1.0.2.3.$1.$0.1:$0.2.1.0\" href=\"https://www.wsj.com/articles/senators-seek-review-of-criminal-justice-system-1489015783\">Senators Seek Review of Criminal Justice System</a></h3>,\n",
       " <h3 class=\"wsj-headline dj-sg wsj-card-feature heading-5 locked\" data-reactid=\".1m44kobsqgw.1.1.6.1.0.2.3.$1.$0.2:$1.1\" itemprop=\"name\"><a class=\"wsj-headline-link\" data-reactid=\".1m44kobsqgw.1.1.6.1.0.2.3.$1.$0.2:$1.1.0\" href=\"https://www.wsj.com/articles/a-plan-b-for-the-gop-raise-warren-buffetts-taxes-1488995006\">A Plan B for the GOP: Raise Taxes on the Likes of Buffett</a></h3>,\n",
       " <h3 class=\"wsj-headline dj-sg wsj-card-feature heading-5 locked\" data-reactid=\".1m44kobsqgw.1.1.6.1.0.2.3.$1.$0.2:$2.1\" itemprop=\"name\"><a class=\"wsj-headline-link\" data-reactid=\".1m44kobsqgw.1.1.6.1.0.2.3.$1.$0.2:$2.1.0\" href=\"https://www.wsj.com/articles/furor-over-russias-hacking-puts-congressional-republicans-on-hot-seat-1488819319\">Furor Over Russia\\u2019s Hacking Puts Congressional Republicans on Hot Seat</a></h3>]"
      ]
     },
     "execution_count": 3,
     "metadata": {},
     "output_type": "execute_result"
    }
   ],
   "source": [
    "links"
   ]
  },
  {
   "cell_type": "code",
   "execution_count": 4,
   "metadata": {
    "collapsed": true
   },
   "outputs": [],
   "source": [
    "links = [val for sublist in links for val in sublist]"
   ]
  },
  {
   "cell_type": "code",
   "execution_count": 5,
   "metadata": {
    "collapsed": true
   },
   "outputs": [],
   "source": [
    "l = []\n",
    "for i in range(0,len(links)):\n",
    "    try:\n",
    "        l.append((links[i].getText()).encode('ascii','ignore'))\n",
    "        #l = l.translate({ 0x2018:0x27, 0x2019:0x27, 0x201C:0x22, 0x201D:0x22, 0x2026:0x20 })\n",
    "    except:\n",
    "        continue\n",
    "links = map(lambda s: s.strip(), l)"
   ]
  },
  {
   "cell_type": "code",
   "execution_count": 6,
   "metadata": {
    "collapsed": false
   },
   "outputs": [
    {
     "data": {
      "text/plain": [
       "['Lawmakers Debate Fate of Medicaid',\n",
       " 'Whats Next for the Republican Health Bill',\n",
       " 'Republican Health Plan Would Delay, Not Repeal, Cadillac Tax',\n",
       " 'Pence Appeals for Complete GOP Support for Health Overhaul',\n",
       " 'GOP Health Plan Risks Backlash From Seniors',\n",
       " 'U.S. Attorney Fired After Refusing Request to Resign',\n",
       " 'Intruder Arrested After Scaling White House Fence',\n",
       " 'Federal Judges Find Racial Gerrymandering in 3 Texas Districts',\n",
       " 'Trump Lowers Profile After Obama Wiretap Accusation',\n",
       " 'Public Radio, TV Stations Face New Budget Threats',\n",
       " 'What WikiLeaks Really Revealed About the CIA',\n",
       " 'Trump Didnt Know of Flynns Work for Turkey Before Nomination',\n",
       " 'Pentagon Tries to Rein In Nude-Photo Fallout',\n",
       " 'Think a Negative Trump Tweet Crushes a Stock? Think Again',\n",
       " 'The First 100 Days: Read WSJs Analysis',\n",
       " 'Makeup of High Court Over Time',\n",
       " 'The world reacts. We analyze.',\n",
       " \"Depeche Mode's Dave Gahan Discusses New Album and Tour\",\n",
       " 'Public Radio and TV Face Threat of Budget Cuts',\n",
       " 'Trump Meets With GOP Leaders to Rally Behind New Health Law',\n",
       " 'Following Health-Care Tweet, Medicaid Official Cancels SXSW Appearance',\n",
       " 'Why White House Broke One Hour Rule: We Were a Little Excited by the Jobs Report',\n",
       " 'White House on Jobs Numbers: Phony Under Obama, but Real Now',\n",
       " 'CIA Contractors Questioned About WikiLeaks Dump',\n",
       " 'Assange: WikiLeaks Will Help Tech Firms Defend Against CIA Hacking',\n",
       " 'WikiLeaks Reveals CIA Hacking Tools',\n",
       " 'Trump Plays Background Role on Health Care',\n",
       " 'Trump to Nominate Scott Gottlieb to Lead FDA',\n",
       " 'House Advances Health Overhaul',\n",
       " 'Economists React to the February Jobs Report: A March Hike Is a Done Deal',\n",
       " 'The February Jobs Report in 11 Charts',\n",
       " 'Januarys Wage Mystery Could Be Solved in Fridays Jobs Report',\n",
       " 'Senators Seek Review of Criminal Justice System',\n",
       " 'A Plan B for the GOP: Raise Taxes on the Likes of Buffett',\n",
       " 'Furor Over Russias Hacking Puts Congressional Republicans on Hot Seat']"
      ]
     },
     "execution_count": 6,
     "metadata": {},
     "output_type": "execute_result"
    }
   ],
   "source": [
    "links"
   ]
  },
  {
   "cell_type": "code",
   "execution_count": 7,
   "metadata": {
    "collapsed": false
   },
   "outputs": [
    {
     "data": {
      "text/plain": [
       "['Lawmakers Debate Fate of Medicaid',\n",
       " 'Whats Next for the Republican Health Bill',\n",
       " 'Republican Health Plan Would Delay, Not Repeal, Cadillac Tax',\n",
       " 'Pence Appeals for Complete GOP Support for Health Overhaul',\n",
       " 'GOP Health Plan Risks Backlash From Seniors',\n",
       " 'U.S. Attorney Fired After Refusing Request to Resign',\n",
       " 'Intruder Arrested After Scaling White House Fence',\n",
       " 'Federal Judges Find Racial Gerrymandering in 3 Texas Districts',\n",
       " 'Trump Lowers Profile After Obama Wiretap Accusation',\n",
       " 'Public Radio, TV Stations Face New Budget Threats',\n",
       " 'What WikiLeaks Really Revealed About the CIA',\n",
       " 'Trump Didnt Know of Flynns Work for Turkey Before Nomination',\n",
       " 'Pentagon Tries to Rein In Nude-Photo Fallout',\n",
       " 'Think a Negative Trump Tweet Crushes a Stock? Think Again',\n",
       " 'The First 100 Days: Read WSJs Analysis',\n",
       " 'Makeup of High Court Over Time',\n",
       " 'The world reacts. We analyze.',\n",
       " \"Depeche Mode's Dave Gahan Discusses New Album and Tour\",\n",
       " 'Public Radio and TV Face Threat of Budget Cuts',\n",
       " 'Trump Meets With GOP Leaders to Rally Behind New Health Law',\n",
       " 'Following Health-Care Tweet, Medicaid Official Cancels SXSW Appearance',\n",
       " 'Why White House Broke One Hour Rule: We Were a Little Excited by the Jobs Report',\n",
       " 'White House on Jobs Numbers: Phony Under Obama, but Real Now',\n",
       " 'CIA Contractors Questioned About WikiLeaks Dump',\n",
       " 'Assange: WikiLeaks Will Help Tech Firms Defend Against CIA Hacking',\n",
       " 'WikiLeaks Reveals CIA Hacking Tools',\n",
       " 'Trump Plays Background Role on Health Care',\n",
       " 'Trump to Nominate Scott Gottlieb to Lead FDA',\n",
       " 'House Advances Health Overhaul',\n",
       " 'Economists React to the February Jobs Report: A March Hike Is a Done Deal',\n",
       " 'The February Jobs Report in 11 Charts',\n",
       " 'Januarys Wage Mystery Could Be Solved in Fridays Jobs Report',\n",
       " 'Senators Seek Review of Criminal Justice System',\n",
       " 'A Plan B for the GOP: Raise Taxes on the Likes of Buffett',\n",
       " 'Furor Over Russias Hacking Puts Congressional Republicans on Hot Seat']"
      ]
     },
     "execution_count": 7,
     "metadata": {},
     "output_type": "execute_result"
    }
   ],
   "source": [
    "links = map(lambda s: s.encode(\"utf-8\"), links)\n",
    "links = [x.rstrip('\\n') for x in links]\n",
    "links"
   ]
  },
  {
   "cell_type": "code",
   "execution_count": 8,
   "metadata": {
    "collapsed": true
   },
   "outputs": [],
   "source": [
    "trumps_admin = ['whitehouse','trump','conway','sessions','pence','president','tillerson','devos','flynn','kushner','carson','department','preibus','bannon','spicer','miller']"
   ]
  },
  {
   "cell_type": "code",
   "execution_count": 9,
   "metadata": {
    "collapsed": true
   },
   "outputs": [],
   "source": [
    "links = [x.lower() for x in links]\n"
   ]
  },
  {
   "cell_type": "code",
   "execution_count": 10,
   "metadata": {
    "collapsed": false
   },
   "outputs": [
    {
     "data": {
      "text/plain": [
       "['trump lowers profile after obama wiretap accusation',\n",
       " 'trump didnt know of flynns work for turkey before nomination',\n",
       " 'think a negative trump tweet crushes a stock? think again',\n",
       " 'trump meets with gop leaders to rally behind new health law',\n",
       " 'trump plays background role on health care',\n",
       " 'trump to nominate scott gottlieb to lead fda',\n",
       " 'pence appeals for complete gop support for health overhaul',\n",
       " 'trump didnt know of flynns work for turkey before nomination']"
      ]
     },
     "execution_count": 10,
     "metadata": {},
     "output_type": "execute_result"
    }
   ],
   "source": [
    "total_titles = []\n",
    "for admin in trumps_admin:\n",
    "    titles = [x for x in links if admin in x]\n",
    "    total_titles.extend(titles)\n",
    "total_titles"
   ]
  },
  {
   "cell_type": "code",
   "execution_count": 11,
   "metadata": {
    "collapsed": true
   },
   "outputs": [],
   "source": [
    "title_file = open(\"wsj.txt\", \"a\")"
   ]
  },
  {
   "cell_type": "code",
   "execution_count": 12,
   "metadata": {
    "collapsed": true
   },
   "outputs": [],
   "source": [
    "for i in range(0, len(total_titles)):\n",
    "    temp = total_titles[i]\n",
    "    title_file.write(temp + '\\n')"
   ]
  },
  {
   "cell_type": "code",
   "execution_count": 13,
   "metadata": {
    "collapsed": true
   },
   "outputs": [],
   "source": [
    "title_names = []\n",
    "title_file = open(\"wsj.txt\",\"r\")\n",
    "for line in title_file:\n",
    "    line = line.strip()\n",
    "    title_names.append(line)\n",
    "title_file.close()"
   ]
  },
  {
   "cell_type": "code",
   "execution_count": 14,
   "metadata": {
    "collapsed": false
   },
   "outputs": [
    {
     "data": {
      "text/plain": [
       "['hawaii judge agrees to hearing on trump immigration order',\n",
       " 'trump begins to map out $1 trillion infrastructure plan',\n",
       " 'cummings asks trump to moderate rhetoric on black neighborhoods',\n",
       " 'ivanka trumps landlord is a chilean who is suing the u.s.',\n",
       " 'think a negative trump tweet crushes a stock? think again',\n",
       " 'democrats say trump agreed to pursue authority to negotiate drug prices',\n",
       " 'elijah cummings says he asked trump to tone down rhetoric about black neighborhoods',\n",
       " 'as trump heads to congress, polarization is hardening',\n",
       " 'trump lowers profile after obama wiretap accusation',\n",
       " 'in office, trump changes his tune on job growth numbers he once denounced',\n",
       " 'washington state to fight new trump travel order',\n",
       " 'think a negative trump tweet crushes a stock? think again',\n",
       " 'trump meets with gop leaders to rally behind new health law',\n",
       " 'are trumps deleted tweets official records? the house oversight committee thinks so',\n",
       " 'will trumpcare catch on? the democrats are trying',\n",
       " 'hawaii judge agrees to hearing on trump immigration order',\n",
       " 'trump expected to nominate scott gottlieb to lead fda',\n",
       " 'trump lowers profile after obama wiretap accusation',\n",
       " 'trump didnt know of flynns work for turkey before nomination',\n",
       " 'think a negative trump tweet crushes a stock? think again',\n",
       " 'trump meets with gop leaders to rally behind new health law',\n",
       " 'trump plays background role on health care',\n",
       " 'trump to nominate scott gottlieb to lead fda',\n",
       " 'pence appeals for complete gop support for health overhaul',\n",
       " 'trump didnt know of flynns work for turkey before nomination']"
      ]
     },
     "execution_count": 14,
     "metadata": {},
     "output_type": "execute_result"
    }
   ],
   "source": [
    "title_names"
   ]
  },
  {
   "cell_type": "code",
   "execution_count": 15,
   "metadata": {
    "collapsed": false
   },
   "outputs": [
    {
     "data": {
      "text/plain": [
       "25"
      ]
     },
     "execution_count": 15,
     "metadata": {},
     "output_type": "execute_result"
    }
   ],
   "source": [
    "len(title_names)"
   ]
  },
  {
   "cell_type": "code",
   "execution_count": null,
   "metadata": {
    "collapsed": true
   },
   "outputs": [],
   "source": []
  }
 ],
 "metadata": {
  "anaconda-cloud": {},
  "kernelspec": {
   "display_name": "Python [default]",
   "language": "python",
   "name": "python2"
  },
  "language_info": {
   "codemirror_mode": {
    "name": "ipython",
    "version": 2
   },
   "file_extension": ".py",
   "mimetype": "text/x-python",
   "name": "python",
   "nbconvert_exporter": "python",
   "pygments_lexer": "ipython2",
   "version": "2.7.12"
  }
 },
 "nbformat": 4,
 "nbformat_minor": 1
}
